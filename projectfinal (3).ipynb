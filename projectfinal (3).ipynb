{
  "cells": [
    {
      "cell_type": "code",
      "execution_count": null,
      "metadata": {
        "colab": {
          "base_uri": "https://localhost:8080/"
        },
        "id": "5qas-8X1_BRe",
        "outputId": "7fc6fe13-5de2-4fd0-8cb9-c2be6a91188b"
      },
      "outputs": [
        {
          "output_type": "stream",
          "name": "stdout",
          "text": [
            "Looking in indexes: https://pypi.org/simple, https://us-python.pkg.dev/colab-wheels/public/simple/\n",
            "Requirement already satisfied: tensorflow in /usr/local/lib/python3.10/dist-packages (2.12.0)\n",
            "Requirement already satisfied: absl-py>=1.0.0 in /usr/local/lib/python3.10/dist-packages (from tensorflow) (1.4.0)\n",
            "Requirement already satisfied: astunparse>=1.6.0 in /usr/local/lib/python3.10/dist-packages (from tensorflow) (1.6.3)\n",
            "Requirement already satisfied: flatbuffers>=2.0 in /usr/local/lib/python3.10/dist-packages (from tensorflow) (23.3.3)\n",
            "Requirement already satisfied: gast<=0.4.0,>=0.2.1 in /usr/local/lib/python3.10/dist-packages (from tensorflow) (0.4.0)\n",
            "Requirement already satisfied: google-pasta>=0.1.1 in /usr/local/lib/python3.10/dist-packages (from tensorflow) (0.2.0)\n",
            "Requirement already satisfied: grpcio<2.0,>=1.24.3 in /usr/local/lib/python3.10/dist-packages (from tensorflow) (1.54.0)\n",
            "Requirement already satisfied: h5py>=2.9.0 in /usr/local/lib/python3.10/dist-packages (from tensorflow) (3.8.0)\n",
            "Requirement already satisfied: jax>=0.3.15 in /usr/local/lib/python3.10/dist-packages (from tensorflow) (0.4.10)\n",
            "Requirement already satisfied: keras<2.13,>=2.12.0 in /usr/local/lib/python3.10/dist-packages (from tensorflow) (2.12.0)\n",
            "Requirement already satisfied: libclang>=13.0.0 in /usr/local/lib/python3.10/dist-packages (from tensorflow) (16.0.0)\n",
            "Requirement already satisfied: numpy<1.24,>=1.22 in /usr/local/lib/python3.10/dist-packages (from tensorflow) (1.22.4)\n",
            "Requirement already satisfied: opt-einsum>=2.3.2 in /usr/local/lib/python3.10/dist-packages (from tensorflow) (3.3.0)\n",
            "Requirement already satisfied: packaging in /usr/local/lib/python3.10/dist-packages (from tensorflow) (23.1)\n",
            "Requirement already satisfied: protobuf!=4.21.0,!=4.21.1,!=4.21.2,!=4.21.3,!=4.21.4,!=4.21.5,<5.0.0dev,>=3.20.3 in /usr/local/lib/python3.10/dist-packages (from tensorflow) (3.20.3)\n",
            "Requirement already satisfied: setuptools in /usr/local/lib/python3.10/dist-packages (from tensorflow) (67.7.2)\n",
            "Requirement already satisfied: six>=1.12.0 in /usr/local/lib/python3.10/dist-packages (from tensorflow) (1.16.0)\n",
            "Requirement already satisfied: tensorboard<2.13,>=2.12 in /usr/local/lib/python3.10/dist-packages (from tensorflow) (2.12.2)\n",
            "Requirement already satisfied: tensorflow-estimator<2.13,>=2.12.0 in /usr/local/lib/python3.10/dist-packages (from tensorflow) (2.12.0)\n",
            "Requirement already satisfied: termcolor>=1.1.0 in /usr/local/lib/python3.10/dist-packages (from tensorflow) (2.3.0)\n",
            "Requirement already satisfied: typing-extensions>=3.6.6 in /usr/local/lib/python3.10/dist-packages (from tensorflow) (4.5.0)\n",
            "Requirement already satisfied: wrapt<1.15,>=1.11.0 in /usr/local/lib/python3.10/dist-packages (from tensorflow) (1.14.1)\n",
            "Requirement already satisfied: tensorflow-io-gcs-filesystem>=0.23.1 in /usr/local/lib/python3.10/dist-packages (from tensorflow) (0.32.0)\n",
            "Requirement already satisfied: wheel<1.0,>=0.23.0 in /usr/local/lib/python3.10/dist-packages (from astunparse>=1.6.0->tensorflow) (0.40.0)\n",
            "Requirement already satisfied: ml-dtypes>=0.1.0 in /usr/local/lib/python3.10/dist-packages (from jax>=0.3.15->tensorflow) (0.1.0)\n",
            "Requirement already satisfied: scipy>=1.7 in /usr/local/lib/python3.10/dist-packages (from jax>=0.3.15->tensorflow) (1.10.1)\n",
            "Requirement already satisfied: google-auth<3,>=1.6.3 in /usr/local/lib/python3.10/dist-packages (from tensorboard<2.13,>=2.12->tensorflow) (2.17.3)\n",
            "Requirement already satisfied: google-auth-oauthlib<1.1,>=0.5 in /usr/local/lib/python3.10/dist-packages (from tensorboard<2.13,>=2.12->tensorflow) (1.0.0)\n",
            "Requirement already satisfied: markdown>=2.6.8 in /usr/local/lib/python3.10/dist-packages (from tensorboard<2.13,>=2.12->tensorflow) (3.4.3)\n",
            "Requirement already satisfied: requests<3,>=2.21.0 in /usr/local/lib/python3.10/dist-packages (from tensorboard<2.13,>=2.12->tensorflow) (2.27.1)\n",
            "Requirement already satisfied: tensorboard-data-server<0.8.0,>=0.7.0 in /usr/local/lib/python3.10/dist-packages (from tensorboard<2.13,>=2.12->tensorflow) (0.7.0)\n",
            "Requirement already satisfied: tensorboard-plugin-wit>=1.6.0 in /usr/local/lib/python3.10/dist-packages (from tensorboard<2.13,>=2.12->tensorflow) (1.8.1)\n",
            "Requirement already satisfied: werkzeug>=1.0.1 in /usr/local/lib/python3.10/dist-packages (from tensorboard<2.13,>=2.12->tensorflow) (2.3.0)\n",
            "Requirement already satisfied: cachetools<6.0,>=2.0.0 in /usr/local/lib/python3.10/dist-packages (from google-auth<3,>=1.6.3->tensorboard<2.13,>=2.12->tensorflow) (5.3.0)\n",
            "Requirement already satisfied: pyasn1-modules>=0.2.1 in /usr/local/lib/python3.10/dist-packages (from google-auth<3,>=1.6.3->tensorboard<2.13,>=2.12->tensorflow) (0.3.0)\n",
            "Requirement already satisfied: rsa<5,>=3.1.4 in /usr/local/lib/python3.10/dist-packages (from google-auth<3,>=1.6.3->tensorboard<2.13,>=2.12->tensorflow) (4.9)\n",
            "Requirement already satisfied: requests-oauthlib>=0.7.0 in /usr/local/lib/python3.10/dist-packages (from google-auth-oauthlib<1.1,>=0.5->tensorboard<2.13,>=2.12->tensorflow) (1.3.1)\n",
            "Requirement already satisfied: urllib3<1.27,>=1.21.1 in /usr/local/lib/python3.10/dist-packages (from requests<3,>=2.21.0->tensorboard<2.13,>=2.12->tensorflow) (1.26.15)\n",
            "Requirement already satisfied: certifi>=2017.4.17 in /usr/local/lib/python3.10/dist-packages (from requests<3,>=2.21.0->tensorboard<2.13,>=2.12->tensorflow) (2022.12.7)\n",
            "Requirement already satisfied: charset-normalizer~=2.0.0 in /usr/local/lib/python3.10/dist-packages (from requests<3,>=2.21.0->tensorboard<2.13,>=2.12->tensorflow) (2.0.12)\n",
            "Requirement already satisfied: idna<4,>=2.5 in /usr/local/lib/python3.10/dist-packages (from requests<3,>=2.21.0->tensorboard<2.13,>=2.12->tensorflow) (3.4)\n",
            "Requirement already satisfied: MarkupSafe>=2.1.1 in /usr/local/lib/python3.10/dist-packages (from werkzeug>=1.0.1->tensorboard<2.13,>=2.12->tensorflow) (2.1.2)\n",
            "Requirement already satisfied: pyasn1<0.6.0,>=0.4.6 in /usr/local/lib/python3.10/dist-packages (from pyasn1-modules>=0.2.1->google-auth<3,>=1.6.3->tensorboard<2.13,>=2.12->tensorflow) (0.5.0)\n",
            "Requirement already satisfied: oauthlib>=3.0.0 in /usr/local/lib/python3.10/dist-packages (from requests-oauthlib>=0.7.0->google-auth-oauthlib<1.1,>=0.5->tensorboard<2.13,>=2.12->tensorflow) (3.2.2)\n"
          ]
        }
      ],
      "source": [
        "!pip install --upgrade tensorflow"
      ]
    },
    {
      "cell_type": "code",
      "execution_count": null,
      "metadata": {
        "id": "cDXqvViOtjhn"
      },
      "outputs": [],
      "source": []
    },
    {
      "cell_type": "code",
      "execution_count": null,
      "metadata": {
        "colab": {
          "base_uri": "https://localhost:8080/"
        },
        "id": "D5Arst6JPD-c",
        "outputId": "9b825b11-d0ad-45d1-e2ba-c820c90cb8b5"
      },
      "outputs": [
        {
          "output_type": "stream",
          "name": "stdout",
          "text": [
            "Looking in indexes: https://pypi.org/simple, https://us-python.pkg.dev/colab-wheels/public/simple/\n",
            "Requirement already satisfied: kaggle in /usr/local/lib/python3.10/dist-packages (1.5.13)\n",
            "Requirement already satisfied: six>=1.10 in /usr/local/lib/python3.10/dist-packages (from kaggle) (1.16.0)\n",
            "Requirement already satisfied: certifi in /usr/local/lib/python3.10/dist-packages (from kaggle) (2022.12.7)\n",
            "Requirement already satisfied: python-dateutil in /usr/local/lib/python3.10/dist-packages (from kaggle) (2.8.2)\n",
            "Requirement already satisfied: requests in /usr/local/lib/python3.10/dist-packages (from kaggle) (2.27.1)\n",
            "Requirement already satisfied: tqdm in /usr/local/lib/python3.10/dist-packages (from kaggle) (4.65.0)\n",
            "Requirement already satisfied: python-slugify in /usr/local/lib/python3.10/dist-packages (from kaggle) (8.0.1)\n",
            "Requirement already satisfied: urllib3 in /usr/local/lib/python3.10/dist-packages (from kaggle) (1.26.15)\n",
            "Requirement already satisfied: text-unidecode>=1.3 in /usr/local/lib/python3.10/dist-packages (from python-slugify->kaggle) (1.3)\n",
            "Requirement already satisfied: charset-normalizer~=2.0.0 in /usr/local/lib/python3.10/dist-packages (from requests->kaggle) (2.0.12)\n",
            "Requirement already satisfied: idna<4,>=2.5 in /usr/local/lib/python3.10/dist-packages (from requests->kaggle) (3.4)\n"
          ]
        }
      ],
      "source": [
        "! pip install kaggle"
      ]
    },
    {
      "cell_type": "code",
      "execution_count": null,
      "metadata": {
        "id": "iK2QH3WmPeeA"
      },
      "outputs": [],
      "source": [
        "! mkdir ~/.kaggle"
      ]
    },
    {
      "cell_type": "code",
      "execution_count": null,
      "metadata": {
        "id": "PwUhl4-HPtzJ"
      },
      "outputs": [],
      "source": [
        "! cp kaggle.json ~/.kaggle/"
      ]
    },
    {
      "cell_type": "code",
      "execution_count": null,
      "metadata": {
        "id": "7jCuIvWqP7As"
      },
      "outputs": [],
      "source": [
        "! chmod 600 ~/.kaggle/kaggle.json"
      ]
    },
    {
      "cell_type": "code",
      "execution_count": null,
      "metadata": {
        "colab": {
          "base_uri": "https://localhost:8080/"
        },
        "id": "tFn6LYjjRbdo",
        "outputId": "ab8b8288-d89e-46fd-b1de-7e2deca5d30f"
      },
      "outputs": [
        {
          "output_type": "stream",
          "name": "stdout",
          "text": [
            "Downloading creditcardfraud.zip to /content\n",
            " 86% 57.0M/66.0M [00:00<00:00, 178MB/s]\n",
            "100% 66.0M/66.0M [00:00<00:00, 179MB/s]\n"
          ]
        }
      ],
      "source": [
        "! kaggle datasets download mlg-ulb/creditcardfraud"
      ]
    },
    {
      "cell_type": "code",
      "execution_count": null,
      "metadata": {
        "id": "kGUtT8zBi9BO"
      },
      "outputs": [],
      "source": [
        "import zipfile\n",
        "\n",
        "def unzip_file(zip_path, extract_path):\n",
        "    with zipfile.ZipFile(zip_path, 'r') as zip_ref:\n",
        "        zip_ref.extractall(extract_path)\n",
        "\n",
        "# Example usage\n",
        "zip_file_path = 'creditcardfraud.zip'\n",
        "extract_directory = 'DatasetsFile/'\n",
        "unzip_file(zip_file_path, extract_directory)\n"
      ]
    },
    {
      "cell_type": "code",
      "execution_count": null,
      "metadata": {
        "id": "_aj3KBCJtkCc"
      },
      "outputs": [],
      "source": [
        "import pandas as pd\n",
        "import numpy as np\n",
        "import keras\n",
        "from matplotlib import pyplot as plt\n",
        "import seaborn as sns\n",
        "import numpy as np\n",
        "import tensorflow as tf\n",
        "from sklearn.svm import SVC\n",
        "from sklearn.svm import LinearSVC\n",
        "from sklearn.metrics import classification_report\n",
        "from tensorflow.keras.models import Sequential\n",
        "from tensorflow.keras.layers import Dense, Dropout\n",
        "from sklearn.datasets import make_classification\n",
        "from sklearn.model_selection import train_test_split\n",
        "from sklearn.metrics import confusion_matrix, classification_report\n"
      ]
    },
    {
      "cell_type": "code",
      "execution_count": null,
      "metadata": {
        "colab": {
          "base_uri": "https://localhost:8080/",
          "height": 487
        },
        "id": "AeH3efIWtkCc",
        "outputId": "a6306348-fd69-4598-8ff1-e0f08a40a080"
      },
      "outputs": [
        {
          "output_type": "execute_result",
          "data": {
            "text/plain": [
              "            Time         V1         V2        V3        V4        V5  \\\n",
              "0            0.0  -1.359807  -0.072781  2.536347  1.378155 -0.338321   \n",
              "1            0.0   1.191857   0.266151  0.166480  0.448154  0.060018   \n",
              "2            1.0  -1.358354  -1.340163  1.773209  0.379780 -0.503198   \n",
              "3            1.0  -0.966272  -0.185226  1.792993 -0.863291 -0.010309   \n",
              "4            2.0  -1.158233   0.877737  1.548718  0.403034 -0.407193   \n",
              "...          ...        ...        ...       ...       ...       ...   \n",
              "284802  172786.0 -11.881118  10.071785 -9.834783 -2.066656 -5.364473   \n",
              "284803  172787.0  -0.732789  -0.055080  2.035030 -0.738589  0.868229   \n",
              "284804  172788.0   1.919565  -0.301254 -3.249640 -0.557828  2.630515   \n",
              "284805  172788.0  -0.240440   0.530483  0.702510  0.689799 -0.377961   \n",
              "284806  172792.0  -0.533413  -0.189733  0.703337 -0.506271 -0.012546   \n",
              "\n",
              "              V6        V7        V8        V9  ...       V21       V22  \\\n",
              "0       0.462388  0.239599  0.098698  0.363787  ... -0.018307  0.277838   \n",
              "1      -0.082361 -0.078803  0.085102 -0.255425  ... -0.225775 -0.638672   \n",
              "2       1.800499  0.791461  0.247676 -1.514654  ...  0.247998  0.771679   \n",
              "3       1.247203  0.237609  0.377436 -1.387024  ... -0.108300  0.005274   \n",
              "4       0.095921  0.592941 -0.270533  0.817739  ... -0.009431  0.798278   \n",
              "...          ...       ...       ...       ...  ...       ...       ...   \n",
              "284802 -2.606837 -4.918215  7.305334  1.914428  ...  0.213454  0.111864   \n",
              "284803  1.058415  0.024330  0.294869  0.584800  ...  0.214205  0.924384   \n",
              "284804  3.031260 -0.296827  0.708417  0.432454  ...  0.232045  0.578229   \n",
              "284805  0.623708 -0.686180  0.679145  0.392087  ...  0.265245  0.800049   \n",
              "284806 -0.649617  1.577006 -0.414650  0.486180  ...  0.261057  0.643078   \n",
              "\n",
              "             V23       V24       V25       V26       V27       V28  Amount  \\\n",
              "0      -0.110474  0.066928  0.128539 -0.189115  0.133558 -0.021053  149.62   \n",
              "1       0.101288 -0.339846  0.167170  0.125895 -0.008983  0.014724    2.69   \n",
              "2       0.909412 -0.689281 -0.327642 -0.139097 -0.055353 -0.059752  378.66   \n",
              "3      -0.190321 -1.175575  0.647376 -0.221929  0.062723  0.061458  123.50   \n",
              "4      -0.137458  0.141267 -0.206010  0.502292  0.219422  0.215153   69.99   \n",
              "...          ...       ...       ...       ...       ...       ...     ...   \n",
              "284802  1.014480 -0.509348  1.436807  0.250034  0.943651  0.823731    0.77   \n",
              "284803  0.012463 -1.016226 -0.606624 -0.395255  0.068472 -0.053527   24.79   \n",
              "284804 -0.037501  0.640134  0.265745 -0.087371  0.004455 -0.026561   67.88   \n",
              "284805 -0.163298  0.123205 -0.569159  0.546668  0.108821  0.104533   10.00   \n",
              "284806  0.376777  0.008797 -0.473649 -0.818267 -0.002415  0.013649  217.00   \n",
              "\n",
              "        Class  \n",
              "0           0  \n",
              "1           0  \n",
              "2           0  \n",
              "3           0  \n",
              "4           0  \n",
              "...       ...  \n",
              "284802      0  \n",
              "284803      0  \n",
              "284804      0  \n",
              "284805      0  \n",
              "284806      0  \n",
              "\n",
              "[284807 rows x 31 columns]"
            ],
            "text/html": [
              "\n",
              "  <div id=\"df-dfdaaaaf-6ef8-43d8-868f-5b18a20a2f9d\">\n",
              "    <div class=\"colab-df-container\">\n",
              "      <div>\n",
              "<style scoped>\n",
              "    .dataframe tbody tr th:only-of-type {\n",
              "        vertical-align: middle;\n",
              "    }\n",
              "\n",
              "    .dataframe tbody tr th {\n",
              "        vertical-align: top;\n",
              "    }\n",
              "\n",
              "    .dataframe thead th {\n",
              "        text-align: right;\n",
              "    }\n",
              "</style>\n",
              "<table border=\"1\" class=\"dataframe\">\n",
              "  <thead>\n",
              "    <tr style=\"text-align: right;\">\n",
              "      <th></th>\n",
              "      <th>Time</th>\n",
              "      <th>V1</th>\n",
              "      <th>V2</th>\n",
              "      <th>V3</th>\n",
              "      <th>V4</th>\n",
              "      <th>V5</th>\n",
              "      <th>V6</th>\n",
              "      <th>V7</th>\n",
              "      <th>V8</th>\n",
              "      <th>V9</th>\n",
              "      <th>...</th>\n",
              "      <th>V21</th>\n",
              "      <th>V22</th>\n",
              "      <th>V23</th>\n",
              "      <th>V24</th>\n",
              "      <th>V25</th>\n",
              "      <th>V26</th>\n",
              "      <th>V27</th>\n",
              "      <th>V28</th>\n",
              "      <th>Amount</th>\n",
              "      <th>Class</th>\n",
              "    </tr>\n",
              "  </thead>\n",
              "  <tbody>\n",
              "    <tr>\n",
              "      <th>0</th>\n",
              "      <td>0.0</td>\n",
              "      <td>-1.359807</td>\n",
              "      <td>-0.072781</td>\n",
              "      <td>2.536347</td>\n",
              "      <td>1.378155</td>\n",
              "      <td>-0.338321</td>\n",
              "      <td>0.462388</td>\n",
              "      <td>0.239599</td>\n",
              "      <td>0.098698</td>\n",
              "      <td>0.363787</td>\n",
              "      <td>...</td>\n",
              "      <td>-0.018307</td>\n",
              "      <td>0.277838</td>\n",
              "      <td>-0.110474</td>\n",
              "      <td>0.066928</td>\n",
              "      <td>0.128539</td>\n",
              "      <td>-0.189115</td>\n",
              "      <td>0.133558</td>\n",
              "      <td>-0.021053</td>\n",
              "      <td>149.62</td>\n",
              "      <td>0</td>\n",
              "    </tr>\n",
              "    <tr>\n",
              "      <th>1</th>\n",
              "      <td>0.0</td>\n",
              "      <td>1.191857</td>\n",
              "      <td>0.266151</td>\n",
              "      <td>0.166480</td>\n",
              "      <td>0.448154</td>\n",
              "      <td>0.060018</td>\n",
              "      <td>-0.082361</td>\n",
              "      <td>-0.078803</td>\n",
              "      <td>0.085102</td>\n",
              "      <td>-0.255425</td>\n",
              "      <td>...</td>\n",
              "      <td>-0.225775</td>\n",
              "      <td>-0.638672</td>\n",
              "      <td>0.101288</td>\n",
              "      <td>-0.339846</td>\n",
              "      <td>0.167170</td>\n",
              "      <td>0.125895</td>\n",
              "      <td>-0.008983</td>\n",
              "      <td>0.014724</td>\n",
              "      <td>2.69</td>\n",
              "      <td>0</td>\n",
              "    </tr>\n",
              "    <tr>\n",
              "      <th>2</th>\n",
              "      <td>1.0</td>\n",
              "      <td>-1.358354</td>\n",
              "      <td>-1.340163</td>\n",
              "      <td>1.773209</td>\n",
              "      <td>0.379780</td>\n",
              "      <td>-0.503198</td>\n",
              "      <td>1.800499</td>\n",
              "      <td>0.791461</td>\n",
              "      <td>0.247676</td>\n",
              "      <td>-1.514654</td>\n",
              "      <td>...</td>\n",
              "      <td>0.247998</td>\n",
              "      <td>0.771679</td>\n",
              "      <td>0.909412</td>\n",
              "      <td>-0.689281</td>\n",
              "      <td>-0.327642</td>\n",
              "      <td>-0.139097</td>\n",
              "      <td>-0.055353</td>\n",
              "      <td>-0.059752</td>\n",
              "      <td>378.66</td>\n",
              "      <td>0</td>\n",
              "    </tr>\n",
              "    <tr>\n",
              "      <th>3</th>\n",
              "      <td>1.0</td>\n",
              "      <td>-0.966272</td>\n",
              "      <td>-0.185226</td>\n",
              "      <td>1.792993</td>\n",
              "      <td>-0.863291</td>\n",
              "      <td>-0.010309</td>\n",
              "      <td>1.247203</td>\n",
              "      <td>0.237609</td>\n",
              "      <td>0.377436</td>\n",
              "      <td>-1.387024</td>\n",
              "      <td>...</td>\n",
              "      <td>-0.108300</td>\n",
              "      <td>0.005274</td>\n",
              "      <td>-0.190321</td>\n",
              "      <td>-1.175575</td>\n",
              "      <td>0.647376</td>\n",
              "      <td>-0.221929</td>\n",
              "      <td>0.062723</td>\n",
              "      <td>0.061458</td>\n",
              "      <td>123.50</td>\n",
              "      <td>0</td>\n",
              "    </tr>\n",
              "    <tr>\n",
              "      <th>4</th>\n",
              "      <td>2.0</td>\n",
              "      <td>-1.158233</td>\n",
              "      <td>0.877737</td>\n",
              "      <td>1.548718</td>\n",
              "      <td>0.403034</td>\n",
              "      <td>-0.407193</td>\n",
              "      <td>0.095921</td>\n",
              "      <td>0.592941</td>\n",
              "      <td>-0.270533</td>\n",
              "      <td>0.817739</td>\n",
              "      <td>...</td>\n",
              "      <td>-0.009431</td>\n",
              "      <td>0.798278</td>\n",
              "      <td>-0.137458</td>\n",
              "      <td>0.141267</td>\n",
              "      <td>-0.206010</td>\n",
              "      <td>0.502292</td>\n",
              "      <td>0.219422</td>\n",
              "      <td>0.215153</td>\n",
              "      <td>69.99</td>\n",
              "      <td>0</td>\n",
              "    </tr>\n",
              "    <tr>\n",
              "      <th>...</th>\n",
              "      <td>...</td>\n",
              "      <td>...</td>\n",
              "      <td>...</td>\n",
              "      <td>...</td>\n",
              "      <td>...</td>\n",
              "      <td>...</td>\n",
              "      <td>...</td>\n",
              "      <td>...</td>\n",
              "      <td>...</td>\n",
              "      <td>...</td>\n",
              "      <td>...</td>\n",
              "      <td>...</td>\n",
              "      <td>...</td>\n",
              "      <td>...</td>\n",
              "      <td>...</td>\n",
              "      <td>...</td>\n",
              "      <td>...</td>\n",
              "      <td>...</td>\n",
              "      <td>...</td>\n",
              "      <td>...</td>\n",
              "      <td>...</td>\n",
              "    </tr>\n",
              "    <tr>\n",
              "      <th>284802</th>\n",
              "      <td>172786.0</td>\n",
              "      <td>-11.881118</td>\n",
              "      <td>10.071785</td>\n",
              "      <td>-9.834783</td>\n",
              "      <td>-2.066656</td>\n",
              "      <td>-5.364473</td>\n",
              "      <td>-2.606837</td>\n",
              "      <td>-4.918215</td>\n",
              "      <td>7.305334</td>\n",
              "      <td>1.914428</td>\n",
              "      <td>...</td>\n",
              "      <td>0.213454</td>\n",
              "      <td>0.111864</td>\n",
              "      <td>1.014480</td>\n",
              "      <td>-0.509348</td>\n",
              "      <td>1.436807</td>\n",
              "      <td>0.250034</td>\n",
              "      <td>0.943651</td>\n",
              "      <td>0.823731</td>\n",
              "      <td>0.77</td>\n",
              "      <td>0</td>\n",
              "    </tr>\n",
              "    <tr>\n",
              "      <th>284803</th>\n",
              "      <td>172787.0</td>\n",
              "      <td>-0.732789</td>\n",
              "      <td>-0.055080</td>\n",
              "      <td>2.035030</td>\n",
              "      <td>-0.738589</td>\n",
              "      <td>0.868229</td>\n",
              "      <td>1.058415</td>\n",
              "      <td>0.024330</td>\n",
              "      <td>0.294869</td>\n",
              "      <td>0.584800</td>\n",
              "      <td>...</td>\n",
              "      <td>0.214205</td>\n",
              "      <td>0.924384</td>\n",
              "      <td>0.012463</td>\n",
              "      <td>-1.016226</td>\n",
              "      <td>-0.606624</td>\n",
              "      <td>-0.395255</td>\n",
              "      <td>0.068472</td>\n",
              "      <td>-0.053527</td>\n",
              "      <td>24.79</td>\n",
              "      <td>0</td>\n",
              "    </tr>\n",
              "    <tr>\n",
              "      <th>284804</th>\n",
              "      <td>172788.0</td>\n",
              "      <td>1.919565</td>\n",
              "      <td>-0.301254</td>\n",
              "      <td>-3.249640</td>\n",
              "      <td>-0.557828</td>\n",
              "      <td>2.630515</td>\n",
              "      <td>3.031260</td>\n",
              "      <td>-0.296827</td>\n",
              "      <td>0.708417</td>\n",
              "      <td>0.432454</td>\n",
              "      <td>...</td>\n",
              "      <td>0.232045</td>\n",
              "      <td>0.578229</td>\n",
              "      <td>-0.037501</td>\n",
              "      <td>0.640134</td>\n",
              "      <td>0.265745</td>\n",
              "      <td>-0.087371</td>\n",
              "      <td>0.004455</td>\n",
              "      <td>-0.026561</td>\n",
              "      <td>67.88</td>\n",
              "      <td>0</td>\n",
              "    </tr>\n",
              "    <tr>\n",
              "      <th>284805</th>\n",
              "      <td>172788.0</td>\n",
              "      <td>-0.240440</td>\n",
              "      <td>0.530483</td>\n",
              "      <td>0.702510</td>\n",
              "      <td>0.689799</td>\n",
              "      <td>-0.377961</td>\n",
              "      <td>0.623708</td>\n",
              "      <td>-0.686180</td>\n",
              "      <td>0.679145</td>\n",
              "      <td>0.392087</td>\n",
              "      <td>...</td>\n",
              "      <td>0.265245</td>\n",
              "      <td>0.800049</td>\n",
              "      <td>-0.163298</td>\n",
              "      <td>0.123205</td>\n",
              "      <td>-0.569159</td>\n",
              "      <td>0.546668</td>\n",
              "      <td>0.108821</td>\n",
              "      <td>0.104533</td>\n",
              "      <td>10.00</td>\n",
              "      <td>0</td>\n",
              "    </tr>\n",
              "    <tr>\n",
              "      <th>284806</th>\n",
              "      <td>172792.0</td>\n",
              "      <td>-0.533413</td>\n",
              "      <td>-0.189733</td>\n",
              "      <td>0.703337</td>\n",
              "      <td>-0.506271</td>\n",
              "      <td>-0.012546</td>\n",
              "      <td>-0.649617</td>\n",
              "      <td>1.577006</td>\n",
              "      <td>-0.414650</td>\n",
              "      <td>0.486180</td>\n",
              "      <td>...</td>\n",
              "      <td>0.261057</td>\n",
              "      <td>0.643078</td>\n",
              "      <td>0.376777</td>\n",
              "      <td>0.008797</td>\n",
              "      <td>-0.473649</td>\n",
              "      <td>-0.818267</td>\n",
              "      <td>-0.002415</td>\n",
              "      <td>0.013649</td>\n",
              "      <td>217.00</td>\n",
              "      <td>0</td>\n",
              "    </tr>\n",
              "  </tbody>\n",
              "</table>\n",
              "<p>284807 rows × 31 columns</p>\n",
              "</div>\n",
              "      <button class=\"colab-df-convert\" onclick=\"convertToInteractive('df-dfdaaaaf-6ef8-43d8-868f-5b18a20a2f9d')\"\n",
              "              title=\"Convert this dataframe to an interactive table.\"\n",
              "              style=\"display:none;\">\n",
              "        \n",
              "  <svg xmlns=\"http://www.w3.org/2000/svg\" height=\"24px\"viewBox=\"0 0 24 24\"\n",
              "       width=\"24px\">\n",
              "    <path d=\"M0 0h24v24H0V0z\" fill=\"none\"/>\n",
              "    <path d=\"M18.56 5.44l.94 2.06.94-2.06 2.06-.94-2.06-.94-.94-2.06-.94 2.06-2.06.94zm-11 1L8.5 8.5l.94-2.06 2.06-.94-2.06-.94L8.5 2.5l-.94 2.06-2.06.94zm10 10l.94 2.06.94-2.06 2.06-.94-2.06-.94-.94-2.06-.94 2.06-2.06.94z\"/><path d=\"M17.41 7.96l-1.37-1.37c-.4-.4-.92-.59-1.43-.59-.52 0-1.04.2-1.43.59L10.3 9.45l-7.72 7.72c-.78.78-.78 2.05 0 2.83L4 21.41c.39.39.9.59 1.41.59.51 0 1.02-.2 1.41-.59l7.78-7.78 2.81-2.81c.8-.78.8-2.07 0-2.86zM5.41 20L4 18.59l7.72-7.72 1.47 1.35L5.41 20z\"/>\n",
              "  </svg>\n",
              "      </button>\n",
              "      \n",
              "  <style>\n",
              "    .colab-df-container {\n",
              "      display:flex;\n",
              "      flex-wrap:wrap;\n",
              "      gap: 12px;\n",
              "    }\n",
              "\n",
              "    .colab-df-convert {\n",
              "      background-color: #E8F0FE;\n",
              "      border: none;\n",
              "      border-radius: 50%;\n",
              "      cursor: pointer;\n",
              "      display: none;\n",
              "      fill: #1967D2;\n",
              "      height: 32px;\n",
              "      padding: 0 0 0 0;\n",
              "      width: 32px;\n",
              "    }\n",
              "\n",
              "    .colab-df-convert:hover {\n",
              "      background-color: #E2EBFA;\n",
              "      box-shadow: 0px 1px 2px rgba(60, 64, 67, 0.3), 0px 1px 3px 1px rgba(60, 64, 67, 0.15);\n",
              "      fill: #174EA6;\n",
              "    }\n",
              "\n",
              "    [theme=dark] .colab-df-convert {\n",
              "      background-color: #3B4455;\n",
              "      fill: #D2E3FC;\n",
              "    }\n",
              "\n",
              "    [theme=dark] .colab-df-convert:hover {\n",
              "      background-color: #434B5C;\n",
              "      box-shadow: 0px 1px 3px 1px rgba(0, 0, 0, 0.15);\n",
              "      filter: drop-shadow(0px 1px 2px rgba(0, 0, 0, 0.3));\n",
              "      fill: #FFFFFF;\n",
              "    }\n",
              "  </style>\n",
              "\n",
              "      <script>\n",
              "        const buttonEl =\n",
              "          document.querySelector('#df-dfdaaaaf-6ef8-43d8-868f-5b18a20a2f9d button.colab-df-convert');\n",
              "        buttonEl.style.display =\n",
              "          google.colab.kernel.accessAllowed ? 'block' : 'none';\n",
              "\n",
              "        async function convertToInteractive(key) {\n",
              "          const element = document.querySelector('#df-dfdaaaaf-6ef8-43d8-868f-5b18a20a2f9d');\n",
              "          const dataTable =\n",
              "            await google.colab.kernel.invokeFunction('convertToInteractive',\n",
              "                                                     [key], {});\n",
              "          if (!dataTable) return;\n",
              "\n",
              "          const docLinkHtml = 'Like what you see? Visit the ' +\n",
              "            '<a target=\"_blank\" href=https://colab.research.google.com/notebooks/data_table.ipynb>data table notebook</a>'\n",
              "            + ' to learn more about interactive tables.';\n",
              "          element.innerHTML = '';\n",
              "          dataTable['output_type'] = 'display_data';\n",
              "          await google.colab.output.renderOutput(dataTable, element);\n",
              "          const docLink = document.createElement('div');\n",
              "          docLink.innerHTML = docLinkHtml;\n",
              "          element.appendChild(docLink);\n",
              "        }\n",
              "      </script>\n",
              "    </div>\n",
              "  </div>\n",
              "  "
            ]
          },
          "metadata": {},
          "execution_count": 9
        }
      ],
      "source": [
        "import pandas as pd\n",
        "data= pd.read_csv('DatasetsFile/creditcard.csv', delimiter = \",\")\n",
        "data"
      ]
    },
    {
      "cell_type": "code",
      "execution_count": null,
      "metadata": {
        "id": "KzIFbMIvjsSp"
      },
      "outputs": [],
      "source": [
        "#import pandas as pd\n",
        "#data= pd.read_csv('creditcard.csv', delimiter = \";\")\n",
        "#data"
      ]
    },
    {
      "cell_type": "code",
      "execution_count": null,
      "metadata": {
        "colab": {
          "base_uri": "https://localhost:8080/"
        },
        "id": "DIejJuJsj2S4",
        "outputId": "5e10fd0f-3c46-4f74-9b97-53149a4396f8"
      },
      "outputs": [
        {
          "name": "stdout",
          "output_type": "stream",
          "text": [
            "<class 'pandas.core.frame.DataFrame'>\n",
            "RangeIndex: 284807 entries, 0 to 284806\n",
            "Data columns (total 31 columns):\n",
            " #   Column  Non-Null Count   Dtype  \n",
            "---  ------  --------------   -----  \n",
            " 0   Time    284807 non-null  float64\n",
            " 1   V1      284807 non-null  float64\n",
            " 2   V2      284807 non-null  float64\n",
            " 3   V3      284807 non-null  float64\n",
            " 4   V4      284807 non-null  float64\n",
            " 5   V5      284807 non-null  float64\n",
            " 6   V6      284807 non-null  float64\n",
            " 7   V7      284807 non-null  float64\n",
            " 8   V8      284807 non-null  float64\n",
            " 9   V9      284807 non-null  float64\n",
            " 10  V10     284807 non-null  float64\n",
            " 11  V11     284807 non-null  float64\n",
            " 12  V12     284807 non-null  float64\n",
            " 13  V13     284807 non-null  float64\n",
            " 14  V14     284807 non-null  float64\n",
            " 15  V15     284807 non-null  float64\n",
            " 16  V16     284807 non-null  float64\n",
            " 17  V17     284807 non-null  float64\n",
            " 18  V18     284807 non-null  float64\n",
            " 19  V19     284807 non-null  float64\n",
            " 20  V20     284807 non-null  float64\n",
            " 21  V21     284807 non-null  float64\n",
            " 22  V22     284807 non-null  float64\n",
            " 23  V23     284807 non-null  float64\n",
            " 24  V24     284807 non-null  float64\n",
            " 25  V25     284807 non-null  float64\n",
            " 26  V26     284807 non-null  float64\n",
            " 27  V27     284807 non-null  float64\n",
            " 28  V28     284807 non-null  float64\n",
            " 29  Amount  284807 non-null  float64\n",
            " 30  Class   284807 non-null  int64  \n",
            "dtypes: float64(30), int64(1)\n",
            "memory usage: 67.4 MB\n"
          ]
        }
      ],
      "source": [
        "data.info()"
      ]
    },
    {
      "cell_type": "code",
      "execution_count": null,
      "metadata": {
        "colab": {
          "base_uri": "https://localhost:8080/",
          "height": 299
        },
        "id": "iiCpVDRpj43b",
        "outputId": "95985756-0ed7-48dc-ebed-1c743ecdb239"
      },
      "outputs": [
        {
          "data": {
            "text/html": [
              "\n",
              "  <div id=\"df-38748533-06fe-46e9-90a5-d815f6205b9b\">\n",
              "    <div class=\"colab-df-container\">\n",
              "      <div>\n",
              "<style scoped>\n",
              "    .dataframe tbody tr th:only-of-type {\n",
              "        vertical-align: middle;\n",
              "    }\n",
              "\n",
              "    .dataframe tbody tr th {\n",
              "        vertical-align: top;\n",
              "    }\n",
              "\n",
              "    .dataframe thead th {\n",
              "        text-align: right;\n",
              "    }\n",
              "</style>\n",
              "<table border=\"1\" class=\"dataframe\">\n",
              "  <thead>\n",
              "    <tr style=\"text-align: right;\">\n",
              "      <th></th>\n",
              "      <th>Time</th>\n",
              "      <th>V1</th>\n",
              "      <th>V2</th>\n",
              "      <th>V3</th>\n",
              "      <th>V4</th>\n",
              "      <th>V5</th>\n",
              "      <th>V6</th>\n",
              "      <th>V7</th>\n",
              "      <th>V8</th>\n",
              "      <th>V9</th>\n",
              "      <th>...</th>\n",
              "      <th>V21</th>\n",
              "      <th>V22</th>\n",
              "      <th>V23</th>\n",
              "      <th>V24</th>\n",
              "      <th>V25</th>\n",
              "      <th>V26</th>\n",
              "      <th>V27</th>\n",
              "      <th>V28</th>\n",
              "      <th>Amount</th>\n",
              "      <th>Class</th>\n",
              "    </tr>\n",
              "  </thead>\n",
              "  <tbody>\n",
              "    <tr>\n",
              "      <th>284802</th>\n",
              "      <td>172786.0</td>\n",
              "      <td>-11.881118</td>\n",
              "      <td>10.071785</td>\n",
              "      <td>-9.834783</td>\n",
              "      <td>-2.066656</td>\n",
              "      <td>-5.364473</td>\n",
              "      <td>-2.606837</td>\n",
              "      <td>-4.918215</td>\n",
              "      <td>7.305334</td>\n",
              "      <td>1.914428</td>\n",
              "      <td>...</td>\n",
              "      <td>0.213454</td>\n",
              "      <td>0.111864</td>\n",
              "      <td>1.014480</td>\n",
              "      <td>-0.509348</td>\n",
              "      <td>1.436807</td>\n",
              "      <td>0.250034</td>\n",
              "      <td>0.943651</td>\n",
              "      <td>0.823731</td>\n",
              "      <td>0.77</td>\n",
              "      <td>0</td>\n",
              "    </tr>\n",
              "    <tr>\n",
              "      <th>284803</th>\n",
              "      <td>172787.0</td>\n",
              "      <td>-0.732789</td>\n",
              "      <td>-0.055080</td>\n",
              "      <td>2.035030</td>\n",
              "      <td>-0.738589</td>\n",
              "      <td>0.868229</td>\n",
              "      <td>1.058415</td>\n",
              "      <td>0.024330</td>\n",
              "      <td>0.294869</td>\n",
              "      <td>0.584800</td>\n",
              "      <td>...</td>\n",
              "      <td>0.214205</td>\n",
              "      <td>0.924384</td>\n",
              "      <td>0.012463</td>\n",
              "      <td>-1.016226</td>\n",
              "      <td>-0.606624</td>\n",
              "      <td>-0.395255</td>\n",
              "      <td>0.068472</td>\n",
              "      <td>-0.053527</td>\n",
              "      <td>24.79</td>\n",
              "      <td>0</td>\n",
              "    </tr>\n",
              "    <tr>\n",
              "      <th>284804</th>\n",
              "      <td>172788.0</td>\n",
              "      <td>1.919565</td>\n",
              "      <td>-0.301254</td>\n",
              "      <td>-3.249640</td>\n",
              "      <td>-0.557828</td>\n",
              "      <td>2.630515</td>\n",
              "      <td>3.031260</td>\n",
              "      <td>-0.296827</td>\n",
              "      <td>0.708417</td>\n",
              "      <td>0.432454</td>\n",
              "      <td>...</td>\n",
              "      <td>0.232045</td>\n",
              "      <td>0.578229</td>\n",
              "      <td>-0.037501</td>\n",
              "      <td>0.640134</td>\n",
              "      <td>0.265745</td>\n",
              "      <td>-0.087371</td>\n",
              "      <td>0.004455</td>\n",
              "      <td>-0.026561</td>\n",
              "      <td>67.88</td>\n",
              "      <td>0</td>\n",
              "    </tr>\n",
              "    <tr>\n",
              "      <th>284805</th>\n",
              "      <td>172788.0</td>\n",
              "      <td>-0.240440</td>\n",
              "      <td>0.530483</td>\n",
              "      <td>0.702510</td>\n",
              "      <td>0.689799</td>\n",
              "      <td>-0.377961</td>\n",
              "      <td>0.623708</td>\n",
              "      <td>-0.686180</td>\n",
              "      <td>0.679145</td>\n",
              "      <td>0.392087</td>\n",
              "      <td>...</td>\n",
              "      <td>0.265245</td>\n",
              "      <td>0.800049</td>\n",
              "      <td>-0.163298</td>\n",
              "      <td>0.123205</td>\n",
              "      <td>-0.569159</td>\n",
              "      <td>0.546668</td>\n",
              "      <td>0.108821</td>\n",
              "      <td>0.104533</td>\n",
              "      <td>10.00</td>\n",
              "      <td>0</td>\n",
              "    </tr>\n",
              "    <tr>\n",
              "      <th>284806</th>\n",
              "      <td>172792.0</td>\n",
              "      <td>-0.533413</td>\n",
              "      <td>-0.189733</td>\n",
              "      <td>0.703337</td>\n",
              "      <td>-0.506271</td>\n",
              "      <td>-0.012546</td>\n",
              "      <td>-0.649617</td>\n",
              "      <td>1.577006</td>\n",
              "      <td>-0.414650</td>\n",
              "      <td>0.486180</td>\n",
              "      <td>...</td>\n",
              "      <td>0.261057</td>\n",
              "      <td>0.643078</td>\n",
              "      <td>0.376777</td>\n",
              "      <td>0.008797</td>\n",
              "      <td>-0.473649</td>\n",
              "      <td>-0.818267</td>\n",
              "      <td>-0.002415</td>\n",
              "      <td>0.013649</td>\n",
              "      <td>217.00</td>\n",
              "      <td>0</td>\n",
              "    </tr>\n",
              "  </tbody>\n",
              "</table>\n",
              "<p>5 rows × 31 columns</p>\n",
              "</div>\n",
              "      <button class=\"colab-df-convert\" onclick=\"convertToInteractive('df-38748533-06fe-46e9-90a5-d815f6205b9b')\"\n",
              "              title=\"Convert this dataframe to an interactive table.\"\n",
              "              style=\"display:none;\">\n",
              "        \n",
              "  <svg xmlns=\"http://www.w3.org/2000/svg\" height=\"24px\"viewBox=\"0 0 24 24\"\n",
              "       width=\"24px\">\n",
              "    <path d=\"M0 0h24v24H0V0z\" fill=\"none\"/>\n",
              "    <path d=\"M18.56 5.44l.94 2.06.94-2.06 2.06-.94-2.06-.94-.94-2.06-.94 2.06-2.06.94zm-11 1L8.5 8.5l.94-2.06 2.06-.94-2.06-.94L8.5 2.5l-.94 2.06-2.06.94zm10 10l.94 2.06.94-2.06 2.06-.94-2.06-.94-.94-2.06-.94 2.06-2.06.94z\"/><path d=\"M17.41 7.96l-1.37-1.37c-.4-.4-.92-.59-1.43-.59-.52 0-1.04.2-1.43.59L10.3 9.45l-7.72 7.72c-.78.78-.78 2.05 0 2.83L4 21.41c.39.39.9.59 1.41.59.51 0 1.02-.2 1.41-.59l7.78-7.78 2.81-2.81c.8-.78.8-2.07 0-2.86zM5.41 20L4 18.59l7.72-7.72 1.47 1.35L5.41 20z\"/>\n",
              "  </svg>\n",
              "      </button>\n",
              "      \n",
              "  <style>\n",
              "    .colab-df-container {\n",
              "      display:flex;\n",
              "      flex-wrap:wrap;\n",
              "      gap: 12px;\n",
              "    }\n",
              "\n",
              "    .colab-df-convert {\n",
              "      background-color: #E8F0FE;\n",
              "      border: none;\n",
              "      border-radius: 50%;\n",
              "      cursor: pointer;\n",
              "      display: none;\n",
              "      fill: #1967D2;\n",
              "      height: 32px;\n",
              "      padding: 0 0 0 0;\n",
              "      width: 32px;\n",
              "    }\n",
              "\n",
              "    .colab-df-convert:hover {\n",
              "      background-color: #E2EBFA;\n",
              "      box-shadow: 0px 1px 2px rgba(60, 64, 67, 0.3), 0px 1px 3px 1px rgba(60, 64, 67, 0.15);\n",
              "      fill: #174EA6;\n",
              "    }\n",
              "\n",
              "    [theme=dark] .colab-df-convert {\n",
              "      background-color: #3B4455;\n",
              "      fill: #D2E3FC;\n",
              "    }\n",
              "\n",
              "    [theme=dark] .colab-df-convert:hover {\n",
              "      background-color: #434B5C;\n",
              "      box-shadow: 0px 1px 3px 1px rgba(0, 0, 0, 0.15);\n",
              "      filter: drop-shadow(0px 1px 2px rgba(0, 0, 0, 0.3));\n",
              "      fill: #FFFFFF;\n",
              "    }\n",
              "  </style>\n",
              "\n",
              "      <script>\n",
              "        const buttonEl =\n",
              "          document.querySelector('#df-38748533-06fe-46e9-90a5-d815f6205b9b button.colab-df-convert');\n",
              "        buttonEl.style.display =\n",
              "          google.colab.kernel.accessAllowed ? 'block' : 'none';\n",
              "\n",
              "        async function convertToInteractive(key) {\n",
              "          const element = document.querySelector('#df-38748533-06fe-46e9-90a5-d815f6205b9b');\n",
              "          const dataTable =\n",
              "            await google.colab.kernel.invokeFunction('convertToInteractive',\n",
              "                                                     [key], {});\n",
              "          if (!dataTable) return;\n",
              "\n",
              "          const docLinkHtml = 'Like what you see? Visit the ' +\n",
              "            '<a target=\"_blank\" href=https://colab.research.google.com/notebooks/data_table.ipynb>data table notebook</a>'\n",
              "            + ' to learn more about interactive tables.';\n",
              "          element.innerHTML = '';\n",
              "          dataTable['output_type'] = 'display_data';\n",
              "          await google.colab.output.renderOutput(dataTable, element);\n",
              "          const docLink = document.createElement('div');\n",
              "          docLink.innerHTML = docLinkHtml;\n",
              "          element.appendChild(docLink);\n",
              "        }\n",
              "      </script>\n",
              "    </div>\n",
              "  </div>\n",
              "  "
            ],
            "text/plain": [
              "            Time         V1         V2        V3        V4        V5  \\\n",
              "284802  172786.0 -11.881118  10.071785 -9.834783 -2.066656 -5.364473   \n",
              "284803  172787.0  -0.732789  -0.055080  2.035030 -0.738589  0.868229   \n",
              "284804  172788.0   1.919565  -0.301254 -3.249640 -0.557828  2.630515   \n",
              "284805  172788.0  -0.240440   0.530483  0.702510  0.689799 -0.377961   \n",
              "284806  172792.0  -0.533413  -0.189733  0.703337 -0.506271 -0.012546   \n",
              "\n",
              "              V6        V7        V8        V9  ...       V21       V22  \\\n",
              "284802 -2.606837 -4.918215  7.305334  1.914428  ...  0.213454  0.111864   \n",
              "284803  1.058415  0.024330  0.294869  0.584800  ...  0.214205  0.924384   \n",
              "284804  3.031260 -0.296827  0.708417  0.432454  ...  0.232045  0.578229   \n",
              "284805  0.623708 -0.686180  0.679145  0.392087  ...  0.265245  0.800049   \n",
              "284806 -0.649617  1.577006 -0.414650  0.486180  ...  0.261057  0.643078   \n",
              "\n",
              "             V23       V24       V25       V26       V27       V28  Amount  \\\n",
              "284802  1.014480 -0.509348  1.436807  0.250034  0.943651  0.823731    0.77   \n",
              "284803  0.012463 -1.016226 -0.606624 -0.395255  0.068472 -0.053527   24.79   \n",
              "284804 -0.037501  0.640134  0.265745 -0.087371  0.004455 -0.026561   67.88   \n",
              "284805 -0.163298  0.123205 -0.569159  0.546668  0.108821  0.104533   10.00   \n",
              "284806  0.376777  0.008797 -0.473649 -0.818267 -0.002415  0.013649  217.00   \n",
              "\n",
              "        Class  \n",
              "284802      0  \n",
              "284803      0  \n",
              "284804      0  \n",
              "284805      0  \n",
              "284806      0  \n",
              "\n",
              "[5 rows x 31 columns]"
            ]
          },
          "execution_count": 12,
          "metadata": {},
          "output_type": "execute_result"
        }
      ],
      "source": [
        "data.tail()"
      ]
    },
    {
      "cell_type": "code",
      "execution_count": null,
      "metadata": {
        "colab": {
          "base_uri": "https://localhost:8080/"
        },
        "id": "gQXufayoj56t",
        "outputId": "c6fdf83e-29d0-44cd-df56-f8a57702efa9"
      },
      "outputs": [
        {
          "data": {
            "text/plain": [
              "Time      0\n",
              "V1        0\n",
              "V2        0\n",
              "V3        0\n",
              "V4        0\n",
              "V5        0\n",
              "V6        0\n",
              "V7        0\n",
              "V8        0\n",
              "V9        0\n",
              "V10       0\n",
              "V11       0\n",
              "V12       0\n",
              "V13       0\n",
              "V14       0\n",
              "V15       0\n",
              "V16       0\n",
              "V17       0\n",
              "V18       0\n",
              "V19       0\n",
              "V20       0\n",
              "V21       0\n",
              "V22       0\n",
              "V23       0\n",
              "V24       0\n",
              "V25       0\n",
              "V26       0\n",
              "V27       0\n",
              "V28       0\n",
              "Amount    0\n",
              "Class     0\n",
              "dtype: int64"
            ]
          },
          "execution_count": 16,
          "metadata": {},
          "output_type": "execute_result"
        }
      ],
      "source": [
        "# checking the number of missing values in each column\n",
        "data.isnull().sum()"
      ]
    },
    {
      "cell_type": "code",
      "execution_count": null,
      "metadata": {
        "colab": {
          "base_uri": "https://localhost:8080/"
        },
        "id": "hQZt8kXCj_u0",
        "outputId": "8dc25bf3-d5dc-48dc-9f06-3677689e42bd"
      },
      "outputs": [
        {
          "data": {
            "text/plain": [
              "Index(['Time', 'V1', 'V2', 'V3', 'V4', 'V5', 'V6', 'V7', 'V8', 'V9', 'V10',\n",
              "       'V11', 'V12', 'V13', 'V14', 'V15', 'V16', 'V17', 'V18', 'V19', 'V20',\n",
              "       'V21', 'V22', 'V23', 'V24', 'V25', 'V26', 'V27', 'V28', 'Amount',\n",
              "       'Class'],\n",
              "      dtype='object')"
            ]
          },
          "execution_count": 14,
          "metadata": {},
          "output_type": "execute_result"
        }
      ],
      "source": [
        "data.columns"
      ]
    },
    {
      "cell_type": "code",
      "execution_count": null,
      "metadata": {
        "id": "lAtiPv_lkD8t"
      },
      "outputs": [],
      "source": [
        "#histograms\n",
        "#data.hist(bins=30, figsize=(30, 30))"
      ]
    },
    {
      "cell_type": "code",
      "execution_count": null,
      "metadata": {
        "colab": {
          "base_uri": "https://localhost:8080/",
          "height": 394
        },
        "id": "1piebN-wkE5Y",
        "outputId": "a402c073-5422-4e37-f185-0469afd86057"
      },
      "outputs": [
        {
          "data": {
            "text/html": [
              "\n",
              "  <div id=\"df-a8f83103-7870-4625-9738-d7281d5301dc\">\n",
              "    <div class=\"colab-df-container\">\n",
              "      <div>\n",
              "<style scoped>\n",
              "    .dataframe tbody tr th:only-of-type {\n",
              "        vertical-align: middle;\n",
              "    }\n",
              "\n",
              "    .dataframe tbody tr th {\n",
              "        vertical-align: top;\n",
              "    }\n",
              "\n",
              "    .dataframe thead th {\n",
              "        text-align: right;\n",
              "    }\n",
              "</style>\n",
              "<table border=\"1\" class=\"dataframe\">\n",
              "  <thead>\n",
              "    <tr style=\"text-align: right;\">\n",
              "      <th></th>\n",
              "      <th>Time</th>\n",
              "      <th>V1</th>\n",
              "      <th>V2</th>\n",
              "      <th>V3</th>\n",
              "      <th>V4</th>\n",
              "      <th>V5</th>\n",
              "      <th>V6</th>\n",
              "      <th>V7</th>\n",
              "      <th>V8</th>\n",
              "      <th>V9</th>\n",
              "      <th>...</th>\n",
              "      <th>V21</th>\n",
              "      <th>V22</th>\n",
              "      <th>V23</th>\n",
              "      <th>V24</th>\n",
              "      <th>V25</th>\n",
              "      <th>V26</th>\n",
              "      <th>V27</th>\n",
              "      <th>V28</th>\n",
              "      <th>Amount</th>\n",
              "      <th>Class</th>\n",
              "    </tr>\n",
              "  </thead>\n",
              "  <tbody>\n",
              "    <tr>\n",
              "      <th>count</th>\n",
              "      <td>284807.000000</td>\n",
              "      <td>2.848070e+05</td>\n",
              "      <td>2.848070e+05</td>\n",
              "      <td>2.848070e+05</td>\n",
              "      <td>2.848070e+05</td>\n",
              "      <td>2.848070e+05</td>\n",
              "      <td>2.848070e+05</td>\n",
              "      <td>2.848070e+05</td>\n",
              "      <td>2.848070e+05</td>\n",
              "      <td>2.848070e+05</td>\n",
              "      <td>...</td>\n",
              "      <td>2.848070e+05</td>\n",
              "      <td>2.848070e+05</td>\n",
              "      <td>2.848070e+05</td>\n",
              "      <td>2.848070e+05</td>\n",
              "      <td>2.848070e+05</td>\n",
              "      <td>2.848070e+05</td>\n",
              "      <td>2.848070e+05</td>\n",
              "      <td>2.848070e+05</td>\n",
              "      <td>284807.000000</td>\n",
              "      <td>284807.000000</td>\n",
              "    </tr>\n",
              "    <tr>\n",
              "      <th>mean</th>\n",
              "      <td>94813.859575</td>\n",
              "      <td>1.168375e-15</td>\n",
              "      <td>3.416908e-16</td>\n",
              "      <td>-1.379537e-15</td>\n",
              "      <td>2.074095e-15</td>\n",
              "      <td>9.604066e-16</td>\n",
              "      <td>1.487313e-15</td>\n",
              "      <td>-5.556467e-16</td>\n",
              "      <td>1.213481e-16</td>\n",
              "      <td>-2.406331e-15</td>\n",
              "      <td>...</td>\n",
              "      <td>1.654067e-16</td>\n",
              "      <td>-3.568593e-16</td>\n",
              "      <td>2.578648e-16</td>\n",
              "      <td>4.473266e-15</td>\n",
              "      <td>5.340915e-16</td>\n",
              "      <td>1.683437e-15</td>\n",
              "      <td>-3.660091e-16</td>\n",
              "      <td>-1.227390e-16</td>\n",
              "      <td>88.349619</td>\n",
              "      <td>0.001727</td>\n",
              "    </tr>\n",
              "    <tr>\n",
              "      <th>std</th>\n",
              "      <td>47488.145955</td>\n",
              "      <td>1.958696e+00</td>\n",
              "      <td>1.651309e+00</td>\n",
              "      <td>1.516255e+00</td>\n",
              "      <td>1.415869e+00</td>\n",
              "      <td>1.380247e+00</td>\n",
              "      <td>1.332271e+00</td>\n",
              "      <td>1.237094e+00</td>\n",
              "      <td>1.194353e+00</td>\n",
              "      <td>1.098632e+00</td>\n",
              "      <td>...</td>\n",
              "      <td>7.345240e-01</td>\n",
              "      <td>7.257016e-01</td>\n",
              "      <td>6.244603e-01</td>\n",
              "      <td>6.056471e-01</td>\n",
              "      <td>5.212781e-01</td>\n",
              "      <td>4.822270e-01</td>\n",
              "      <td>4.036325e-01</td>\n",
              "      <td>3.300833e-01</td>\n",
              "      <td>250.120109</td>\n",
              "      <td>0.041527</td>\n",
              "    </tr>\n",
              "    <tr>\n",
              "      <th>min</th>\n",
              "      <td>0.000000</td>\n",
              "      <td>-5.640751e+01</td>\n",
              "      <td>-7.271573e+01</td>\n",
              "      <td>-4.832559e+01</td>\n",
              "      <td>-5.683171e+00</td>\n",
              "      <td>-1.137433e+02</td>\n",
              "      <td>-2.616051e+01</td>\n",
              "      <td>-4.355724e+01</td>\n",
              "      <td>-7.321672e+01</td>\n",
              "      <td>-1.343407e+01</td>\n",
              "      <td>...</td>\n",
              "      <td>-3.483038e+01</td>\n",
              "      <td>-1.093314e+01</td>\n",
              "      <td>-4.480774e+01</td>\n",
              "      <td>-2.836627e+00</td>\n",
              "      <td>-1.029540e+01</td>\n",
              "      <td>-2.604551e+00</td>\n",
              "      <td>-2.256568e+01</td>\n",
              "      <td>-1.543008e+01</td>\n",
              "      <td>0.000000</td>\n",
              "      <td>0.000000</td>\n",
              "    </tr>\n",
              "    <tr>\n",
              "      <th>25%</th>\n",
              "      <td>54201.500000</td>\n",
              "      <td>-9.203734e-01</td>\n",
              "      <td>-5.985499e-01</td>\n",
              "      <td>-8.903648e-01</td>\n",
              "      <td>-8.486401e-01</td>\n",
              "      <td>-6.915971e-01</td>\n",
              "      <td>-7.682956e-01</td>\n",
              "      <td>-5.540759e-01</td>\n",
              "      <td>-2.086297e-01</td>\n",
              "      <td>-6.430976e-01</td>\n",
              "      <td>...</td>\n",
              "      <td>-2.283949e-01</td>\n",
              "      <td>-5.423504e-01</td>\n",
              "      <td>-1.618463e-01</td>\n",
              "      <td>-3.545861e-01</td>\n",
              "      <td>-3.171451e-01</td>\n",
              "      <td>-3.269839e-01</td>\n",
              "      <td>-7.083953e-02</td>\n",
              "      <td>-5.295979e-02</td>\n",
              "      <td>5.600000</td>\n",
              "      <td>0.000000</td>\n",
              "    </tr>\n",
              "    <tr>\n",
              "      <th>50%</th>\n",
              "      <td>84692.000000</td>\n",
              "      <td>1.810880e-02</td>\n",
              "      <td>6.548556e-02</td>\n",
              "      <td>1.798463e-01</td>\n",
              "      <td>-1.984653e-02</td>\n",
              "      <td>-5.433583e-02</td>\n",
              "      <td>-2.741871e-01</td>\n",
              "      <td>4.010308e-02</td>\n",
              "      <td>2.235804e-02</td>\n",
              "      <td>-5.142873e-02</td>\n",
              "      <td>...</td>\n",
              "      <td>-2.945017e-02</td>\n",
              "      <td>6.781943e-03</td>\n",
              "      <td>-1.119293e-02</td>\n",
              "      <td>4.097606e-02</td>\n",
              "      <td>1.659350e-02</td>\n",
              "      <td>-5.213911e-02</td>\n",
              "      <td>1.342146e-03</td>\n",
              "      <td>1.124383e-02</td>\n",
              "      <td>22.000000</td>\n",
              "      <td>0.000000</td>\n",
              "    </tr>\n",
              "    <tr>\n",
              "      <th>75%</th>\n",
              "      <td>139320.500000</td>\n",
              "      <td>1.315642e+00</td>\n",
              "      <td>8.037239e-01</td>\n",
              "      <td>1.027196e+00</td>\n",
              "      <td>7.433413e-01</td>\n",
              "      <td>6.119264e-01</td>\n",
              "      <td>3.985649e-01</td>\n",
              "      <td>5.704361e-01</td>\n",
              "      <td>3.273459e-01</td>\n",
              "      <td>5.971390e-01</td>\n",
              "      <td>...</td>\n",
              "      <td>1.863772e-01</td>\n",
              "      <td>5.285536e-01</td>\n",
              "      <td>1.476421e-01</td>\n",
              "      <td>4.395266e-01</td>\n",
              "      <td>3.507156e-01</td>\n",
              "      <td>2.409522e-01</td>\n",
              "      <td>9.104512e-02</td>\n",
              "      <td>7.827995e-02</td>\n",
              "      <td>77.165000</td>\n",
              "      <td>0.000000</td>\n",
              "    </tr>\n",
              "    <tr>\n",
              "      <th>max</th>\n",
              "      <td>172792.000000</td>\n",
              "      <td>2.454930e+00</td>\n",
              "      <td>2.205773e+01</td>\n",
              "      <td>9.382558e+00</td>\n",
              "      <td>1.687534e+01</td>\n",
              "      <td>3.480167e+01</td>\n",
              "      <td>7.330163e+01</td>\n",
              "      <td>1.205895e+02</td>\n",
              "      <td>2.000721e+01</td>\n",
              "      <td>1.559499e+01</td>\n",
              "      <td>...</td>\n",
              "      <td>2.720284e+01</td>\n",
              "      <td>1.050309e+01</td>\n",
              "      <td>2.252841e+01</td>\n",
              "      <td>4.584549e+00</td>\n",
              "      <td>7.519589e+00</td>\n",
              "      <td>3.517346e+00</td>\n",
              "      <td>3.161220e+01</td>\n",
              "      <td>3.384781e+01</td>\n",
              "      <td>25691.160000</td>\n",
              "      <td>1.000000</td>\n",
              "    </tr>\n",
              "  </tbody>\n",
              "</table>\n",
              "<p>8 rows × 31 columns</p>\n",
              "</div>\n",
              "      <button class=\"colab-df-convert\" onclick=\"convertToInteractive('df-a8f83103-7870-4625-9738-d7281d5301dc')\"\n",
              "              title=\"Convert this dataframe to an interactive table.\"\n",
              "              style=\"display:none;\">\n",
              "        \n",
              "  <svg xmlns=\"http://www.w3.org/2000/svg\" height=\"24px\"viewBox=\"0 0 24 24\"\n",
              "       width=\"24px\">\n",
              "    <path d=\"M0 0h24v24H0V0z\" fill=\"none\"/>\n",
              "    <path d=\"M18.56 5.44l.94 2.06.94-2.06 2.06-.94-2.06-.94-.94-2.06-.94 2.06-2.06.94zm-11 1L8.5 8.5l.94-2.06 2.06-.94-2.06-.94L8.5 2.5l-.94 2.06-2.06.94zm10 10l.94 2.06.94-2.06 2.06-.94-2.06-.94-.94-2.06-.94 2.06-2.06.94z\"/><path d=\"M17.41 7.96l-1.37-1.37c-.4-.4-.92-.59-1.43-.59-.52 0-1.04.2-1.43.59L10.3 9.45l-7.72 7.72c-.78.78-.78 2.05 0 2.83L4 21.41c.39.39.9.59 1.41.59.51 0 1.02-.2 1.41-.59l7.78-7.78 2.81-2.81c.8-.78.8-2.07 0-2.86zM5.41 20L4 18.59l7.72-7.72 1.47 1.35L5.41 20z\"/>\n",
              "  </svg>\n",
              "      </button>\n",
              "      \n",
              "  <style>\n",
              "    .colab-df-container {\n",
              "      display:flex;\n",
              "      flex-wrap:wrap;\n",
              "      gap: 12px;\n",
              "    }\n",
              "\n",
              "    .colab-df-convert {\n",
              "      background-color: #E8F0FE;\n",
              "      border: none;\n",
              "      border-radius: 50%;\n",
              "      cursor: pointer;\n",
              "      display: none;\n",
              "      fill: #1967D2;\n",
              "      height: 32px;\n",
              "      padding: 0 0 0 0;\n",
              "      width: 32px;\n",
              "    }\n",
              "\n",
              "    .colab-df-convert:hover {\n",
              "      background-color: #E2EBFA;\n",
              "      box-shadow: 0px 1px 2px rgba(60, 64, 67, 0.3), 0px 1px 3px 1px rgba(60, 64, 67, 0.15);\n",
              "      fill: #174EA6;\n",
              "    }\n",
              "\n",
              "    [theme=dark] .colab-df-convert {\n",
              "      background-color: #3B4455;\n",
              "      fill: #D2E3FC;\n",
              "    }\n",
              "\n",
              "    [theme=dark] .colab-df-convert:hover {\n",
              "      background-color: #434B5C;\n",
              "      box-shadow: 0px 1px 3px 1px rgba(0, 0, 0, 0.15);\n",
              "      filter: drop-shadow(0px 1px 2px rgba(0, 0, 0, 0.3));\n",
              "      fill: #FFFFFF;\n",
              "    }\n",
              "  </style>\n",
              "\n",
              "      <script>\n",
              "        const buttonEl =\n",
              "          document.querySelector('#df-a8f83103-7870-4625-9738-d7281d5301dc button.colab-df-convert');\n",
              "        buttonEl.style.display =\n",
              "          google.colab.kernel.accessAllowed ? 'block' : 'none';\n",
              "\n",
              "        async function convertToInteractive(key) {\n",
              "          const element = document.querySelector('#df-a8f83103-7870-4625-9738-d7281d5301dc');\n",
              "          const dataTable =\n",
              "            await google.colab.kernel.invokeFunction('convertToInteractive',\n",
              "                                                     [key], {});\n",
              "          if (!dataTable) return;\n",
              "\n",
              "          const docLinkHtml = 'Like what you see? Visit the ' +\n",
              "            '<a target=\"_blank\" href=https://colab.research.google.com/notebooks/data_table.ipynb>data table notebook</a>'\n",
              "            + ' to learn more about interactive tables.';\n",
              "          element.innerHTML = '';\n",
              "          dataTable['output_type'] = 'display_data';\n",
              "          await google.colab.output.renderOutput(dataTable, element);\n",
              "          const docLink = document.createElement('div');\n",
              "          docLink.innerHTML = docLinkHtml;\n",
              "          element.appendChild(docLink);\n",
              "        }\n",
              "      </script>\n",
              "    </div>\n",
              "  </div>\n",
              "  "
            ],
            "text/plain": [
              "                Time            V1            V2            V3            V4  \\\n",
              "count  284807.000000  2.848070e+05  2.848070e+05  2.848070e+05  2.848070e+05   \n",
              "mean    94813.859575  1.168375e-15  3.416908e-16 -1.379537e-15  2.074095e-15   \n",
              "std     47488.145955  1.958696e+00  1.651309e+00  1.516255e+00  1.415869e+00   \n",
              "min         0.000000 -5.640751e+01 -7.271573e+01 -4.832559e+01 -5.683171e+00   \n",
              "25%     54201.500000 -9.203734e-01 -5.985499e-01 -8.903648e-01 -8.486401e-01   \n",
              "50%     84692.000000  1.810880e-02  6.548556e-02  1.798463e-01 -1.984653e-02   \n",
              "75%    139320.500000  1.315642e+00  8.037239e-01  1.027196e+00  7.433413e-01   \n",
              "max    172792.000000  2.454930e+00  2.205773e+01  9.382558e+00  1.687534e+01   \n",
              "\n",
              "                 V5            V6            V7            V8            V9  \\\n",
              "count  2.848070e+05  2.848070e+05  2.848070e+05  2.848070e+05  2.848070e+05   \n",
              "mean   9.604066e-16  1.487313e-15 -5.556467e-16  1.213481e-16 -2.406331e-15   \n",
              "std    1.380247e+00  1.332271e+00  1.237094e+00  1.194353e+00  1.098632e+00   \n",
              "min   -1.137433e+02 -2.616051e+01 -4.355724e+01 -7.321672e+01 -1.343407e+01   \n",
              "25%   -6.915971e-01 -7.682956e-01 -5.540759e-01 -2.086297e-01 -6.430976e-01   \n",
              "50%   -5.433583e-02 -2.741871e-01  4.010308e-02  2.235804e-02 -5.142873e-02   \n",
              "75%    6.119264e-01  3.985649e-01  5.704361e-01  3.273459e-01  5.971390e-01   \n",
              "max    3.480167e+01  7.330163e+01  1.205895e+02  2.000721e+01  1.559499e+01   \n",
              "\n",
              "       ...           V21           V22           V23           V24  \\\n",
              "count  ...  2.848070e+05  2.848070e+05  2.848070e+05  2.848070e+05   \n",
              "mean   ...  1.654067e-16 -3.568593e-16  2.578648e-16  4.473266e-15   \n",
              "std    ...  7.345240e-01  7.257016e-01  6.244603e-01  6.056471e-01   \n",
              "min    ... -3.483038e+01 -1.093314e+01 -4.480774e+01 -2.836627e+00   \n",
              "25%    ... -2.283949e-01 -5.423504e-01 -1.618463e-01 -3.545861e-01   \n",
              "50%    ... -2.945017e-02  6.781943e-03 -1.119293e-02  4.097606e-02   \n",
              "75%    ...  1.863772e-01  5.285536e-01  1.476421e-01  4.395266e-01   \n",
              "max    ...  2.720284e+01  1.050309e+01  2.252841e+01  4.584549e+00   \n",
              "\n",
              "                V25           V26           V27           V28         Amount  \\\n",
              "count  2.848070e+05  2.848070e+05  2.848070e+05  2.848070e+05  284807.000000   \n",
              "mean   5.340915e-16  1.683437e-15 -3.660091e-16 -1.227390e-16      88.349619   \n",
              "std    5.212781e-01  4.822270e-01  4.036325e-01  3.300833e-01     250.120109   \n",
              "min   -1.029540e+01 -2.604551e+00 -2.256568e+01 -1.543008e+01       0.000000   \n",
              "25%   -3.171451e-01 -3.269839e-01 -7.083953e-02 -5.295979e-02       5.600000   \n",
              "50%    1.659350e-02 -5.213911e-02  1.342146e-03  1.124383e-02      22.000000   \n",
              "75%    3.507156e-01  2.409522e-01  9.104512e-02  7.827995e-02      77.165000   \n",
              "max    7.519589e+00  3.517346e+00  3.161220e+01  3.384781e+01   25691.160000   \n",
              "\n",
              "               Class  \n",
              "count  284807.000000  \n",
              "mean        0.001727  \n",
              "std         0.041527  \n",
              "min         0.000000  \n",
              "25%         0.000000  \n",
              "50%         0.000000  \n",
              "75%         0.000000  \n",
              "max         1.000000  \n",
              "\n",
              "[8 rows x 31 columns]"
            ]
          },
          "execution_count": 17,
          "metadata": {},
          "output_type": "execute_result"
        }
      ],
      "source": [
        "data.describe()"
      ]
    },
    {
      "cell_type": "code",
      "execution_count": null,
      "metadata": {
        "colab": {
          "base_uri": "https://localhost:8080/",
          "height": 488
        },
        "id": "ZM4KEQwykH9o",
        "outputId": "0a54c7f9-9aa9-49a0-cd33-b4350e537535"
      },
      "outputs": [
        {
          "data": {
            "text/html": [
              "\n",
              "  <div id=\"df-5e2edcb2-63df-42f4-bb8f-e6b949927bad\">\n",
              "    <div class=\"colab-df-container\">\n",
              "      <div>\n",
              "<style scoped>\n",
              "    .dataframe tbody tr th:only-of-type {\n",
              "        vertical-align: middle;\n",
              "    }\n",
              "\n",
              "    .dataframe tbody tr th {\n",
              "        vertical-align: top;\n",
              "    }\n",
              "\n",
              "    .dataframe thead th {\n",
              "        text-align: right;\n",
              "    }\n",
              "</style>\n",
              "<table border=\"1\" class=\"dataframe\">\n",
              "  <thead>\n",
              "    <tr style=\"text-align: right;\">\n",
              "      <th></th>\n",
              "      <th>Time</th>\n",
              "      <th>V1</th>\n",
              "      <th>V2</th>\n",
              "      <th>V3</th>\n",
              "      <th>V4</th>\n",
              "      <th>V5</th>\n",
              "      <th>V6</th>\n",
              "      <th>V7</th>\n",
              "      <th>V8</th>\n",
              "      <th>V9</th>\n",
              "      <th>...</th>\n",
              "      <th>V21</th>\n",
              "      <th>V22</th>\n",
              "      <th>V23</th>\n",
              "      <th>V24</th>\n",
              "      <th>V25</th>\n",
              "      <th>V26</th>\n",
              "      <th>V27</th>\n",
              "      <th>V28</th>\n",
              "      <th>Amount</th>\n",
              "      <th>Class</th>\n",
              "    </tr>\n",
              "  </thead>\n",
              "  <tbody>\n",
              "    <tr>\n",
              "      <th>0</th>\n",
              "      <td>0.000000</td>\n",
              "      <td>-1.359807</td>\n",
              "      <td>-0.072781</td>\n",
              "      <td>2.536347</td>\n",
              "      <td>1.378155</td>\n",
              "      <td>-0.338321</td>\n",
              "      <td>0.462388</td>\n",
              "      <td>0.239599</td>\n",
              "      <td>0.098698</td>\n",
              "      <td>0.363787</td>\n",
              "      <td>...</td>\n",
              "      <td>-0.018307</td>\n",
              "      <td>0.277838</td>\n",
              "      <td>-0.110474</td>\n",
              "      <td>0.066928</td>\n",
              "      <td>0.128539</td>\n",
              "      <td>-0.189115</td>\n",
              "      <td>0.133558</td>\n",
              "      <td>-0.021053</td>\n",
              "      <td>1.783274</td>\n",
              "      <td>0</td>\n",
              "    </tr>\n",
              "    <tr>\n",
              "      <th>1</th>\n",
              "      <td>0.000000</td>\n",
              "      <td>1.191857</td>\n",
              "      <td>0.266151</td>\n",
              "      <td>0.166480</td>\n",
              "      <td>0.448154</td>\n",
              "      <td>0.060018</td>\n",
              "      <td>-0.082361</td>\n",
              "      <td>-0.078803</td>\n",
              "      <td>0.085102</td>\n",
              "      <td>-0.255425</td>\n",
              "      <td>...</td>\n",
              "      <td>-0.225775</td>\n",
              "      <td>-0.638672</td>\n",
              "      <td>0.101288</td>\n",
              "      <td>-0.339846</td>\n",
              "      <td>0.167170</td>\n",
              "      <td>0.125895</td>\n",
              "      <td>-0.008983</td>\n",
              "      <td>0.014724</td>\n",
              "      <td>-0.269825</td>\n",
              "      <td>0</td>\n",
              "    </tr>\n",
              "    <tr>\n",
              "      <th>2</th>\n",
              "      <td>0.000006</td>\n",
              "      <td>-1.358354</td>\n",
              "      <td>-1.340163</td>\n",
              "      <td>1.773209</td>\n",
              "      <td>0.379780</td>\n",
              "      <td>-0.503198</td>\n",
              "      <td>1.800499</td>\n",
              "      <td>0.791461</td>\n",
              "      <td>0.247676</td>\n",
              "      <td>-1.514654</td>\n",
              "      <td>...</td>\n",
              "      <td>0.247998</td>\n",
              "      <td>0.771679</td>\n",
              "      <td>0.909412</td>\n",
              "      <td>-0.689281</td>\n",
              "      <td>-0.327642</td>\n",
              "      <td>-0.139097</td>\n",
              "      <td>-0.055353</td>\n",
              "      <td>-0.059752</td>\n",
              "      <td>4.983721</td>\n",
              "      <td>0</td>\n",
              "    </tr>\n",
              "    <tr>\n",
              "      <th>3</th>\n",
              "      <td>0.000006</td>\n",
              "      <td>-0.966272</td>\n",
              "      <td>-0.185226</td>\n",
              "      <td>1.792993</td>\n",
              "      <td>-0.863291</td>\n",
              "      <td>-0.010309</td>\n",
              "      <td>1.247203</td>\n",
              "      <td>0.237609</td>\n",
              "      <td>0.377436</td>\n",
              "      <td>-1.387024</td>\n",
              "      <td>...</td>\n",
              "      <td>-0.108300</td>\n",
              "      <td>0.005274</td>\n",
              "      <td>-0.190321</td>\n",
              "      <td>-1.175575</td>\n",
              "      <td>0.647376</td>\n",
              "      <td>-0.221929</td>\n",
              "      <td>0.062723</td>\n",
              "      <td>0.061458</td>\n",
              "      <td>1.418291</td>\n",
              "      <td>0</td>\n",
              "    </tr>\n",
              "    <tr>\n",
              "      <th>4</th>\n",
              "      <td>0.000012</td>\n",
              "      <td>-1.158233</td>\n",
              "      <td>0.877737</td>\n",
              "      <td>1.548718</td>\n",
              "      <td>0.403034</td>\n",
              "      <td>-0.407193</td>\n",
              "      <td>0.095921</td>\n",
              "      <td>0.592941</td>\n",
              "      <td>-0.270533</td>\n",
              "      <td>0.817739</td>\n",
              "      <td>...</td>\n",
              "      <td>-0.009431</td>\n",
              "      <td>0.798278</td>\n",
              "      <td>-0.137458</td>\n",
              "      <td>0.141267</td>\n",
              "      <td>-0.206010</td>\n",
              "      <td>0.502292</td>\n",
              "      <td>0.219422</td>\n",
              "      <td>0.215153</td>\n",
              "      <td>0.670579</td>\n",
              "      <td>0</td>\n",
              "    </tr>\n",
              "    <tr>\n",
              "      <th>...</th>\n",
              "      <td>...</td>\n",
              "      <td>...</td>\n",
              "      <td>...</td>\n",
              "      <td>...</td>\n",
              "      <td>...</td>\n",
              "      <td>...</td>\n",
              "      <td>...</td>\n",
              "      <td>...</td>\n",
              "      <td>...</td>\n",
              "      <td>...</td>\n",
              "      <td>...</td>\n",
              "      <td>...</td>\n",
              "      <td>...</td>\n",
              "      <td>...</td>\n",
              "      <td>...</td>\n",
              "      <td>...</td>\n",
              "      <td>...</td>\n",
              "      <td>...</td>\n",
              "      <td>...</td>\n",
              "      <td>...</td>\n",
              "      <td>...</td>\n",
              "    </tr>\n",
              "    <tr>\n",
              "      <th>284802</th>\n",
              "      <td>0.999965</td>\n",
              "      <td>-11.881118</td>\n",
              "      <td>10.071785</td>\n",
              "      <td>-9.834783</td>\n",
              "      <td>-2.066656</td>\n",
              "      <td>-5.364473</td>\n",
              "      <td>-2.606837</td>\n",
              "      <td>-4.918215</td>\n",
              "      <td>7.305334</td>\n",
              "      <td>1.914428</td>\n",
              "      <td>...</td>\n",
              "      <td>0.213454</td>\n",
              "      <td>0.111864</td>\n",
              "      <td>1.014480</td>\n",
              "      <td>-0.509348</td>\n",
              "      <td>1.436807</td>\n",
              "      <td>0.250034</td>\n",
              "      <td>0.943651</td>\n",
              "      <td>0.823731</td>\n",
              "      <td>-0.296653</td>\n",
              "      <td>0</td>\n",
              "    </tr>\n",
              "    <tr>\n",
              "      <th>284803</th>\n",
              "      <td>0.999971</td>\n",
              "      <td>-0.732789</td>\n",
              "      <td>-0.055080</td>\n",
              "      <td>2.035030</td>\n",
              "      <td>-0.738589</td>\n",
              "      <td>0.868229</td>\n",
              "      <td>1.058415</td>\n",
              "      <td>0.024330</td>\n",
              "      <td>0.294869</td>\n",
              "      <td>0.584800</td>\n",
              "      <td>...</td>\n",
              "      <td>0.214205</td>\n",
              "      <td>0.924384</td>\n",
              "      <td>0.012463</td>\n",
              "      <td>-1.016226</td>\n",
              "      <td>-0.606624</td>\n",
              "      <td>-0.395255</td>\n",
              "      <td>0.068472</td>\n",
              "      <td>-0.053527</td>\n",
              "      <td>0.038986</td>\n",
              "      <td>0</td>\n",
              "    </tr>\n",
              "    <tr>\n",
              "      <th>284804</th>\n",
              "      <td>0.999977</td>\n",
              "      <td>1.919565</td>\n",
              "      <td>-0.301254</td>\n",
              "      <td>-3.249640</td>\n",
              "      <td>-0.557828</td>\n",
              "      <td>2.630515</td>\n",
              "      <td>3.031260</td>\n",
              "      <td>-0.296827</td>\n",
              "      <td>0.708417</td>\n",
              "      <td>0.432454</td>\n",
              "      <td>...</td>\n",
              "      <td>0.232045</td>\n",
              "      <td>0.578229</td>\n",
              "      <td>-0.037501</td>\n",
              "      <td>0.640134</td>\n",
              "      <td>0.265745</td>\n",
              "      <td>-0.087371</td>\n",
              "      <td>0.004455</td>\n",
              "      <td>-0.026561</td>\n",
              "      <td>0.641096</td>\n",
              "      <td>0</td>\n",
              "    </tr>\n",
              "    <tr>\n",
              "      <th>284805</th>\n",
              "      <td>0.999977</td>\n",
              "      <td>-0.240440</td>\n",
              "      <td>0.530483</td>\n",
              "      <td>0.702510</td>\n",
              "      <td>0.689799</td>\n",
              "      <td>-0.377961</td>\n",
              "      <td>0.623708</td>\n",
              "      <td>-0.686180</td>\n",
              "      <td>0.679145</td>\n",
              "      <td>0.392087</td>\n",
              "      <td>...</td>\n",
              "      <td>0.265245</td>\n",
              "      <td>0.800049</td>\n",
              "      <td>-0.163298</td>\n",
              "      <td>0.123205</td>\n",
              "      <td>-0.569159</td>\n",
              "      <td>0.546668</td>\n",
              "      <td>0.108821</td>\n",
              "      <td>0.104533</td>\n",
              "      <td>-0.167680</td>\n",
              "      <td>0</td>\n",
              "    </tr>\n",
              "    <tr>\n",
              "      <th>284806</th>\n",
              "      <td>1.000000</td>\n",
              "      <td>-0.533413</td>\n",
              "      <td>-0.189733</td>\n",
              "      <td>0.703337</td>\n",
              "      <td>-0.506271</td>\n",
              "      <td>-0.012546</td>\n",
              "      <td>-0.649617</td>\n",
              "      <td>1.577006</td>\n",
              "      <td>-0.414650</td>\n",
              "      <td>0.486180</td>\n",
              "      <td>...</td>\n",
              "      <td>0.261057</td>\n",
              "      <td>0.643078</td>\n",
              "      <td>0.376777</td>\n",
              "      <td>0.008797</td>\n",
              "      <td>-0.473649</td>\n",
              "      <td>-0.818267</td>\n",
              "      <td>-0.002415</td>\n",
              "      <td>0.013649</td>\n",
              "      <td>2.724796</td>\n",
              "      <td>0</td>\n",
              "    </tr>\n",
              "  </tbody>\n",
              "</table>\n",
              "<p>284807 rows × 31 columns</p>\n",
              "</div>\n",
              "      <button class=\"colab-df-convert\" onclick=\"convertToInteractive('df-5e2edcb2-63df-42f4-bb8f-e6b949927bad')\"\n",
              "              title=\"Convert this dataframe to an interactive table.\"\n",
              "              style=\"display:none;\">\n",
              "        \n",
              "  <svg xmlns=\"http://www.w3.org/2000/svg\" height=\"24px\"viewBox=\"0 0 24 24\"\n",
              "       width=\"24px\">\n",
              "    <path d=\"M0 0h24v24H0V0z\" fill=\"none\"/>\n",
              "    <path d=\"M18.56 5.44l.94 2.06.94-2.06 2.06-.94-2.06-.94-.94-2.06-.94 2.06-2.06.94zm-11 1L8.5 8.5l.94-2.06 2.06-.94-2.06-.94L8.5 2.5l-.94 2.06-2.06.94zm10 10l.94 2.06.94-2.06 2.06-.94-2.06-.94-.94-2.06-.94 2.06-2.06.94z\"/><path d=\"M17.41 7.96l-1.37-1.37c-.4-.4-.92-.59-1.43-.59-.52 0-1.04.2-1.43.59L10.3 9.45l-7.72 7.72c-.78.78-.78 2.05 0 2.83L4 21.41c.39.39.9.59 1.41.59.51 0 1.02-.2 1.41-.59l7.78-7.78 2.81-2.81c.8-.78.8-2.07 0-2.86zM5.41 20L4 18.59l7.72-7.72 1.47 1.35L5.41 20z\"/>\n",
              "  </svg>\n",
              "      </button>\n",
              "      \n",
              "  <style>\n",
              "    .colab-df-container {\n",
              "      display:flex;\n",
              "      flex-wrap:wrap;\n",
              "      gap: 12px;\n",
              "    }\n",
              "\n",
              "    .colab-df-convert {\n",
              "      background-color: #E8F0FE;\n",
              "      border: none;\n",
              "      border-radius: 50%;\n",
              "      cursor: pointer;\n",
              "      display: none;\n",
              "      fill: #1967D2;\n",
              "      height: 32px;\n",
              "      padding: 0 0 0 0;\n",
              "      width: 32px;\n",
              "    }\n",
              "\n",
              "    .colab-df-convert:hover {\n",
              "      background-color: #E2EBFA;\n",
              "      box-shadow: 0px 1px 2px rgba(60, 64, 67, 0.3), 0px 1px 3px 1px rgba(60, 64, 67, 0.15);\n",
              "      fill: #174EA6;\n",
              "    }\n",
              "\n",
              "    [theme=dark] .colab-df-convert {\n",
              "      background-color: #3B4455;\n",
              "      fill: #D2E3FC;\n",
              "    }\n",
              "\n",
              "    [theme=dark] .colab-df-convert:hover {\n",
              "      background-color: #434B5C;\n",
              "      box-shadow: 0px 1px 3px 1px rgba(0, 0, 0, 0.15);\n",
              "      filter: drop-shadow(0px 1px 2px rgba(0, 0, 0, 0.3));\n",
              "      fill: #FFFFFF;\n",
              "    }\n",
              "  </style>\n",
              "\n",
              "      <script>\n",
              "        const buttonEl =\n",
              "          document.querySelector('#df-5e2edcb2-63df-42f4-bb8f-e6b949927bad button.colab-df-convert');\n",
              "        buttonEl.style.display =\n",
              "          google.colab.kernel.accessAllowed ? 'block' : 'none';\n",
              "\n",
              "        async function convertToInteractive(key) {\n",
              "          const element = document.querySelector('#df-5e2edcb2-63df-42f4-bb8f-e6b949927bad');\n",
              "          const dataTable =\n",
              "            await google.colab.kernel.invokeFunction('convertToInteractive',\n",
              "                                                     [key], {});\n",
              "          if (!dataTable) return;\n",
              "\n",
              "          const docLinkHtml = 'Like what you see? Visit the ' +\n",
              "            '<a target=\"_blank\" href=https://colab.research.google.com/notebooks/data_table.ipynb>data table notebook</a>'\n",
              "            + ' to learn more about interactive tables.';\n",
              "          element.innerHTML = '';\n",
              "          dataTable['output_type'] = 'display_data';\n",
              "          await google.colab.output.renderOutput(dataTable, element);\n",
              "          const docLink = document.createElement('div');\n",
              "          docLink.innerHTML = docLinkHtml;\n",
              "          element.appendChild(docLink);\n",
              "        }\n",
              "      </script>\n",
              "    </div>\n",
              "  </div>\n",
              "  "
            ],
            "text/plain": [
              "            Time         V1         V2        V3        V4        V5  \\\n",
              "0       0.000000  -1.359807  -0.072781  2.536347  1.378155 -0.338321   \n",
              "1       0.000000   1.191857   0.266151  0.166480  0.448154  0.060018   \n",
              "2       0.000006  -1.358354  -1.340163  1.773209  0.379780 -0.503198   \n",
              "3       0.000006  -0.966272  -0.185226  1.792993 -0.863291 -0.010309   \n",
              "4       0.000012  -1.158233   0.877737  1.548718  0.403034 -0.407193   \n",
              "...          ...        ...        ...       ...       ...       ...   \n",
              "284802  0.999965 -11.881118  10.071785 -9.834783 -2.066656 -5.364473   \n",
              "284803  0.999971  -0.732789  -0.055080  2.035030 -0.738589  0.868229   \n",
              "284804  0.999977   1.919565  -0.301254 -3.249640 -0.557828  2.630515   \n",
              "284805  0.999977  -0.240440   0.530483  0.702510  0.689799 -0.377961   \n",
              "284806  1.000000  -0.533413  -0.189733  0.703337 -0.506271 -0.012546   \n",
              "\n",
              "              V6        V7        V8        V9  ...       V21       V22  \\\n",
              "0       0.462388  0.239599  0.098698  0.363787  ... -0.018307  0.277838   \n",
              "1      -0.082361 -0.078803  0.085102 -0.255425  ... -0.225775 -0.638672   \n",
              "2       1.800499  0.791461  0.247676 -1.514654  ...  0.247998  0.771679   \n",
              "3       1.247203  0.237609  0.377436 -1.387024  ... -0.108300  0.005274   \n",
              "4       0.095921  0.592941 -0.270533  0.817739  ... -0.009431  0.798278   \n",
              "...          ...       ...       ...       ...  ...       ...       ...   \n",
              "284802 -2.606837 -4.918215  7.305334  1.914428  ...  0.213454  0.111864   \n",
              "284803  1.058415  0.024330  0.294869  0.584800  ...  0.214205  0.924384   \n",
              "284804  3.031260 -0.296827  0.708417  0.432454  ...  0.232045  0.578229   \n",
              "284805  0.623708 -0.686180  0.679145  0.392087  ...  0.265245  0.800049   \n",
              "284806 -0.649617  1.577006 -0.414650  0.486180  ...  0.261057  0.643078   \n",
              "\n",
              "             V23       V24       V25       V26       V27       V28    Amount  \\\n",
              "0      -0.110474  0.066928  0.128539 -0.189115  0.133558 -0.021053  1.783274   \n",
              "1       0.101288 -0.339846  0.167170  0.125895 -0.008983  0.014724 -0.269825   \n",
              "2       0.909412 -0.689281 -0.327642 -0.139097 -0.055353 -0.059752  4.983721   \n",
              "3      -0.190321 -1.175575  0.647376 -0.221929  0.062723  0.061458  1.418291   \n",
              "4      -0.137458  0.141267 -0.206010  0.502292  0.219422  0.215153  0.670579   \n",
              "...          ...       ...       ...       ...       ...       ...       ...   \n",
              "284802  1.014480 -0.509348  1.436807  0.250034  0.943651  0.823731 -0.296653   \n",
              "284803  0.012463 -1.016226 -0.606624 -0.395255  0.068472 -0.053527  0.038986   \n",
              "284804 -0.037501  0.640134  0.265745 -0.087371  0.004455 -0.026561  0.641096   \n",
              "284805 -0.163298  0.123205 -0.569159  0.546668  0.108821  0.104533 -0.167680   \n",
              "284806  0.376777  0.008797 -0.473649 -0.818267 -0.002415  0.013649  2.724796   \n",
              "\n",
              "        Class  \n",
              "0           0  \n",
              "1           0  \n",
              "2           0  \n",
              "3           0  \n",
              "4           0  \n",
              "...       ...  \n",
              "284802      0  \n",
              "284803      0  \n",
              "284804      0  \n",
              "284805      0  \n",
              "284806      0  \n",
              "\n",
              "[284807 rows x 31 columns]"
            ]
          },
          "execution_count": 3,
          "metadata": {},
          "output_type": "execute_result"
        }
      ],
      "source": [
        "#fixing time and amount\n",
        "#time\n",
        "from sklearn.preprocessing import RobustScaler\n",
        "new_df = data.copy()\n",
        "new_df['Amount'] = RobustScaler().fit_transform(new_df['Amount'].to_numpy().reshape(-1, 1))\n",
        "time = new_df['Time']\n",
        "new_df['Time'] = (time - time.min()) / (time.max() - time.min())\n",
        "new_df"
      ]
    },
    {
      "cell_type": "code",
      "execution_count": null,
      "metadata": {
        "colab": {
          "base_uri": "https://localhost:8080/",
          "height": 586
        },
        "id": "eYyPt19xkLsI",
        "outputId": "0eca1328-c6d1-4e76-cc0c-0614c887b4a3"
      },
      "outputs": [
        {
          "data": {
            "text/plain": [
              "count    284807.000000\n",
              "mean          0.927124\n",
              "std           3.495006\n",
              "min          -0.307413\n",
              "25%          -0.229162\n",
              "50%           0.000000\n",
              "75%           0.770838\n",
              "max         358.683155\n",
              "Name: Amount, dtype: float64"
            ]
          },
          "execution_count": 4,
          "metadata": {},
          "output_type": "execute_result"
        },
        {
          "data": {
            "image/png": "[encoded data removed]",
            "text/plain": [
              "<Figure size 640x480 with 1 Axes>"
            ]
          },
          "metadata": {},
          "output_type": "display_data"
        }
      ],
      "source": [
        "new_df['Amount'].hist()\n",
        "new_df['Amount'].describe()"
      ]
    },
    {
      "cell_type": "code",
      "execution_count": null,
      "metadata": {
        "colab": {
          "base_uri": "https://localhost:8080/",
          "height": 586
        },
        "id": "TLU-jqI8kPec",
        "outputId": "86bbb38a-86b3-487a-b674-ffabac76f4c2"
      },
      "outputs": [
        {
          "data": {
            "text/plain": [
              "count    284807.000000\n",
              "mean          0.548717\n",
              "std           0.274828\n",
              "min           0.000000\n",
              "25%           0.313681\n",
              "50%           0.490138\n",
              "75%           0.806290\n",
              "max           1.000000\n",
              "Name: Time, dtype: float64"
            ]
          },
          "execution_count": 5,
          "metadata": {},
          "output_type": "execute_result"
        },
        {
          "data": {
            "image/png": "[encoded data removed]",
            "text/plain": [
              "<Figure size 640x480 with 1 Axes>"
            ]
          },
          "metadata": {},
          "output_type": "display_data"
        }
      ],
      "source": [
        "new_df['Time'].hist()\n",
        "new_df['Time'].describe()"
      ]
    },
    {
      "cell_type": "code",
      "execution_count": null,
      "metadata": {
        "colab": {
          "base_uri": "https://localhost:8080/"
        },
        "id": "SI4LW8MYkVoo",
        "outputId": "9a2350d5-33cc-4ce2-cdda-2b0f52c0c7dc"
      },
      "outputs": [
        {
          "data": {
            "text/plain": [
              "0    284315\n",
              "1       492\n",
              "Name: Class, dtype: int64"
            ]
          },
          "execution_count": 6,
          "metadata": {},
          "output_type": "execute_result"
        }
      ],
      "source": [
        "#number of fraudulent and non fraudulent transaction\n",
        "data['Class'].value_counts()"
      ]
    },
    {
      "cell_type": "code",
      "execution_count": null,
      "metadata": {
        "colab": {
          "base_uri": "https://localhost:8080/",
          "height": 488
        },
        "id": "ZaoVicpukWQt",
        "outputId": "c39317fe-ea44-439e-d7c8-f2656e7b7262"
      },
      "outputs": [
        {
          "data": {
            "text/html": [
              "\n",
              "  <div id=\"df-445e23df-4950-4c55-af2d-846e3f8227e8\">\n",
              "    <div class=\"colab-df-container\">\n",
              "      <div>\n",
              "<style scoped>\n",
              "    .dataframe tbody tr th:only-of-type {\n",
              "        vertical-align: middle;\n",
              "    }\n",
              "\n",
              "    .dataframe tbody tr th {\n",
              "        vertical-align: top;\n",
              "    }\n",
              "\n",
              "    .dataframe thead th {\n",
              "        text-align: right;\n",
              "    }\n",
              "</style>\n",
              "<table border=\"1\" class=\"dataframe\">\n",
              "  <thead>\n",
              "    <tr style=\"text-align: right;\">\n",
              "      <th></th>\n",
              "      <th>Time</th>\n",
              "      <th>V1</th>\n",
              "      <th>V2</th>\n",
              "      <th>V3</th>\n",
              "      <th>V4</th>\n",
              "      <th>V5</th>\n",
              "      <th>V6</th>\n",
              "      <th>V7</th>\n",
              "      <th>V8</th>\n",
              "      <th>V9</th>\n",
              "      <th>...</th>\n",
              "      <th>V21</th>\n",
              "      <th>V22</th>\n",
              "      <th>V23</th>\n",
              "      <th>V24</th>\n",
              "      <th>V25</th>\n",
              "      <th>V26</th>\n",
              "      <th>V27</th>\n",
              "      <th>V28</th>\n",
              "      <th>Amount</th>\n",
              "      <th>Class</th>\n",
              "    </tr>\n",
              "  </thead>\n",
              "  <tbody>\n",
              "    <tr>\n",
              "      <th>169876</th>\n",
              "      <td>0.693938</td>\n",
              "      <td>-0.611712</td>\n",
              "      <td>-0.769705</td>\n",
              "      <td>-0.149759</td>\n",
              "      <td>-0.224877</td>\n",
              "      <td>2.028577</td>\n",
              "      <td>-2.019887</td>\n",
              "      <td>0.292491</td>\n",
              "      <td>-0.523020</td>\n",
              "      <td>0.358468</td>\n",
              "      <td>...</td>\n",
              "      <td>-0.075208</td>\n",
              "      <td>0.045536</td>\n",
              "      <td>0.380739</td>\n",
              "      <td>0.023440</td>\n",
              "      <td>-2.220686</td>\n",
              "      <td>-0.201146</td>\n",
              "      <td>0.066501</td>\n",
              "      <td>0.221180</td>\n",
              "      <td>-0.282401</td>\n",
              "      <td>0</td>\n",
              "    </tr>\n",
              "    <tr>\n",
              "      <th>127467</th>\n",
              "      <td>0.453377</td>\n",
              "      <td>-0.814682</td>\n",
              "      <td>1.319219</td>\n",
              "      <td>1.329415</td>\n",
              "      <td>0.027273</td>\n",
              "      <td>-0.284871</td>\n",
              "      <td>-0.653985</td>\n",
              "      <td>0.321552</td>\n",
              "      <td>0.435975</td>\n",
              "      <td>-0.704298</td>\n",
              "      <td>...</td>\n",
              "      <td>-0.128619</td>\n",
              "      <td>-0.368565</td>\n",
              "      <td>0.090660</td>\n",
              "      <td>0.401147</td>\n",
              "      <td>-0.261034</td>\n",
              "      <td>0.080621</td>\n",
              "      <td>0.162427</td>\n",
              "      <td>0.059456</td>\n",
              "      <td>-0.279746</td>\n",
              "      <td>0</td>\n",
              "    </tr>\n",
              "    <tr>\n",
              "      <th>137900</th>\n",
              "      <td>0.476770</td>\n",
              "      <td>-0.318193</td>\n",
              "      <td>1.118618</td>\n",
              "      <td>0.969864</td>\n",
              "      <td>-0.127052</td>\n",
              "      <td>0.569563</td>\n",
              "      <td>-0.532484</td>\n",
              "      <td>0.706252</td>\n",
              "      <td>-0.064966</td>\n",
              "      <td>-0.463271</td>\n",
              "      <td>...</td>\n",
              "      <td>-0.305402</td>\n",
              "      <td>-0.774704</td>\n",
              "      <td>-0.123884</td>\n",
              "      <td>-0.495687</td>\n",
              "      <td>-0.018148</td>\n",
              "      <td>0.121679</td>\n",
              "      <td>0.249050</td>\n",
              "      <td>0.092516</td>\n",
              "      <td>-0.294977</td>\n",
              "      <td>0</td>\n",
              "    </tr>\n",
              "    <tr>\n",
              "      <th>21513</th>\n",
              "      <td>0.183556</td>\n",
              "      <td>-1.328271</td>\n",
              "      <td>1.018378</td>\n",
              "      <td>1.775426</td>\n",
              "      <td>-1.574193</td>\n",
              "      <td>-0.117696</td>\n",
              "      <td>-0.457733</td>\n",
              "      <td>0.681867</td>\n",
              "      <td>-0.031641</td>\n",
              "      <td>0.383872</td>\n",
              "      <td>...</td>\n",
              "      <td>-0.220815</td>\n",
              "      <td>-0.419013</td>\n",
              "      <td>-0.239197</td>\n",
              "      <td>0.009967</td>\n",
              "      <td>0.232829</td>\n",
              "      <td>0.814177</td>\n",
              "      <td>0.098797</td>\n",
              "      <td>-0.004273</td>\n",
              "      <td>-0.084119</td>\n",
              "      <td>0</td>\n",
              "    </tr>\n",
              "    <tr>\n",
              "      <th>134700</th>\n",
              "      <td>0.468326</td>\n",
              "      <td>1.276712</td>\n",
              "      <td>0.617120</td>\n",
              "      <td>-0.578014</td>\n",
              "      <td>0.879173</td>\n",
              "      <td>0.061706</td>\n",
              "      <td>-1.472002</td>\n",
              "      <td>0.373692</td>\n",
              "      <td>-0.287204</td>\n",
              "      <td>-0.084482</td>\n",
              "      <td>...</td>\n",
              "      <td>-0.160161</td>\n",
              "      <td>-0.430404</td>\n",
              "      <td>-0.076738</td>\n",
              "      <td>0.258708</td>\n",
              "      <td>0.552170</td>\n",
              "      <td>0.370701</td>\n",
              "      <td>-0.034255</td>\n",
              "      <td>0.041709</td>\n",
              "      <td>-0.296793</td>\n",
              "      <td>0</td>\n",
              "    </tr>\n",
              "    <tr>\n",
              "      <th>...</th>\n",
              "      <td>...</td>\n",
              "      <td>...</td>\n",
              "      <td>...</td>\n",
              "      <td>...</td>\n",
              "      <td>...</td>\n",
              "      <td>...</td>\n",
              "      <td>...</td>\n",
              "      <td>...</td>\n",
              "      <td>...</td>\n",
              "      <td>...</td>\n",
              "      <td>...</td>\n",
              "      <td>...</td>\n",
              "      <td>...</td>\n",
              "      <td>...</td>\n",
              "      <td>...</td>\n",
              "      <td>...</td>\n",
              "      <td>...</td>\n",
              "      <td>...</td>\n",
              "      <td>...</td>\n",
              "      <td>...</td>\n",
              "      <td>...</td>\n",
              "    </tr>\n",
              "    <tr>\n",
              "      <th>21440</th>\n",
              "      <td>0.183261</td>\n",
              "      <td>-2.986845</td>\n",
              "      <td>-8.663978</td>\n",
              "      <td>-1.910863</td>\n",
              "      <td>0.664058</td>\n",
              "      <td>-3.934875</td>\n",
              "      <td>0.861269</td>\n",
              "      <td>1.647511</td>\n",
              "      <td>-0.480963</td>\n",
              "      <td>-1.546866</td>\n",
              "      <td>...</td>\n",
              "      <td>1.252092</td>\n",
              "      <td>-0.993085</td>\n",
              "      <td>-2.173147</td>\n",
              "      <td>0.145570</td>\n",
              "      <td>-0.235062</td>\n",
              "      <td>-0.227411</td>\n",
              "      <td>-0.382702</td>\n",
              "      <td>0.404045</td>\n",
              "      <td>32.002515</td>\n",
              "      <td>0</td>\n",
              "    </tr>\n",
              "    <tr>\n",
              "      <th>117583</th>\n",
              "      <td>0.432480</td>\n",
              "      <td>0.937083</td>\n",
              "      <td>-0.849673</td>\n",
              "      <td>0.524186</td>\n",
              "      <td>-0.020031</td>\n",
              "      <td>-0.606327</td>\n",
              "      <td>0.692302</td>\n",
              "      <td>-0.463724</td>\n",
              "      <td>0.148857</td>\n",
              "      <td>0.785062</td>\n",
              "      <td>...</td>\n",
              "      <td>-0.143322</td>\n",
              "      <td>-0.479981</td>\n",
              "      <td>-0.237902</td>\n",
              "      <td>-0.715247</td>\n",
              "      <td>0.251418</td>\n",
              "      <td>0.975406</td>\n",
              "      <td>-0.060168</td>\n",
              "      <td>0.023771</td>\n",
              "      <td>2.086495</td>\n",
              "      <td>0</td>\n",
              "    </tr>\n",
              "    <tr>\n",
              "      <th>73349</th>\n",
              "      <td>0.318852</td>\n",
              "      <td>-1.149963</td>\n",
              "      <td>1.696462</td>\n",
              "      <td>1.637114</td>\n",
              "      <td>2.658991</td>\n",
              "      <td>-0.021502</td>\n",
              "      <td>0.192287</td>\n",
              "      <td>0.205204</td>\n",
              "      <td>0.588754</td>\n",
              "      <td>-1.187820</td>\n",
              "      <td>...</td>\n",
              "      <td>0.025147</td>\n",
              "      <td>0.086506</td>\n",
              "      <td>-0.262748</td>\n",
              "      <td>0.321538</td>\n",
              "      <td>0.341667</td>\n",
              "      <td>0.210343</td>\n",
              "      <td>-0.162047</td>\n",
              "      <td>0.031193</td>\n",
              "      <td>-0.201495</td>\n",
              "      <td>0</td>\n",
              "    </tr>\n",
              "    <tr>\n",
              "      <th>267336</th>\n",
              "      <td>0.941757</td>\n",
              "      <td>1.754554</td>\n",
              "      <td>-0.699398</td>\n",
              "      <td>-0.076332</td>\n",
              "      <td>0.443915</td>\n",
              "      <td>-0.672082</td>\n",
              "      <td>0.389061</td>\n",
              "      <td>-0.807534</td>\n",
              "      <td>0.202915</td>\n",
              "      <td>0.858635</td>\n",
              "      <td>...</td>\n",
              "      <td>0.141950</td>\n",
              "      <td>0.358412</td>\n",
              "      <td>0.259748</td>\n",
              "      <td>0.746839</td>\n",
              "      <td>-0.560808</td>\n",
              "      <td>0.104636</td>\n",
              "      <td>-0.005853</td>\n",
              "      <td>-0.019622</td>\n",
              "      <td>1.017257</td>\n",
              "      <td>0</td>\n",
              "    </tr>\n",
              "    <tr>\n",
              "      <th>128037</th>\n",
              "      <td>0.454743</td>\n",
              "      <td>-0.707635</td>\n",
              "      <td>0.493302</td>\n",
              "      <td>2.648089</td>\n",
              "      <td>1.064807</td>\n",
              "      <td>-0.680271</td>\n",
              "      <td>1.183838</td>\n",
              "      <td>0.169413</td>\n",
              "      <td>0.074553</td>\n",
              "      <td>1.247988</td>\n",
              "      <td>...</td>\n",
              "      <td>-0.102350</td>\n",
              "      <td>0.323975</td>\n",
              "      <td>-0.172601</td>\n",
              "      <td>0.126965</td>\n",
              "      <td>-0.001998</td>\n",
              "      <td>-0.398741</td>\n",
              "      <td>-0.385589</td>\n",
              "      <td>-0.205589</td>\n",
              "      <td>0.500245</td>\n",
              "      <td>0</td>\n",
              "    </tr>\n",
              "  </tbody>\n",
              "</table>\n",
              "<p>284807 rows × 31 columns</p>\n",
              "</div>\n",
              "      <button class=\"colab-df-convert\" onclick=\"convertToInteractive('df-445e23df-4950-4c55-af2d-846e3f8227e8')\"\n",
              "              title=\"Convert this dataframe to an interactive table.\"\n",
              "              style=\"display:none;\">\n",
              "        \n",
              "  <svg xmlns=\"http://www.w3.org/2000/svg\" height=\"24px\"viewBox=\"0 0 24 24\"\n",
              "       width=\"24px\">\n",
              "    <path d=\"M0 0h24v24H0V0z\" fill=\"none\"/>\n",
              "    <path d=\"M18.56 5.44l.94 2.06.94-2.06 2.06-.94-2.06-.94-.94-2.06-.94 2.06-2.06.94zm-11 1L8.5 8.5l.94-2.06 2.06-.94-2.06-.94L8.5 2.5l-.94 2.06-2.06.94zm10 10l.94 2.06.94-2.06 2.06-.94-2.06-.94-.94-2.06-.94 2.06-2.06.94z\"/><path d=\"M17.41 7.96l-1.37-1.37c-.4-.4-.92-.59-1.43-.59-.52 0-1.04.2-1.43.59L10.3 9.45l-7.72 7.72c-.78.78-.78 2.05 0 2.83L4 21.41c.39.39.9.59 1.41.59.51 0 1.02-.2 1.41-.59l7.78-7.78 2.81-2.81c.8-.78.8-2.07 0-2.86zM5.41 20L4 18.59l7.72-7.72 1.47 1.35L5.41 20z\"/>\n",
              "  </svg>\n",
              "      </button>\n",
              "      \n",
              "  <style>\n",
              "    .colab-df-container {\n",
              "      display:flex;\n",
              "      flex-wrap:wrap;\n",
              "      gap: 12px;\n",
              "    }\n",
              "\n",
              "    .colab-df-convert {\n",
              "      background-color: #E8F0FE;\n",
              "      border: none;\n",
              "      border-radius: 50%;\n",
              "      cursor: pointer;\n",
              "      display: none;\n",
              "      fill: #1967D2;\n",
              "      height: 32px;\n",
              "      padding: 0 0 0 0;\n",
              "      width: 32px;\n",
              "    }\n",
              "\n",
              "    .colab-df-convert:hover {\n",
              "      background-color: #E2EBFA;\n",
              "      box-shadow: 0px 1px 2px rgba(60, 64, 67, 0.3), 0px 1px 3px 1px rgba(60, 64, 67, 0.15);\n",
              "      fill: #174EA6;\n",
              "    }\n",
              "\n",
              "    [theme=dark] .colab-df-convert {\n",
              "      background-color: #3B4455;\n",
              "      fill: #D2E3FC;\n",
              "    }\n",
              "\n",
              "    [theme=dark] .colab-df-convert:hover {\n",
              "      background-color: #434B5C;\n",
              "      box-shadow: 0px 1px 3px 1px rgba(0, 0, 0, 0.15);\n",
              "      filter: drop-shadow(0px 1px 2px rgba(0, 0, 0, 0.3));\n",
              "      fill: #FFFFFF;\n",
              "    }\n",
              "  </style>\n",
              "\n",
              "      <script>\n",
              "        const buttonEl =\n",
              "          document.querySelector('#df-445e23df-4950-4c55-af2d-846e3f8227e8 button.colab-df-convert');\n",
              "        buttonEl.style.display =\n",
              "          google.colab.kernel.accessAllowed ? 'block' : 'none';\n",
              "\n",
              "        async function convertToInteractive(key) {\n",
              "          const element = document.querySelector('#df-445e23df-4950-4c55-af2d-846e3f8227e8');\n",
              "          const dataTable =\n",
              "            await google.colab.kernel.invokeFunction('convertToInteractive',\n",
              "                                                     [key], {});\n",
              "          if (!dataTable) return;\n",
              "\n",
              "          const docLinkHtml = 'Like what you see? Visit the ' +\n",
              "            '<a target=\"_blank\" href=https://colab.research.google.com/notebooks/data_table.ipynb>data table notebook</a>'\n",
              "            + ' to learn more about interactive tables.';\n",
              "          element.innerHTML = '';\n",
              "          dataTable['output_type'] = 'display_data';\n",
              "          await google.colab.output.renderOutput(dataTable, element);\n",
              "          const docLink = document.createElement('div');\n",
              "          docLink.innerHTML = docLinkHtml;\n",
              "          element.appendChild(docLink);\n",
              "        }\n",
              "      </script>\n",
              "    </div>\n",
              "  </div>\n",
              "  "
            ],
            "text/plain": [
              "            Time        V1        V2        V3        V4        V5        V6  \\\n",
              "169876  0.693938 -0.611712 -0.769705 -0.149759 -0.224877  2.028577 -2.019887   \n",
              "127467  0.453377 -0.814682  1.319219  1.329415  0.027273 -0.284871 -0.653985   \n",
              "137900  0.476770 -0.318193  1.118618  0.969864 -0.127052  0.569563 -0.532484   \n",
              "21513   0.183556 -1.328271  1.018378  1.775426 -1.574193 -0.117696 -0.457733   \n",
              "134700  0.468326  1.276712  0.617120 -0.578014  0.879173  0.061706 -1.472002   \n",
              "...          ...       ...       ...       ...       ...       ...       ...   \n",
              "21440   0.183261 -2.986845 -8.663978 -1.910863  0.664058 -3.934875  0.861269   \n",
              "117583  0.432480  0.937083 -0.849673  0.524186 -0.020031 -0.606327  0.692302   \n",
              "73349   0.318852 -1.149963  1.696462  1.637114  2.658991 -0.021502  0.192287   \n",
              "267336  0.941757  1.754554 -0.699398 -0.076332  0.443915 -0.672082  0.389061   \n",
              "128037  0.454743 -0.707635  0.493302  2.648089  1.064807 -0.680271  1.183838   \n",
              "\n",
              "              V7        V8        V9  ...       V21       V22       V23  \\\n",
              "169876  0.292491 -0.523020  0.358468  ... -0.075208  0.045536  0.380739   \n",
              "127467  0.321552  0.435975 -0.704298  ... -0.128619 -0.368565  0.090660   \n",
              "137900  0.706252 -0.064966 -0.463271  ... -0.305402 -0.774704 -0.123884   \n",
              "21513   0.681867 -0.031641  0.383872  ... -0.220815 -0.419013 -0.239197   \n",
              "134700  0.373692 -0.287204 -0.084482  ... -0.160161 -0.430404 -0.076738   \n",
              "...          ...       ...       ...  ...       ...       ...       ...   \n",
              "21440   1.647511 -0.480963 -1.546866  ...  1.252092 -0.993085 -2.173147   \n",
              "117583 -0.463724  0.148857  0.785062  ... -0.143322 -0.479981 -0.237902   \n",
              "73349   0.205204  0.588754 -1.187820  ...  0.025147  0.086506 -0.262748   \n",
              "267336 -0.807534  0.202915  0.858635  ...  0.141950  0.358412  0.259748   \n",
              "128037  0.169413  0.074553  1.247988  ... -0.102350  0.323975 -0.172601   \n",
              "\n",
              "             V24       V25       V26       V27       V28     Amount  Class  \n",
              "169876  0.023440 -2.220686 -0.201146  0.066501  0.221180  -0.282401      0  \n",
              "127467  0.401147 -0.261034  0.080621  0.162427  0.059456  -0.279746      0  \n",
              "137900 -0.495687 -0.018148  0.121679  0.249050  0.092516  -0.294977      0  \n",
              "21513   0.009967  0.232829  0.814177  0.098797 -0.004273  -0.084119      0  \n",
              "134700  0.258708  0.552170  0.370701 -0.034255  0.041709  -0.296793      0  \n",
              "...          ...       ...       ...       ...       ...        ...    ...  \n",
              "21440   0.145570 -0.235062 -0.227411 -0.382702  0.404045  32.002515      0  \n",
              "117583 -0.715247  0.251418  0.975406 -0.060168  0.023771   2.086495      0  \n",
              "73349   0.321538  0.341667  0.210343 -0.162047  0.031193  -0.201495      0  \n",
              "267336  0.746839 -0.560808  0.104636 -0.005853 -0.019622   1.017257      0  \n",
              "128037  0.126965 -0.001998 -0.398741 -0.385589 -0.205589   0.500245      0  \n",
              "\n",
              "[284807 rows x 31 columns]"
            ]
          },
          "execution_count": 7,
          "metadata": {},
          "output_type": "execute_result"
        }
      ],
      "source": [
        "new_df = new_df.sample(frac=1, random_state=1)\n",
        "new_df"
      ]
    },
    {
      "cell_type": "markdown",
      "metadata": {
        "id": "DRqKy5WZD_uc"
      },
      "source": [
        "**SVM**"
      ]
    },
    {
      "cell_type": "code",
      "execution_count": null,
      "metadata": {
        "colab": {
          "base_uri": "https://localhost:8080/"
        },
        "id": "VeqqsTLuk2MX",
        "outputId": "fc3f8686-6e23-4bbc-a606-752c8454e140"
      },
      "outputs": [
        {
          "data": {
            "text/plain": [
              "(0    239589\n",
              " 1       411\n",
              " Name: Class, dtype: int64,\n",
              " 0    21955\n",
              " 1       45\n",
              " Name: Class, dtype: int64,\n",
              " 0    22771\n",
              " 1       36\n",
              " Name: Class, dtype: int64)"
            ]
          },
          "execution_count": 8,
          "metadata": {},
          "output_type": "execute_result"
        }
      ],
      "source": [
        "train, test, val = new_df[:240000], new_df[240000:262000], new_df[262000:]\n",
        "train['Class'].value_counts(), test['Class'].value_counts(), val['Class'].value_counts()"
      ]
    },
    {
      "cell_type": "code",
      "execution_count": null,
      "metadata": {
        "colab": {
          "base_uri": "https://localhost:8080/"
        },
        "id": "yClFmJQ6k8iM",
        "outputId": "ca65b658-0dbc-42f6-8e17-72296f834ab8"
      },
      "outputs": [
        {
          "data": {
            "text/plain": [
              "((240000, 31), (22000, 31), (22807, 31))"
            ]
          },
          "execution_count": 9,
          "metadata": {},
          "output_type": "execute_result"
        }
      ],
      "source": [
        "train_np, test_np, val_np = train.to_numpy(), test.to_numpy(), val.to_numpy()\n",
        "train_np.shape, test_np.shape, val_np.shape"
      ]
    },
    {
      "cell_type": "code",
      "execution_count": null,
      "metadata": {
        "colab": {
          "base_uri": "https://localhost:8080/"
        },
        "id": "8r910I4SlAqN",
        "outputId": "afc77812-ddad-4fe1-b63c-83a39a504962"
      },
      "outputs": [
        {
          "data": {
            "text/plain": [
              "((240000, 30), (240000,), (22000, 30), (22000,), (22807, 30), (22807,))"
            ]
          },
          "execution_count": 10,
          "metadata": {},
          "output_type": "execute_result"
        }
      ],
      "source": [
        "x_train, y_train = train_np[:, :-1], train_np[:, -1]\n",
        "x_test, y_test = test_np[:, :-1], test_np[:, -1]\n",
        "x_val, y_val = val_np[:, :-1], val_np[:, -1]\n",
        "x_train.shape, y_train.shape, x_test.shape, y_test.shape, x_val.shape, y_val.shape"
      ]
    },
    {
      "cell_type": "code",
      "execution_count": null,
      "metadata": {
        "id": "9943_s9_EqWp"
      },
      "outputs": [],
      "source": [
        "from sklearn.svm import LinearSVC\n",
        "svc = LinearSVC(class_weight='balanced')\n",
        "#svc.fit(x_train, y_train)\n",
        "print(classification_report(y_val, svc.predict(x_val), target_names=['Not Fraud', 'Fraud']))"
      ]
    },
    {
      "cell_type": "code",
      "execution_count": null,
      "metadata": {
        "colab": {
          "base_uri": "https://localhost:8080/",
          "height": 208
        },
        "id": "qS1c3orSk-D8",
        "outputId": "a5db7029-6d34-4eec-f3bd-6068d1b7710b"
      },
      "outputs": [
        {
          "ename": "NameError",
          "evalue": "ignored",
          "output_type": "error",
          "traceback": [
            "\u001b[0;31m---------------------------------------------------------------------------\u001b[0m",
            "\u001b[0;31mNameError\u001b[0m                                 Traceback (most recent call last)",
            "\u001b[0;32m<ipython-input-1-ece3493b3b85>\u001b[0m in \u001b[0;36m<cell line: 1>\u001b[0;34m()\u001b[0m\n\u001b[0;32m----> 1\u001b[0;31m \u001b[0mnot_frauds\u001b[0m \u001b[0;34m=\u001b[0m \u001b[0mnew_df\u001b[0m\u001b[0;34m.\u001b[0m\u001b[0mquery\u001b[0m\u001b[0;34m(\u001b[0m\u001b[0;34m'Class == 0'\u001b[0m\u001b[0;34m)\u001b[0m\u001b[0;34m\u001b[0m\u001b[0;34m\u001b[0m\u001b[0m\n\u001b[0m\u001b[1;32m      2\u001b[0m \u001b[0mfrauds\u001b[0m \u001b[0;34m=\u001b[0m \u001b[0mnew_df\u001b[0m\u001b[0;34m.\u001b[0m\u001b[0mquery\u001b[0m\u001b[0;34m(\u001b[0m\u001b[0;34m'Class == 1'\u001b[0m\u001b[0;34m)\u001b[0m\u001b[0;34m\u001b[0m\u001b[0;34m\u001b[0m\u001b[0m\n\u001b[1;32m      3\u001b[0m \u001b[0mnot_frauds\u001b[0m\u001b[0;34m[\u001b[0m\u001b[0;34m'Class'\u001b[0m\u001b[0;34m]\u001b[0m\u001b[0;34m.\u001b[0m\u001b[0mvalue_counts\u001b[0m\u001b[0;34m(\u001b[0m\u001b[0;34m)\u001b[0m\u001b[0;34m,\u001b[0m \u001b[0mfrauds\u001b[0m\u001b[0;34m[\u001b[0m\u001b[0;34m'Class'\u001b[0m\u001b[0;34m]\u001b[0m\u001b[0;34m.\u001b[0m\u001b[0mvalue_counts\u001b[0m\u001b[0;34m(\u001b[0m\u001b[0;34m)\u001b[0m\u001b[0;34m\u001b[0m\u001b[0;34m\u001b[0m\u001b[0m\n",
            "\u001b[0;31mNameError\u001b[0m: name 'new_df' is not defined"
          ]
        }
      ],
      "source": [
        "not_frauds = new_df.query('Class == 0')\n",
        "frauds = new_df.query('Class == 1')\n",
        "not_frauds['Class'].value_counts(), frauds['Class'].value_counts()"
      ]
    },
    {
      "cell_type": "code",
      "execution_count": null,
      "metadata": {
        "colab": {
          "base_uri": "https://localhost:8080/",
          "height": 190
        },
        "id": "kHHwW6szk0nM",
        "outputId": "aee7a433-b306-431c-e4c3-988b34034007"
      },
      "outputs": [
        {
          "ename": "NameError",
          "evalue": "ignored",
          "output_type": "error",
          "traceback": [
            "\u001b[0;31m---------------------------------------------------------------------------\u001b[0m",
            "\u001b[0;31mNameError\u001b[0m                                 Traceback (most recent call last)",
            "\u001b[0;32m<ipython-input-2-d1fb9e7592c5>\u001b[0m in \u001b[0;36m<cell line: 1>\u001b[0;34m()\u001b[0m\n\u001b[0;32m----> 1\u001b[0;31m \u001b[0mbalanced_df\u001b[0m \u001b[0;34m=\u001b[0m \u001b[0mpd\u001b[0m\u001b[0;34m.\u001b[0m\u001b[0mconcat\u001b[0m\u001b[0;34m(\u001b[0m\u001b[0;34m[\u001b[0m\u001b[0mfrauds\u001b[0m\u001b[0;34m,\u001b[0m \u001b[0mnot_frauds\u001b[0m\u001b[0;34m.\u001b[0m\u001b[0msample\u001b[0m\u001b[0;34m(\u001b[0m\u001b[0mlen\u001b[0m\u001b[0;34m(\u001b[0m\u001b[0mfrauds\u001b[0m\u001b[0;34m)\u001b[0m\u001b[0;34m,\u001b[0m \u001b[0mrandom_state\u001b[0m\u001b[0;34m=\u001b[0m\u001b[0;36m1\u001b[0m\u001b[0;34m)\u001b[0m\u001b[0;34m]\u001b[0m\u001b[0;34m)\u001b[0m\u001b[0;34m\u001b[0m\u001b[0;34m\u001b[0m\u001b[0m\n\u001b[0m\u001b[1;32m      2\u001b[0m \u001b[0mbalanced_df\u001b[0m\u001b[0;34m[\u001b[0m\u001b[0;34m'Class'\u001b[0m\u001b[0;34m]\u001b[0m\u001b[0;34m.\u001b[0m\u001b[0mvalue_counts\u001b[0m\u001b[0;34m(\u001b[0m\u001b[0;34m)\u001b[0m\u001b[0;34m\u001b[0m\u001b[0;34m\u001b[0m\u001b[0m\n",
            "\u001b[0;31mNameError\u001b[0m: name 'pd' is not defined"
          ]
        }
      ],
      "source": [
        "balanced_df = pd.concat([frauds, not_frauds.sample(len(frauds), random_state=1)])\n",
        "balanced_df['Class'].value_counts()"
      ]
    },
    {
      "cell_type": "code",
      "execution_count": null,
      "metadata": {
        "colab": {
          "base_uri": "https://localhost:8080/"
        },
        "id": "Vd2NGs4gkScu",
        "outputId": "76d88301-5bca-4cf0-9ce2-e6b92b19dddf"
      },
      "outputs": [
        {
          "data": {
            "text/plain": [
              "((700, 30), (700,), (142, 30), (142,), (142, 30), (142,))"
            ]
          },
          "execution_count": 150,
          "metadata": {},
          "output_type": "execute_result"
        }
      ],
      "source": [
        "balanced_df_np = balanced_df.to_numpy()\n",
        "\n",
        "x_train_b, y_train_b = balanced_df_np[:700, :-1], balanced_df_np[:700, -1].astype(int)\n",
        "x_test_b, y_test_b = balanced_df_np[700:842, :-1], balanced_df_np[700:842, -1].astype(int)\n",
        "x_val_b, y_val_b = balanced_df_np[842:, :-1], balanced_df_np[842:, -1].astype(int)\n",
        "x_train_b.shape, y_train_b.shape, x_test_b.shape, y_test_b.shape, x_val_b.shape, y_val_b.shape"
      ]
    },
    {
      "cell_type": "code",
      "execution_count": null,
      "metadata": {
        "colab": {
          "base_uri": "https://localhost:8080/"
        },
        "id": "NGHRMDUwkXSA",
        "outputId": "b24c5038-3517-4b72-b979-6e3863dc7e57"
      },
      "outputs": [
        {
          "data": {
            "text/plain": [
              "(1    492\n",
              " 0    208\n",
              " dtype: int64,\n",
              " 0    142\n",
              " dtype: int64,\n",
              " 0    142\n",
              " dtype: int64)"
            ]
          },
          "execution_count": 152,
          "metadata": {},
          "output_type": "execute_result"
        }
      ],
      "source": [
        "pd.Series(y_train_b).value_counts(), pd.Series(y_test_b).value_counts(), pd.Series(y_val_b).value_counts()"
      ]
    },
    {
      "cell_type": "code",
      "execution_count": null,
      "metadata": {
        "id": "bYoGA8kSkYDx"
      },
      "outputs": [],
      "source": [
        "from sklearn.svm import SVC\n",
        "from sklearn.metrics import classification_report\n",
        "\n",
        "\n",
        "svc_b = LinearSVC(class_weight='balanced')\n",
        "svc_b.fit(x_train_b, y_train_b)\n",
        "print(classification_report(y_val_b, svc_bal.predict(x_val_b), target_names=['Not Fraud', 'Fraud']))"
      ]
    },
    {
      "cell_type": "code",
      "execution_count": null,
      "metadata": {
        "colab": {
          "base_uri": "https://localhost:8080/"
        },
        "id": "gI849KMQnWfp",
        "outputId": "c64dc5de-2b8b-47de-9406-4d3bcfbde834"
      },
      "outputs": [
        {
          "name": "stdout",
          "output_type": "stream",
          "text": [
            "[[22744    27]\n",
            " [    9    27]]\n"
          ]
        }
      ],
      "source": [
        "y_pred = svc.predict(x_val)\n",
        "conf_matrix = confusion_matrix(y_val, y_pred)\n",
        "print(conf_matrix)"
      ]
    },
    {
      "cell_type": "markdown",
      "metadata": {
        "id": "3AmE8ME3lUZn"
      },
      "source": [
        "**ANN**"
      ]
    },
    {
      "cell_type": "code",
      "execution_count": null,
      "metadata": {
        "id": "q2kzxTuplDwc"
      },
      "outputs": [],
      "source": [
        "import keras\n",
        "from keras.models import Sequential\n",
        "from keras.layers import Dense\n",
        "from keras.layers import Dropout\n",
        "model=Sequential()\n",
        "# first layer\n",
        "model.add(Dense(units=20,kernel_initializer='he_normal',activation='relu',input_dim=30))\n",
        "#2nd layer\n",
        "model.add(Dense(units=15,kernel_initializer='he_normal',activation='relu'))\n",
        "#3rd layer\n",
        "model.add(Dense(units=1,kernel_initializer='he_normal',activation='sigmoid'))\n",
        "# compiling!\n",
        "model.compile(optimizer='Adamax',loss='binary_crossentropy',metrics=['accuracy'])\n",
        "# Train the ANN\n",
        "model.fit(x_train, y_train, batch_size = 32, epochs = 20,validation_split=0.2)\n"
      ]
    },
    {
      "cell_type": "code",
      "execution_count": null,
      "metadata": {
        "colab": {
          "base_uri": "https://localhost:8080/"
        },
        "id": "-eWsfZftFyXr",
        "outputId": "e41f7490-fc6a-4c2b-9cad-708c35f4fe6b"
      },
      "outputs": [
        {
          "name": "stdout",
          "output_type": "stream",
          "text": [
            "Epoch 1/20\n",
            "6000/6000 [==============================] - 16s 2ms/step - loss: 0.0160 - accuracy: 0.9982 - val_loss: 0.0055 - val_accuracy: 0.9985\n",
            "Epoch 2/20\n",
            "6000/6000 [==============================] - 15s 2ms/step - loss: 0.0051 - accuracy: 0.9989 - val_loss: 0.0035 - val_accuracy: 0.9995\n",
            "Epoch 3/20\n",
            "6000/6000 [==============================] - 14s 2ms/step - loss: 0.0040 - accuracy: 0.9993 - val_loss: 0.0032 - val_accuracy: 0.9995\n",
            "Epoch 4/20\n",
            "6000/6000 [==============================] - 15s 2ms/step - loss: 0.0037 - accuracy: 0.9994 - val_loss: 0.0031 - val_accuracy: 0.9995\n",
            "Epoch 5/20\n",
            "6000/6000 [==============================] - 15s 2ms/step - loss: 0.0035 - accuracy: 0.9994 - val_loss: 0.0030 - val_accuracy: 0.9995\n",
            "Epoch 6/20\n",
            "6000/6000 [==============================] - 15s 3ms/step - loss: 0.0034 - accuracy: 0.9994 - val_loss: 0.0029 - val_accuracy: 0.9995\n",
            "Epoch 7/20\n",
            "6000/6000 [==============================] - 14s 2ms/step - loss: 0.0033 - accuracy: 0.9994 - val_loss: 0.0029 - val_accuracy: 0.9995\n",
            "Epoch 8/20\n",
            "6000/6000 [==============================] - 15s 2ms/step - loss: 0.0032 - accuracy: 0.9994 - val_loss: 0.0028 - val_accuracy: 0.9995\n",
            "Epoch 9/20\n",
            "6000/6000 [==============================] - 15s 2ms/step - loss: 0.0031 - accuracy: 0.9994 - val_loss: 0.0028 - val_accuracy: 0.9995\n",
            "Epoch 10/20\n",
            "6000/6000 [==============================] - 14s 2ms/step - loss: 0.0030 - accuracy: 0.9994 - val_loss: 0.0028 - val_accuracy: 0.9995\n",
            "Epoch 11/20\n",
            "6000/6000 [==============================] - 14s 2ms/step - loss: 0.0030 - accuracy: 0.9994 - val_loss: 0.0028 - val_accuracy: 0.9995\n",
            "Epoch 12/20\n",
            "6000/6000 [==============================] - 14s 2ms/step - loss: 0.0029 - accuracy: 0.9994 - val_loss: 0.0028 - val_accuracy: 0.9995\n",
            "Epoch 13/20\n",
            "6000/6000 [==============================] - 14s 2ms/step - loss: 0.0029 - accuracy: 0.9995 - val_loss: 0.0028 - val_accuracy: 0.9995\n",
            "Epoch 14/20\n",
            "6000/6000 [==============================] - 14s 2ms/step - loss: 0.0028 - accuracy: 0.9995 - val_loss: 0.0028 - val_accuracy: 0.9995\n",
            "Epoch 15/20\n",
            "6000/6000 [==============================] - 15s 2ms/step - loss: 0.0028 - accuracy: 0.9995 - val_loss: 0.0028 - val_accuracy: 0.9995\n",
            "Epoch 16/20\n",
            "6000/6000 [==============================] - 15s 2ms/step - loss: 0.0028 - accuracy: 0.9994 - val_loss: 0.0028 - val_accuracy: 0.9995\n",
            "Epoch 17/20\n",
            "6000/6000 [==============================] - 15s 2ms/step - loss: 0.0027 - accuracy: 0.9995 - val_loss: 0.0028 - val_accuracy: 0.9995\n",
            "Epoch 18/20\n",
            "6000/6000 [==============================] - 15s 2ms/step - loss: 0.0027 - accuracy: 0.9995 - val_loss: 0.0028 - val_accuracy: 0.9995\n",
            "Epoch 19/20\n",
            "6000/6000 [==============================] - 14s 2ms/step - loss: 0.0027 - accuracy: 0.9995 - val_loss: 0.0028 - val_accuracy: 0.9995\n",
            "Epoch 20/20\n",
            "6000/6000 [==============================] - 14s 2ms/step - loss: 0.0027 - accuracy: 0.9995 - val_loss: 0.0028 - val_accuracy: 0.9995\n"
          ]
        },
        {
          "data": {
            "text/plain": [
              "<keras.callbacks.History at 0x7f3960afe890>"
            ]
          },
          "execution_count": 12,
          "metadata": {},
          "output_type": "execute_result"
        }
      ],
      "source": [
        "# Train the ANN\n",
        "model.fit(x_train, y_train, batch_size = 32, epochs = 20,validation_split=0.2)"
      ]
    },
    {
      "cell_type": "code",
      "execution_count": null,
      "metadata": {
        "colab": {
          "base_uri": "https://localhost:8080/"
        },
        "id": "h0-zuGRGswQR",
        "outputId": "ca96d91e-12db-4fa0-e88d-030bfa463fa2"
      },
      "outputs": [
        {
          "name": "stdout",
          "output_type": "stream",
          "text": [
            "688/688 [==============================] - 1s 1ms/step\n",
            "[0. 0. 0. ... 0. 0. 0.]\n"
          ]
        }
      ],
      "source": [
        "# extract the predicted probabilities\n",
        "p_pred = model.predict(x_test)\n",
        "p_pred = p_pred.flatten()\n",
        "print(p_pred.round(2))"
      ]
    },
    {
      "cell_type": "code",
      "execution_count": null,
      "metadata": {
        "colab": {
          "base_uri": "https://localhost:8080/"
        },
        "id": "1rPkDl7bs6lT",
        "outputId": "3b059555-ed27-410e-dc45-373783712641"
      },
      "outputs": [
        {
          "name": "stdout",
          "output_type": "stream",
          "text": [
            "[0 0 0 ... 0 0 0]\n"
          ]
        }
      ],
      "source": [
        "# extract the predicted class labels\n",
        "import numpy as np\n",
        "y_pred = np.where(p_pred > 0.5, 1, 0)\n",
        "print(y_pred)"
      ]
    },
    {
      "cell_type": "code",
      "execution_count": null,
      "metadata": {
        "colab": {
          "base_uri": "https://localhost:8080/"
        },
        "id": "cHc7BRIrs_o4",
        "outputId": "a69bb2bd-9ee9-421b-a12a-ec60da43b5a2"
      },
      "outputs": [
        {
          "name": "stdout",
          "output_type": "stream",
          "text": [
            "[[21951     4]\n",
            " [   10    35]]\n"
          ]
        }
      ],
      "source": [
        "\n",
        "import numpy as np\n",
        "import tensorflow as tf\n",
        "from tensorflow.keras.models import Sequential\n",
        "from tensorflow.keras.layers import Dense, Dropout\n",
        "from sklearn.datasets import make_classification\n",
        "from sklearn.model_selection import train_test_split\n",
        "from sklearn.metrics import confusion_matrix, classification_report\n",
        "print(confusion_matrix(y_test, y_pred))\n"
      ]
    },
    {
      "cell_type": "code",
      "execution_count": null,
      "metadata": {
        "colab": {
          "base_uri": "https://localhost:8080/"
        },
        "id": "TIsJUzdCtWXG",
        "outputId": "45a66658-1d87-426e-eaa6-3c61ddc8095b"
      },
      "outputs": [
        {
          "name": "stdout",
          "output_type": "stream",
          "text": [
            "              precision    recall  f1-score   support\n",
            "\n",
            "         0.0       1.00      1.00      1.00     21955\n",
            "         1.0       0.90      0.78      0.83        45\n",
            "\n",
            "    accuracy                           1.00     22000\n",
            "   macro avg       0.95      0.89      0.92     22000\n",
            "weighted avg       1.00      1.00      1.00     22000\n",
            "\n"
          ]
        }
      ],
      "source": [
        "print(classification_report(y_test, y_pred))"
      ]
    },
    {
      "cell_type": "code",
      "execution_count": null,
      "metadata": {
        "id": "SQBt1CjmnitM"
      },
      "outputs": [],
      "source": [
        "#model.score(x_train, y_train)"
      ]
    },
    {
      "cell_type": "code",
      "execution_count": null,
      "metadata": {
        "colab": {
          "base_uri": "https://localhost:8080/"
        },
        "id": "K5nzFUHDVcMy",
        "outputId": "395f6b8a-e492-4b1d-e2b4-da47a6de4866"
      },
      "outputs": [
        {
          "name": "stdout",
          "output_type": "stream",
          "text": [
            "7500/7500 [==============================] - 11s 2ms/step - loss: 0.0027 - accuracy: 0.9995\n",
            "Training Loss: 0.002691816771402955\n",
            "Training Accuracy: 0.9994750022888184\n"
          ]
        }
      ],
      "source": [
        "# Evaluate model on training set\n",
        "train_loss, train_accuracy = model.evaluate(x_train, y_train)\n",
        "print(\"Training Loss:\", train_loss)\n",
        "print(\"Training Accuracy:\", train_accuracy)"
      ]
    },
    {
      "cell_type": "code",
      "execution_count": null,
      "metadata": {
        "id": "OpRai4AZn0yU"
      },
      "outputs": [],
      "source": [
        "#from sklearn.metrics import classification_report\n",
        "#print(classification_report(y_val, model.predict(x_val)))"
      ]
    },
    {
      "cell_type": "code",
      "execution_count": null,
      "metadata": {
        "colab": {
          "base_uri": "https://localhost:8080/"
        },
        "id": "I-9JulIlWEdb",
        "outputId": "77fd4f70-1997-4b0e-c0c9-f5270a83f133"
      },
      "outputs": [
        {
          "name": "stdout",
          "output_type": "stream",
          "text": [
            "713/713 [==============================] - 1s 1ms/step\n",
            "              precision    recall  f1-score   support\n",
            "\n",
            "         0.0       1.00      1.00      1.00     22771\n",
            "         1.0       0.73      0.75      0.74        36\n",
            "\n",
            "    accuracy                           1.00     22807\n",
            "   macro avg       0.86      0.87      0.87     22807\n",
            "weighted avg       1.00      1.00      1.00     22807\n",
            "\n"
          ]
        }
      ],
      "source": [
        "import numpy as np\n",
        "from sklearn.metrics import classification_report\n",
        "\n",
        "# Threshold the predicted probabilities\n",
        "y_pred = np.where(model.predict(x_val) > 0.5, 1, 0)\n",
        "\n",
        "# Ensure y_val and y_pred have the same shape\n",
        "y_val = y_val.flatten()  # If y_val is not already flattened\n",
        "\n",
        "# Generate the classification report\n",
        "print(classification_report(y_val, y_pred))"
      ]
    },
    {
      "cell_type": "code",
      "execution_count": null,
      "metadata": {
        "id": "2Bc-Dpmco1yg"
      },
      "outputs": [],
      "source": [
        "#from sklearn.metrics import accuracy_score\n",
        "#score=accuracy_score(y_train,y_pred)\n"
      ]
    },
    {
      "cell_type": "markdown",
      "metadata": {
        "id": "QNptsdAVwVNw"
      },
      "source": [
        "ANN + Random UNDERSampling"
      ]
    },
    {
      "cell_type": "code",
      "execution_count": null,
      "metadata": {
        "colab": {
          "base_uri": "https://localhost:8080/"
        },
        "id": "LnfU5S5jwa9h",
        "outputId": "fad845e7-4f90-45bb-df91-28303dbec9e3"
      },
      "outputs": [
        {
          "data": {
            "text/plain": [
              "0    284315\n",
              "1       492\n",
              "Name: Class, dtype: int64"
            ]
          },
          "execution_count": 23,
          "metadata": {},
          "output_type": "execute_result"
        }
      ],
      "source": [
        "x = new_df.drop(['Class'], axis=1)\n",
        "y = new_df['Class']\n",
        "y.value_counts()"
      ]
    },
    {
      "cell_type": "code",
      "execution_count": null,
      "metadata": {
        "id": "VmNrgVu0NZOZ"
      },
      "outputs": [],
      "source": []
    },
    {
      "cell_type": "code",
      "execution_count": null,
      "metadata": {
        "id": "0vVW0P7_GbkO"
      },
      "outputs": [],
      "source": [
        "# Split the data into features (X) and target (y)\n",
        "#x = new_df.drop(['Class'], axis=1)\n",
        "#y = new_df['Class']\n",
        "\n",
        "\n",
        "\n",
        "\n",
        "\n",
        "# Perform oversampling on the training set only\n",
        "#ros = RandomUnderSampler(sampling_strategy=\"not majority\")\n",
        "#X_train_res, y_train_res = ros.fit_resample(X_train, y_train)"
      ]
    },
    {
      "cell_type": "code",
      "execution_count": null,
      "metadata": {
        "colab": {
          "base_uri": "https://localhost:8080/",
          "height": 428
        },
        "id": "48B5UJOHwu0a",
        "outputId": "a0f16f5f-3e15-43dc-8aae-38c877235421"
      },
      "outputs": [
        {
          "data": {
            "image/png": "[encoded data removed]",
            "text/plain": [
              "<Figure size 640x480 with 1 Axes>"
            ]
          },
          "metadata": {},
          "output_type": "display_data"
        }
      ],
      "source": [
        "from imblearn.under_sampling import RandomUnderSampler\n",
        "\n",
        "rus = RandomUnderSampler(sampling_strategy=1) # Numerical value\n",
        "rus = RandomUnderSampler(sampling_strategy=\"not minority\") # String#same result\n",
        "X_res, y_res = rus.fit_resample(x,y)#new variables\n",
        "\n",
        "ax = y_res.value_counts().plot.pie(autopct='%.2f')\n",
        "_ = ax.set_title(\"Under-sampling\")"
      ]
    },
    {
      "cell_type": "code",
      "execution_count": null,
      "metadata": {
        "id": "SMRc2F5EQQef"
      },
      "outputs": [],
      "source": [
        "# Split the data into training and testing sets\n",
        "X_train, X_test, y_train, y_test = train_test_split(X_res, y_res, random_state=100, test_size=0.2)"
      ]
    },
    {
      "cell_type": "code",
      "execution_count": null,
      "metadata": {
        "colab": {
          "base_uri": "https://localhost:8080/"
        },
        "id": "FxgPtxnjw1-j",
        "outputId": "602741f0-1e7f-4e3b-8e10-c8edb61255c1"
      },
      "outputs": [
        {
          "data": {
            "text/plain": [
              "0    492\n",
              "1    492\n",
              "Name: Class, dtype: int64"
            ]
          },
          "execution_count": 27,
          "metadata": {},
          "output_type": "execute_result"
        }
      ],
      "source": [
        "# Class distribution\n",
        "y_res.value_counts()"
      ]
    },
    {
      "cell_type": "code",
      "execution_count": null,
      "metadata": {
        "id": "Q7Gf6QmJw7EE"
      },
      "outputs": [],
      "source": [
        "# Splitting the dataset using train test split\n",
        "#from sklearn.model_selection import train_test_split\n",
        "#X_train, X_test, Y_train, Y_test = train_test_split(X_res, y_res, random_state=100, test_size=0.20)"
      ]
    },
    {
      "cell_type": "code",
      "execution_count": null,
      "metadata": {
        "id": "2-hZOAaxxMPw"
      },
      "outputs": [],
      "source": [
        "import keras\n",
        "from keras.models import Sequential\n",
        "from keras.layers import Dense\n",
        "from keras.layers import Dropout\n",
        "model=Sequential()\n",
        "# first layer\n",
        "model.add(Dense(units=20,kernel_initializer='he_normal',activation='relu',input_dim=30))\n",
        "#2nd layer\n",
        "model.add(Dense(units=15,kernel_initializer='he_normal',activation='relu'))\n",
        "#3rd layer\n",
        "model.add(Dense(units=1,kernel_initializer='he_normal',activation='sigmoid'))\n",
        "# compiling!\n",
        "model.compile(optimizer='Adam',loss='binary_crossentropy',metrics=['accuracy'])"
      ]
    },
    {
      "cell_type": "code",
      "execution_count": null,
      "metadata": {
        "colab": {
          "base_uri": "https://localhost:8080/"
        },
        "id": "A1eiriYcxT8m",
        "outputId": "505fb321-33a5-443b-9be5-00e85d9aa840"
      },
      "outputs": [
        {
          "name": "stdout",
          "output_type": "stream",
          "text": [
            "Epoch 1/20\n",
            "20/20 [==============================] - 1s 20ms/step - loss: 0.4905 - accuracy: 0.6439 - val_loss: 0.4496 - val_accuracy: 0.7025\n",
            "Epoch 2/20\n",
            "20/20 [==============================] - 0s 6ms/step - loss: 0.3941 - accuracy: 0.7774 - val_loss: 0.3935 - val_accuracy: 0.7975\n",
            "Epoch 3/20\n",
            "20/20 [==============================] - 0s 6ms/step - loss: 0.3363 - accuracy: 0.8824 - val_loss: 0.3527 - val_accuracy: 0.8734\n",
            "Epoch 4/20\n",
            "20/20 [==============================] - 0s 6ms/step - loss: 0.2935 - accuracy: 0.9237 - val_loss: 0.3175 - val_accuracy: 0.8924\n",
            "Epoch 5/20\n",
            "20/20 [==============================] - 0s 6ms/step - loss: 0.2594 - accuracy: 0.9332 - val_loss: 0.2890 - val_accuracy: 0.9241\n",
            "Epoch 6/20\n",
            "20/20 [==============================] - 0s 6ms/step - loss: 0.2315 - accuracy: 0.9428 - val_loss: 0.2660 - val_accuracy: 0.9430\n",
            "Epoch 7/20\n",
            "20/20 [==============================] - 0s 6ms/step - loss: 0.2090 - accuracy: 0.9428 - val_loss: 0.2476 - val_accuracy: 0.9494\n",
            "Epoch 8/20\n",
            "20/20 [==============================] - 0s 6ms/step - loss: 0.1908 - accuracy: 0.9412 - val_loss: 0.2327 - val_accuracy: 0.9494\n",
            "Epoch 9/20\n",
            "20/20 [==============================] - 0s 6ms/step - loss: 0.1762 - accuracy: 0.9475 - val_loss: 0.2213 - val_accuracy: 0.9430\n",
            "Epoch 10/20\n",
            "20/20 [==============================] - 0s 7ms/step - loss: 0.1650 - accuracy: 0.9459 - val_loss: 0.2105 - val_accuracy: 0.9430\n",
            "Epoch 11/20\n",
            "20/20 [==============================] - 0s 6ms/step - loss: 0.1550 - accuracy: 0.9523 - val_loss: 0.2042 - val_accuracy: 0.9430\n",
            "Epoch 12/20\n",
            "20/20 [==============================] - 0s 6ms/step - loss: 0.1465 - accuracy: 0.9539 - val_loss: 0.2011 - val_accuracy: 0.9430\n",
            "Epoch 13/20\n",
            "20/20 [==============================] - 0s 6ms/step - loss: 0.1401 - accuracy: 0.9523 - val_loss: 0.1961 - val_accuracy: 0.9430\n",
            "Epoch 14/20\n",
            "20/20 [==============================] - 0s 6ms/step - loss: 0.1336 - accuracy: 0.9539 - val_loss: 0.1941 - val_accuracy: 0.9430\n",
            "Epoch 15/20\n",
            "20/20 [==============================] - 0s 6ms/step - loss: 0.1287 - accuracy: 0.9523 - val_loss: 0.1904 - val_accuracy: 0.9367\n",
            "Epoch 16/20\n",
            "20/20 [==============================] - 0s 5ms/step - loss: 0.1227 - accuracy: 0.9539 - val_loss: 0.1880 - val_accuracy: 0.9367\n",
            "Epoch 17/20\n",
            "20/20 [==============================] - 0s 6ms/step - loss: 0.1185 - accuracy: 0.9539 - val_loss: 0.1845 - val_accuracy: 0.9367\n",
            "Epoch 18/20\n",
            "20/20 [==============================] - 0s 6ms/step - loss: 0.1145 - accuracy: 0.9539 - val_loss: 0.1843 - val_accuracy: 0.9304\n",
            "Epoch 19/20\n",
            "20/20 [==============================] - 0s 6ms/step - loss: 0.1100 - accuracy: 0.9539 - val_loss: 0.1835 - val_accuracy: 0.9304\n",
            "Epoch 20/20\n",
            "20/20 [==============================] - 0s 6ms/step - loss: 0.1065 - accuracy: 0.9539 - val_loss: 0.1845 - val_accuracy: 0.9304\n"
          ]
        },
        {
          "data": {
            "text/plain": [
              "<keras.callbacks.History at 0x7f39516bb640>"
            ]
          },
          "execution_count": 29,
          "metadata": {},
          "output_type": "execute_result"
        }
      ],
      "source": [
        "# Train the ANN\n",
        "model.fit(X_train,y_train , batch_size = 32, epochs = 20,validation_split=0.2)"
      ]
    },
    {
      "cell_type": "code",
      "execution_count": null,
      "metadata": {
        "colab": {
          "base_uri": "https://localhost:8080/"
        },
        "id": "GggFmiBaHYG1",
        "outputId": "3b233840-9274-4712-e5d9-35debd6c3e58"
      },
      "outputs": [
        {
          "name": "stdout",
          "output_type": "stream",
          "text": [
            "7/7 [==============================] - 0s 2ms/step\n",
            "[[104   2]\n",
            " [  9  82]]\n",
            "              precision    recall  f1-score   support\n",
            "\n",
            "           0       0.92      0.98      0.95       106\n",
            "           1       0.98      0.90      0.94        91\n",
            "\n",
            "    accuracy                           0.94       197\n",
            "   macro avg       0.95      0.94      0.94       197\n",
            "weighted avg       0.95      0.94      0.94       197\n",
            "\n"
          ]
        }
      ],
      "source": [
        "import numpy as np\n",
        "import tensorflow as tf\n",
        "from tensorflow.keras.models import Sequential\n",
        "from tensorflow.keras.layers import Dense, Dropout\n",
        "from sklearn.datasets import make_classification\n",
        "from sklearn.model_selection import train_test_split\n",
        "from sklearn.metrics import confusion_matrix, classification_report\n",
        "# Evaluate the model on the testing set\n",
        "y_pred = model.predict(X_test)\n",
        "y_pred = np.where(y_pred > 0.5, 1, 0)\n",
        "\n",
        "print(confusion_matrix(y_test, y_pred))\n",
        "print(classification_report(y_test, y_pred))"
      ]
    },
    {
      "cell_type": "code",
      "execution_count": null,
      "metadata": {
        "id": "i1aQ06bPxgf1"
      },
      "outputs": [],
      "source": [
        "# extract the predicted probabilities\n",
        "#p_pred = model.predict(X_test)\n",
        "#p_pred = p_pred.flatten()\n",
        "#print(p_pred.round(2))"
      ]
    },
    {
      "cell_type": "code",
      "execution_count": null,
      "metadata": {
        "id": "LqTxIm7Lxuxj"
      },
      "outputs": [],
      "source": [
        "# extract the predicted class labels\n",
        "#y_pred = np.where(p_pred > 0.5, 1, 0)\n",
        "#print(y_pred)"
      ]
    },
    {
      "cell_type": "code",
      "execution_count": null,
      "metadata": {
        "id": "bKHCYZSTxxG-"
      },
      "outputs": [],
      "source": [
        "\n",
        "\n",
        "#print(confusion_matrix(Y_test, y_pred))"
      ]
    },
    {
      "cell_type": "code",
      "execution_count": null,
      "metadata": {
        "id": "h4ne10qKyWlY"
      },
      "outputs": [],
      "source": [
        "#print(classification_report(Y_test, y_pred))"
      ]
    },
    {
      "cell_type": "markdown",
      "metadata": {
        "id": "bw_N5cOTyxK_"
      },
      "source": [
        "ANN + RANDOM OVERSampling\n",
        "\n",
        "\"not majority\" = resample all classes but the majority class"
      ]
    },
    {
      "cell_type": "code",
      "execution_count": null,
      "metadata": {
        "colab": {
          "base_uri": "https://localhost:8080/",
          "height": 428
        },
        "id": "wcWxhsDuywq-",
        "outputId": "4927cd59-6df7-43e7-cab4-f4b6ef584c0c"
      },
      "outputs": [
        {
          "data": {
            "image/png": "[encoded data removed]",
            "text/plain": [
              "<Figure size 640x480 with 1 Axes>"
            ]
          },
          "metadata": {},
          "output_type": "display_data"
        }
      ],
      "source": [
        "from imblearn.over_sampling import RandomOverSampler\n",
        "# Split the data into features (X) and target (y)\n",
        "x1 = new_df.drop(['Class'], axis=1)\n",
        "y1 = new_df['Class']\n",
        "\n",
        "\n",
        "# Split the data into training and testing sets\n",
        "X_train1, X_test1, y_train1, y_test1 = train_test_split(x1, y1, random_state=100, test_size=0.2)\n",
        "\n",
        "#ros = RandomOverSampler(sampling_strategy=1) # Float\n",
        "ross = RandomOverSampler(sampling_strategy=\"not majority\") # String\n",
        "X_train_res1, y_train_res1 = ross.fit_resample(X_train1, y_train1)\n",
        "\n",
        "\n",
        "ax = y_train_res1.value_counts().plot.pie(autopct='%.2f')\n",
        "_ = ax.set_title(\"Over-sampling\")"
      ]
    },
    {
      "cell_type": "code",
      "execution_count": null,
      "metadata": {
        "colab": {
          "base_uri": "https://localhost:8080/"
        },
        "id": "is-fg05AzQh3",
        "outputId": "0d2e35c5-1549-447c-a479-81ec460423a6"
      },
      "outputs": [
        {
          "data": {
            "text/plain": [
              "0    227449\n",
              "1    227449\n",
              "Name: Class, dtype: int64"
            ]
          },
          "execution_count": 33,
          "metadata": {},
          "output_type": "execute_result"
        }
      ],
      "source": [
        "y_train_res1.value_counts()"
      ]
    },
    {
      "cell_type": "code",
      "execution_count": null,
      "metadata": {
        "id": "dceEREWRzV4U"
      },
      "outputs": [],
      "source": [
        "# Splitting the dataset using train test split\n",
        "#from sklearn.model_selection import train_test_split\n",
        "#X_train1, X_test1, y_train1, y_test1 = train_test_split(X_res1, y_res1, random_state=100, test_size=0.20)"
      ]
    },
    {
      "cell_type": "code",
      "execution_count": null,
      "metadata": {
        "id": "fLsb-_Hczklr"
      },
      "outputs": [],
      "source": [
        "import keras\n",
        "from keras.models import Sequential\n",
        "from keras.layers import Dense\n",
        "from keras.layers import Dropout\n",
        "model1=Sequential()\n",
        "# first layer\n",
        "model1.add(Dense(units=20,kernel_initializer='he_normal',activation='relu',input_dim=30))\n",
        "#2nd layer\n",
        "model1.add(Dense(units=15,kernel_initializer='he_normal',activation='relu'))\n",
        "#3rd layer\n",
        "model1.add(Dense(units=1,kernel_initializer='he_normal',activation='sigmoid'))\n",
        "# compiling!\n",
        "model1.compile(optimizer='Adam',loss='binary_crossentropy',metrics=['accuracy'])"
      ]
    },
    {
      "cell_type": "code",
      "execution_count": null,
      "metadata": {
        "id": "sYhiZ9otzol7"
      },
      "outputs": [],
      "source": [
        "# Train the ANN\n",
        "#model1.fit(X_train_res1, y_train_res1, batch_size = 32, epochs = 20,validation_split=0.2)"
      ]
    },
    {
      "cell_type": "markdown",
      "metadata": {
        "id": "ipKWGnSCSlsd"
      },
      "source": [
        "model overfitiing"
      ]
    },
    {
      "cell_type": "code",
      "execution_count": null,
      "metadata": {
        "id": "rmbfy9SiShHV"
      },
      "outputs": [],
      "source": [
        "import keras\n",
        "from keras.models import Sequential\n",
        "from keras.layers import Dense, Dropout\n",
        "\n",
        "model_ann = Sequential()\n",
        "model_ann.add(Dense(units=20, kernel_initializer='he_normal', activation='relu', input_dim=30))\n",
        "model_ann.add(Dropout(0.2))\n",
        "model_ann.add(Dense(units=15, kernel_initializer='he_normal', activation='relu'))\n",
        "model_ann.add(Dropout(0.2))\n",
        "model_ann.add(Dense(units=1, kernel_initializer='he_normal', activation='sigmoid'))\n",
        "\n",
        "model_ann.compile(optimizer='adam', loss='binary_crossentropy', metrics=['accuracy'])\n",
        "#model_ann.fit(X_train_res1, y_train_res1, batch_size=32, epochs=20, validation_split=0.2)\n",
        "#STILL over fitting"
      ]
    },
    {
      "cell_type": "code",
      "execution_count": null,
      "metadata": {
        "colab": {
          "base_uri": "https://localhost:8080/"
        },
        "id": "XYC1gLODT0xx",
        "outputId": "b2fd2149-46a0-4754-d39f-6f079e4ae716"
      },
      "outputs": [
        {
          "name": "stdout",
          "output_type": "stream",
          "text": [
            "Epoch 1/20\n",
            "11373/11373 [==============================] - 32s 3ms/step - loss: 0.1876 - accuracy: 0.9434 - val_loss: 0.1167 - val_accuracy: 0.9437\n",
            "Epoch 2/20\n",
            "11373/11373 [==============================] - 34s 3ms/step - loss: 0.0943 - accuracy: 0.9658 - val_loss: 0.0785 - val_accuracy: 0.9772\n",
            "Epoch 3/20\n",
            "11373/11373 [==============================] - 30s 3ms/step - loss: 0.0817 - accuracy: 0.9709 - val_loss: 0.0665 - val_accuracy: 0.9873\n",
            "Epoch 4/20\n",
            "11373/11373 [==============================] - 31s 3ms/step - loss: 0.0778 - accuracy: 0.9728 - val_loss: 0.0713 - val_accuracy: 0.9718\n",
            "Epoch 5/20\n",
            "11373/11373 [==============================] - 31s 3ms/step - loss: 0.0758 - accuracy: 0.9730 - val_loss: 0.0629 - val_accuracy: 0.9848\n",
            "Epoch 6/20\n",
            "11373/11373 [==============================] - 30s 3ms/step - loss: 0.0745 - accuracy: 0.9741 - val_loss: 0.0583 - val_accuracy: 0.9848\n",
            "Epoch 7/20\n",
            "11373/11373 [==============================] - 31s 3ms/step - loss: 0.0727 - accuracy: 0.9746 - val_loss: 0.0585 - val_accuracy: 0.9819\n",
            "Epoch 8/20\n",
            "11373/11373 [==============================] - 30s 3ms/step - loss: 0.0720 - accuracy: 0.9745 - val_loss: 0.0501 - val_accuracy: 0.9873\n",
            "Epoch 9/20\n",
            "11373/11373 [==============================] - 32s 3ms/step - loss: 0.0700 - accuracy: 0.9753 - val_loss: 0.0563 - val_accuracy: 0.9774\n",
            "Epoch 10/20\n",
            "11373/11373 [==============================] - 32s 3ms/step - loss: 0.0698 - accuracy: 0.9753 - val_loss: 0.0472 - val_accuracy: 0.9873\n",
            "Epoch 11/20\n",
            "11373/11373 [==============================] - 33s 3ms/step - loss: 0.0687 - accuracy: 0.9755 - val_loss: 0.0475 - val_accuracy: 0.9849\n",
            "Epoch 12/20\n",
            "11373/11373 [==============================] - 31s 3ms/step - loss: 0.0686 - accuracy: 0.9757 - val_loss: 0.0423 - val_accuracy: 0.9871\n",
            "Epoch 13/20\n",
            "11373/11373 [==============================] - 33s 3ms/step - loss: 0.0688 - accuracy: 0.9759 - val_loss: 0.0534 - val_accuracy: 0.9846\n",
            "Epoch 14/20\n",
            "11373/11373 [==============================] - 32s 3ms/step - loss: 0.0682 - accuracy: 0.9755 - val_loss: 0.0523 - val_accuracy: 0.9819\n",
            "Epoch 15/20\n",
            "11373/11373 [==============================] - 30s 3ms/step - loss: 0.0683 - accuracy: 0.9758 - val_loss: 0.0495 - val_accuracy: 0.9898\n",
            "Epoch 16/20\n",
            "11373/11373 [==============================] - 32s 3ms/step - loss: 0.0669 - accuracy: 0.9764 - val_loss: 0.0343 - val_accuracy: 0.9951\n",
            "Epoch 17/20\n",
            "11373/11373 [==============================] - 32s 3ms/step - loss: 0.0677 - accuracy: 0.9759 - val_loss: 0.0394 - val_accuracy: 0.9951\n",
            "Epoch 18/20\n",
            "11373/11373 [==============================] - 33s 3ms/step - loss: 0.0675 - accuracy: 0.9764 - val_loss: 0.0478 - val_accuracy: 0.9819\n",
            "Epoch 19/20\n",
            "11373/11373 [==============================] - 31s 3ms/step - loss: 0.0671 - accuracy: 0.9760 - val_loss: 0.0410 - val_accuracy: 0.9951\n",
            "Epoch 20/20\n",
            "11373/11373 [==============================] - 33s 3ms/step - loss: 0.0669 - accuracy: 0.9762 - val_loss: 0.0374 - val_accuracy: 0.9951\n"
          ]
        },
        {
          "data": {
            "text/plain": [
              "<keras.callbacks.History at 0x7f394a55f220>"
            ]
          },
          "execution_count": 35,
          "metadata": {},
          "output_type": "execute_result"
        }
      ],
      "source": [
        "import keras\n",
        "from keras.models import Sequential\n",
        "from keras.layers import Dense, Dropout\n",
        "from keras import regularizers\n",
        "\n",
        "model_ann = Sequential()\n",
        "model_ann.add(Dense(units=20, kernel_initializer='he_normal', activation='relu', input_dim=30))\n",
        "model_ann.add(Dropout(0.5))  # Increase dropout rate to 0.5\n",
        "model_ann.add(Dense(units=15, kernel_initializer='he_normal', activation='relu',\n",
        "                    kernel_regularizer=regularizers.l2(0.01)))  # Add L2 regularization\n",
        "model_ann.add(Dropout(0.5))  # Increase dropout rate to 0.5\n",
        "model_ann.add(Dense(units=1, kernel_initializer='he_normal', activation='sigmoid'))\n",
        "\n",
        "model_ann.compile(optimizer='adam', loss='binary_crossentropy', metrics=['accuracy'])\n",
        "model_ann.fit(X_train_res1, y_train_res1, batch_size=32, epochs=20, validation_split=0.2)"
      ]
    },
    {
      "cell_type": "markdown",
      "metadata": {
        "id": "NMwinFyRucvC"
      },
      "source": [
        "method1"
      ]
    },
    {
      "cell_type": "code",
      "execution_count": null,
      "metadata": {
        "colab": {
          "base_uri": "https://localhost:8080/"
        },
        "id": "OtLY0j0wN81c",
        "outputId": "8f8f8a7f-560f-4b24-898e-0098c7d25e82"
      },
      "outputs": [
        {
          "name": "stdout",
          "output_type": "stream",
          "text": [
            "1781/1781 [==============================] - 3s 2ms/step\n"
          ]
        }
      ],
      "source": [
        "# Predict probabilities and convert to class labels\n",
        "p_pred1 = model_ann.predict(X_test1)\n",
        "p_pred1 = p_pred1.flatten()\n",
        "y_pred1 = np.where(p_pred1 > 0.5, 1, 0)"
      ]
    },
    {
      "cell_type": "code",
      "execution_count": null,
      "metadata": {
        "colab": {
          "base_uri": "https://localhost:8080/"
        },
        "id": "TBqumortN-IO",
        "outputId": "3afc32fa-fe36-4cf7-d7e1-5d664f38f6eb"
      },
      "outputs": [
        {
          "name": "stdout",
          "output_type": "stream",
          "text": [
            "              precision    recall  f1-score   support\n",
            "\n",
            "           0       1.00      0.99      1.00     56866\n",
            "           1       0.22      0.89      0.35        96\n",
            "\n",
            "    accuracy                           0.99     56962\n",
            "   macro avg       0.61      0.94      0.68     56962\n",
            "weighted avg       1.00      0.99      1.00     56962\n",
            "\n"
          ]
        }
      ],
      "source": [
        "# Generate classification report\n",
        "print(classification_report(y_test1, y_pred1, labels=[0, 1]))"
      ]
    },
    {
      "cell_type": "code",
      "execution_count": null,
      "metadata": {
        "id": "z8F2VWwbuex6"
      },
      "outputs": [],
      "source": [
        "#method2"
      ]
    },
    {
      "cell_type": "code",
      "execution_count": null,
      "metadata": {
        "colab": {
          "base_uri": "https://localhost:8080/"
        },
        "id": "bRhxiG0x2EAg",
        "outputId": "6a655d49-6f28-4283-d012-babbd8e15cd0"
      },
      "outputs": [
        {
          "name": "stdout",
          "output_type": "stream",
          "text": [
            "1781/1781 [==============================] - 3s 1ms/step\n",
            "[0.02 0.   0.   ... 0.   0.   0.  ]\n"
          ]
        }
      ],
      "source": [
        "# extract the predicted probabilities\n",
        "p_pred1 = model_ann.predict(X_test1)\n",
        "p_pred1 = p_pred1.flatten()\n",
        "print(p_pred1.round(2))"
      ]
    },
    {
      "cell_type": "code",
      "execution_count": null,
      "metadata": {
        "colab": {
          "base_uri": "https://localhost:8080/"
        },
        "id": "uMDiFKSr2PZk",
        "outputId": "44c04021-edd6-406d-bdd0-a3445aeb8b0b"
      },
      "outputs": [
        {
          "name": "stdout",
          "output_type": "stream",
          "text": [
            "[0 0 0 ... 0 0 0]\n"
          ]
        }
      ],
      "source": [
        "# extract the predicted class labels\n",
        "y_pred1 = np.where(p_pred1 > 0.5, 1, 0)\n",
        "print(y_pred1)"
      ]
    },
    {
      "cell_type": "code",
      "execution_count": null,
      "metadata": {
        "colab": {
          "base_uri": "https://localhost:8080/"
        },
        "id": "VaxDgaT22ZBL",
        "outputId": "545b6fa0-63fc-4ee4-9b8b-3b21dc8ed29c"
      },
      "outputs": [
        {
          "name": "stdout",
          "output_type": "stream",
          "text": [
            "[[56567   299]\n",
            " [   11    85]]\n"
          ]
        }
      ],
      "source": [
        "print(confusion_matrix(y_test1, y_pred1))"
      ]
    },
    {
      "cell_type": "code",
      "execution_count": null,
      "metadata": {
        "colab": {
          "base_uri": "https://localhost:8080/"
        },
        "id": "UVowKrmE2nf6",
        "outputId": "badf4c97-4d48-490a-eb45-61168db323f5"
      },
      "outputs": [
        {
          "name": "stdout",
          "output_type": "stream",
          "text": [
            "              precision    recall  f1-score   support\n",
            "\n",
            "           0       1.00      0.99      1.00     56866\n",
            "           1       0.22      0.89      0.35        96\n",
            "\n",
            "    accuracy                           0.99     56962\n",
            "   macro avg       0.61      0.94      0.68     56962\n",
            "weighted avg       1.00      0.99      1.00     56962\n",
            "\n"
          ]
        }
      ],
      "source": [
        "print(classification_report(y_test1, y_pred1))"
      ]
    },
    {
      "cell_type": "markdown",
      "metadata": {
        "id": "nY4BUvi2ukZ6"
      },
      "source": [
        "cheking"
      ]
    },
    {
      "cell_type": "code",
      "execution_count": null,
      "metadata": {
        "colab": {
          "base_uri": "https://localhost:8080/"
        },
        "id": "I8QhMrA9Sncd",
        "outputId": "76394903-d0f2-4a8d-d066-7892cf367b04"
      },
      "outputs": [
        {
          "name": "stdout",
          "output_type": "stream",
          "text": [
            "True Labels:\n",
            "112244    0\n",
            "124591    0\n",
            "245922    0\n",
            "174967    0\n",
            "269480    0\n",
            "         ..\n",
            "221847    0\n",
            "153234    0\n",
            "94270     0\n",
            "213750    0\n",
            "88118     0\n",
            "Name: Class, Length: 56962, dtype: int64\n",
            "Predicted Labels:\n",
            "[0 0 0 ... 0 0 0]\n",
            "Shape of true labels: (56962,)\n",
            "Shape of predicted labels: (56962,)\n",
            "Unique values in true labels: [0 1]\n",
            "Unique values in predicted labels: [0 1]\n"
          ]
        }
      ],
      "source": [
        "# Print the values of true labels\n",
        "print(\"True Labels:\")\n",
        "print(y_test1)\n",
        "\n",
        "# Print the values of predicted labels\n",
        "print(\"Predicted Labels:\")\n",
        "print(y_pred1)\n",
        "\n",
        "# Check the shape of the arrays\n",
        "print(\"Shape of true labels:\", y_test1.shape)\n",
        "print(\"Shape of predicted labels:\", y_pred1.shape)\n",
        "\n",
        "# Check the unique values in the arrays\n",
        "print(\"Unique values in true labels:\", np.unique(y_test1))\n",
        "print(\"Unique values in predicted labels:\", np.unique(y_pred1))"
      ]
    },
    {
      "cell_type": "code",
      "execution_count": null,
      "metadata": {
        "colab": {
          "base_uri": "https://localhost:8080/"
        },
        "id": "MuqTfJzkTVaX",
        "outputId": "cbbbb1cd-caa0-4ef6-817f-e613fec9d5fb"
      },
      "outputs": [
        {
          "name": "stdout",
          "output_type": "stream",
          "text": [
            "              precision    recall  f1-score   support\n",
            "\n",
            "           0       1.00      0.99      1.00     56866\n",
            "           1       0.22      0.89      0.35        96\n",
            "\n",
            "    accuracy                           0.99     56962\n",
            "   macro avg       0.61      0.94      0.68     56962\n",
            "weighted avg       1.00      0.99      1.00     56962\n",
            "\n"
          ]
        }
      ],
      "source": [
        "from sklearn.metrics import classification_report\n",
        "\n",
        "print(classification_report(y_test1, y_pred1))"
      ]
    },
    {
      "cell_type": "code",
      "execution_count": null,
      "metadata": {
        "id": "x9acn26u3M7C"
      },
      "outputs": [],
      "source": []
    },
    {
      "cell_type": "markdown",
      "metadata": {
        "id": "btjqMIin_sJa"
      },
      "source": [
        "ANN+ Smote"
      ]
    },
    {
      "cell_type": "code",
      "execution_count": null,
      "metadata": {
        "colab": {
          "base_uri": "https://localhost:8080/"
        },
        "id": "Eh-ztSur_rTd",
        "outputId": "02571296-09d5-49e8-e940-b482fb81faae"
      },
      "outputs": [
        {
          "data": {
            "text/plain": [
              "0    284315\n",
              "1       492\n",
              "Name: Class, dtype: int64"
            ]
          },
          "execution_count": 44,
          "metadata": {},
          "output_type": "execute_result"
        }
      ],
      "source": [
        "x2 = new_df.drop(['Class'], axis=1)\n",
        "y2 = new_df['Class']\n",
        "y2.value_counts()"
      ]
    },
    {
      "cell_type": "code",
      "execution_count": null,
      "metadata": {
        "id": "YTBia9MEcQb_"
      },
      "outputs": [],
      "source": [
        "from imblearn.over_sampling import SMOTE"
      ]
    },
    {
      "cell_type": "code",
      "execution_count": null,
      "metadata": {
        "id": "zq0d8T-bJrza"
      },
      "outputs": [],
      "source": [
        "# Splitting the dataset using train test split\n",
        "from sklearn.model_selection import train_test_split\n",
        "X_train2, X_test2, y_train2, y_test2 = train_test_split(x2,y2, random_state=100, test_size=0.20)"
      ]
    },
    {
      "cell_type": "code",
      "execution_count": null,
      "metadata": {
        "id": "LzTj1c-9cvzK"
      },
      "outputs": [],
      "source": [
        "#fitting SMOTE to the train set\n",
        "smote =SMOTE(random_state=42)\n",
        "smote_x_train,smote_y_train= smote.fit_resample(X_train2, y_train2)"
      ]
    },
    {
      "cell_type": "code",
      "execution_count": null,
      "metadata": {
        "colab": {
          "base_uri": "https://localhost:8080/"
        },
        "id": "EdHlwFlBeHbt",
        "outputId": "5505a6f0-8f91-4b5c-9ef8-5499bf2b04c7"
      },
      "outputs": [
        {
          "name": "stdout",
          "output_type": "stream",
          "text": [
            "before smote: 0    284315\n",
            "1       492\n",
            "Name: Class, dtype: int64\n",
            "after smote: 0    227449\n",
            "1    227449\n",
            "Name: Class, dtype: int64\n"
          ]
        }
      ],
      "source": [
        "print('before smote:', y2.value_counts())\n",
        "print('after smote:', smote_y_train.value_counts())\n"
      ]
    },
    {
      "cell_type": "code",
      "execution_count": null,
      "metadata": {
        "id": "YENANb0JDwC_"
      },
      "outputs": [],
      "source": []
    },
    {
      "cell_type": "code",
      "execution_count": null,
      "metadata": {
        "id": "rsEAl5jHnsJm"
      },
      "outputs": [],
      "source": [
        "import keras\n",
        "from keras.models import Sequential\n",
        "from keras.layers import Dense\n",
        "from keras.layers import Dropout\n",
        "model2=Sequential()\n",
        "# first layer\n",
        "model2.add(Dense(units=20,kernel_initializer='he_normal',activation='relu',input_dim=30))\n",
        "#2nd layer\n",
        "model2.add(Dense(units=15,kernel_initializer='he_normal',activation='relu'))\n",
        "#3rd layer\n",
        "model2.add(Dense(units=1,kernel_initializer='he_normal',activation='sigmoid'))\n",
        "# compiling!\n",
        "model2.compile(optimizer='Adamax',loss='binary_crossentropy',metrics=['accuracy'])"
      ]
    },
    {
      "cell_type": "code",
      "execution_count": null,
      "metadata": {
        "id": "QUmUeaJlnwj-"
      },
      "outputs": [],
      "source": [
        "# Train the ANN\n",
        "#model2.fit(smote_x_train,smote_y_train, batch_size = 32, epochs = 20,validation_split=0.2)"
      ]
    },
    {
      "cell_type": "code",
      "execution_count": null,
      "metadata": {
        "colab": {
          "base_uri": "https://localhost:8080/"
        },
        "id": "Y9LGfnbDgFEt",
        "outputId": "a4984b77-fd89-4123-d9d1-84f8995bab4d"
      },
      "outputs": [
        {
          "name": "stdout",
          "output_type": "stream",
          "text": [
            "Epoch 1/20\n",
            "11373/11373 [==============================] - 33s 3ms/step - loss: 0.2010 - accuracy: 0.9401 - val_loss: 0.1101 - val_accuracy: 0.9487\n",
            "Epoch 2/20\n",
            "11373/11373 [==============================] - 30s 3ms/step - loss: 0.0897 - accuracy: 0.9656 - val_loss: 0.0741 - val_accuracy: 0.9758\n",
            "Epoch 3/20\n",
            "11373/11373 [==============================] - 31s 3ms/step - loss: 0.0778 - accuracy: 0.9695 - val_loss: 0.0718 - val_accuracy: 0.9702\n",
            "Epoch 4/20\n",
            "11373/11373 [==============================] - 31s 3ms/step - loss: 0.0736 - accuracy: 0.9716 - val_loss: 0.0574 - val_accuracy: 0.9797\n",
            "Epoch 5/20\n",
            "11373/11373 [==============================] - 30s 3ms/step - loss: 0.0716 - accuracy: 0.9721 - val_loss: 0.0531 - val_accuracy: 0.9870\n",
            "Epoch 6/20\n",
            "11373/11373 [==============================] - 31s 3ms/step - loss: 0.0703 - accuracy: 0.9728 - val_loss: 0.0511 - val_accuracy: 0.9887\n",
            "Epoch 7/20\n",
            "11373/11373 [==============================] - 30s 3ms/step - loss: 0.0685 - accuracy: 0.9732 - val_loss: 0.0603 - val_accuracy: 0.9784\n",
            "Epoch 8/20\n",
            "11373/11373 [==============================] - 30s 3ms/step - loss: 0.0673 - accuracy: 0.9732 - val_loss: 0.0539 - val_accuracy: 0.9866\n",
            "Epoch 9/20\n",
            "11373/11373 [==============================] - 30s 3ms/step - loss: 0.0666 - accuracy: 0.9734 - val_loss: 0.0558 - val_accuracy: 0.9825\n",
            "Epoch 10/20\n",
            "11373/11373 [==============================] - 32s 3ms/step - loss: 0.0669 - accuracy: 0.9736 - val_loss: 0.0501 - val_accuracy: 0.9875\n",
            "Epoch 11/20\n",
            "11373/11373 [==============================] - 32s 3ms/step - loss: 0.0660 - accuracy: 0.9741 - val_loss: 0.0465 - val_accuracy: 0.9987\n",
            "Epoch 12/20\n",
            "11373/11373 [==============================] - 30s 3ms/step - loss: 0.0661 - accuracy: 0.9738 - val_loss: 0.0512 - val_accuracy: 0.9968\n",
            "Epoch 13/20\n",
            "11373/11373 [==============================] - 30s 3ms/step - loss: 0.0655 - accuracy: 0.9741 - val_loss: 0.0478 - val_accuracy: 0.9871\n",
            "Epoch 14/20\n",
            "11373/11373 [==============================] - 32s 3ms/step - loss: 0.0647 - accuracy: 0.9741 - val_loss: 0.0491 - val_accuracy: 0.9875\n",
            "Epoch 15/20\n",
            "11373/11373 [==============================] - 32s 3ms/step - loss: 0.0641 - accuracy: 0.9743 - val_loss: 0.0447 - val_accuracy: 0.9876\n",
            "Epoch 16/20\n",
            "11373/11373 [==============================] - 32s 3ms/step - loss: 0.0647 - accuracy: 0.9744 - val_loss: 0.0553 - val_accuracy: 0.9824\n",
            "Epoch 17/20\n",
            "11373/11373 [==============================] - 31s 3ms/step - loss: 0.0637 - accuracy: 0.9748 - val_loss: 0.0388 - val_accuracy: 0.9960\n",
            "Epoch 18/20\n",
            "11373/11373 [==============================] - 32s 3ms/step - loss: 0.0645 - accuracy: 0.9746 - val_loss: 0.0367 - val_accuracy: 1.0000\n",
            "Epoch 19/20\n",
            "11373/11373 [==============================] - 30s 3ms/step - loss: 0.0634 - accuracy: 0.9753 - val_loss: 0.0392 - val_accuracy: 0.9990\n",
            "Epoch 20/20\n",
            "11373/11373 [==============================] - 31s 3ms/step - loss: 0.0640 - accuracy: 0.9748 - val_loss: 0.0381 - val_accuracy: 1.0000\n"
          ]
        },
        {
          "data": {
            "text/plain": [
              "<keras.callbacks.History at 0x7f394a93e860>"
            ]
          },
          "execution_count": 51,
          "metadata": {},
          "output_type": "execute_result"
        }
      ],
      "source": [
        "import keras\n",
        "from keras.models import Sequential\n",
        "from keras.layers import Dense, Dropout\n",
        "from keras import regularizers\n",
        "\n",
        "model_ann1 = Sequential()\n",
        "model_ann1.add(Dense(units=20, kernel_initializer='he_normal', activation='relu', input_dim=30))\n",
        "model_ann1.add(Dropout(0.5))  # Increase dropout rate to 0.5\n",
        "model_ann1.add(Dense(units=15, kernel_initializer='he_normal', activation='relu',\n",
        "                    kernel_regularizer=regularizers.l2(0.01)))  # Add L2 regularization\n",
        "model_ann1.add(Dropout(0.5))  # Increase dropout rate to 0.5\n",
        "model_ann1.add(Dense(units=1, kernel_initializer='he_normal', activation='sigmoid'))\n",
        "\n",
        "model_ann1.compile(optimizer='adam', loss='binary_crossentropy', metrics=['accuracy'])\n",
        "model_ann1.fit(smote_x_train,smote_y_train, batch_size=32, epochs=20, validation_split=0.2)"
      ]
    },
    {
      "cell_type": "code",
      "execution_count": null,
      "metadata": {
        "colab": {
          "base_uri": "https://localhost:8080/"
        },
        "id": "5VgHsrb34hJd",
        "outputId": "59ab89b2-dbb2-4e1d-afac-177a2c93a68a"
      },
      "outputs": [
        {
          "name": "stdout",
          "output_type": "stream",
          "text": [
            "1781/1781 [==============================] - 2s 1ms/step\n",
            "[0. 0. 0. ... 0. 0. 0.]\n"
          ]
        }
      ],
      "source": [
        "# extract the predicted probabilities\n",
        "p_pred2 = model_ann1.predict(X_test2)\n",
        "p_pred2 = p_pred2.flatten()\n",
        "print(p_pred2.round(2))"
      ]
    },
    {
      "cell_type": "code",
      "execution_count": null,
      "metadata": {
        "colab": {
          "base_uri": "https://localhost:8080/"
        },
        "id": "dI415KRiDnl3",
        "outputId": "93fed9f2-38bc-44c5-aa81-7f87aa12d8bb"
      },
      "outputs": [
        {
          "name": "stdout",
          "output_type": "stream",
          "text": [
            "[0 0 0 ... 0 0 0]\n"
          ]
        }
      ],
      "source": [
        "y_pred2 = np.where(p_pred2 > 0.5, 1, 0)\n",
        "print(y_pred2)"
      ]
    },
    {
      "cell_type": "code",
      "execution_count": null,
      "metadata": {
        "colab": {
          "base_uri": "https://localhost:8080/"
        },
        "id": "o_FVLvmsDnGO",
        "outputId": "aea0778d-3958-4df9-b1d7-df3fb136bde9"
      },
      "outputs": [
        {
          "name": "stdout",
          "output_type": "stream",
          "text": [
            "[[56598   268]\n",
            " [   10    86]]\n"
          ]
        }
      ],
      "source": [
        "print(confusion_matrix(y_test2, y_pred2))"
      ]
    },
    {
      "cell_type": "markdown",
      "metadata": {
        "id": "t6dCfTNoJT0t"
      },
      "source": [
        "Precision = TP / (TP + FP) = 57155 / (57155 + 165) ≈ 0.9971\n",
        "\n",
        "Recall = TP / (TP + FN) = 57155 / (57155 + 1) ≈ 0.99998\n",
        "\n",
        "F1-score = 2 * (Precision * Recall) / (Precision + Recall) ≈ 0.9985"
      ]
    },
    {
      "cell_type": "code",
      "execution_count": null,
      "metadata": {
        "colab": {
          "base_uri": "https://localhost:8080/"
        },
        "id": "5bI_Mq1hDmfa",
        "outputId": "9738f17a-c56e-4438-89fb-29fcaa69c0da"
      },
      "outputs": [
        {
          "name": "stdout",
          "output_type": "stream",
          "text": [
            "              precision    recall  f1-score   support\n",
            "\n",
            "           0       1.00      1.00      1.00     56866\n",
            "           1       0.24      0.90      0.38        96\n",
            "\n",
            "    accuracy                           1.00     56962\n",
            "   macro avg       0.62      0.95      0.69     56962\n",
            "weighted avg       1.00      1.00      1.00     56962\n",
            "\n"
          ]
        }
      ],
      "source": [
        "print(classification_report(y_test2, y_pred2))"
      ]
    },
    {
      "cell_type": "markdown",
      "metadata": {
        "id": "MfD7ivInJxHY"
      },
      "source": [
        "**CNN** **MODEL**"
      ]
    },
    {
      "cell_type": "code",
      "execution_count": null,
      "metadata": {
        "colab": {
          "base_uri": "https://localhost:8080/"
        },
        "id": "G02v897hJzN7",
        "outputId": "e3914126-3b76-4a59-bf31-b13e8a450a6a"
      },
      "outputs": [
        {
          "name": "stdout",
          "output_type": "stream",
          "text": [
            "2.12.0\n"
          ]
        }
      ],
      "source": [
        "# Tensforflow libraries\n",
        "import tensorflow as tf\n",
        "from tensorflow import keras\n",
        "from keras import Sequential\n",
        "from tensorflow.keras.optimizers import Adam\n",
        "from keras.layers import Flatten, Dense, Dropout, BatchNormalization\n",
        "from keras.layers import Conv1D, MaxPool1D\n",
        "# Data processing Libraries\n",
        "import pandas as pd\n",
        "import numpy as np\n",
        "import seaborn as sns\n",
        "import matplotlib.pyplot as plt\n",
        "from sklearn.model_selection import train_test_split\n",
        "from sklearn.preprocessing import StandardScaler\n",
        "from sklearn.metrics import confusion_matrix\n",
        "\n",
        "\n",
        "print(tf.__version__)"
      ]
    },
    {
      "cell_type": "code",
      "execution_count": null,
      "metadata": {
        "colab": {
          "base_uri": "https://localhost:8080/"
        },
        "id": "--Id9ICNKJxE",
        "outputId": "3bcadf53-e323-4895-c3cf-b65e0ae1bc8c"
      },
      "outputs": [
        {
          "name": "stdout",
          "output_type": "stream",
          "text": [
            "Looking in indexes: https://pypi.org/simple, https://us-python.pkg.dev/colab-wheels/public/simple/\n",
            "Requirement already satisfied: imbalanced-learn in /usr/local/lib/python3.10/dist-packages (0.10.1)\n",
            "Requirement already satisfied: numpy>=1.17.3 in /usr/local/lib/python3.10/dist-packages (from imbalanced-learn) (1.22.4)\n",
            "Requirement already satisfied: scipy>=1.3.2 in /usr/local/lib/python3.10/dist-packages (from imbalanced-learn) (1.10.1)\n",
            "Requirement already satisfied: scikit-learn>=1.0.2 in /usr/local/lib/python3.10/dist-packages (from imbalanced-learn) (1.2.2)\n",
            "Requirement already satisfied: joblib>=1.1.1 in /usr/local/lib/python3.10/dist-packages (from imbalanced-learn) (1.2.0)\n",
            "Requirement already satisfied: threadpoolctl>=2.0.0 in /usr/local/lib/python3.10/dist-packages (from imbalanced-learn) (3.1.0)\n"
          ]
        }
      ],
      "source": [
        "! pip install -U imbalanced-learn"
      ]
    },
    {
      "cell_type": "code",
      "execution_count": null,
      "metadata": {
        "colab": {
          "base_uri": "https://localhost:8080/"
        },
        "id": "mH6FycUCKJYf",
        "outputId": "d0dc3f43-ef79-4944-dce0-e44e44e004f9"
      },
      "outputs": [
        {
          "data": {
            "text/plain": [
              "((284315, 31), (492, 31))"
            ]
          },
          "execution_count": 58,
          "metadata": {},
          "output_type": "execute_result"
        }
      ],
      "source": [
        "# splitting fraud and non-fraud rows\n",
        "non_fraud_data = data[data['Class']==0]\n",
        "fraud_data = data[data['Class']==1]\n",
        "non_fraud_data.shape, fraud_data.shape"
      ]
    },
    {
      "cell_type": "code",
      "execution_count": null,
      "metadata": {
        "colab": {
          "base_uri": "https://localhost:8080/"
        },
        "id": "LTHdMTkYKTUt",
        "outputId": "7a5fd5a4-4dd2-45e5-b247-d28291e8fc54"
      },
      "outputs": [
        {
          "data": {
            "text/plain": [
              "(492, 31)"
            ]
          },
          "execution_count": 59,
          "metadata": {},
          "output_type": "execute_result"
        }
      ],
      "source": [
        "non_fraud_data_sample = non_fraud_data.sample(fraud_data.shape[0])\n",
        "\n",
        "non_fraud_data_sample.shape"
      ]
    },
    {
      "cell_type": "code",
      "execution_count": null,
      "metadata": {
        "colab": {
          "base_uri": "https://localhost:8080/",
          "height": 522
        },
        "id": "rGaBeulxKaNt",
        "outputId": "0d4ef453-0ba6-402c-c8aa-b92e4732b54a"
      },
      "outputs": [
        {
          "name": "stderr",
          "output_type": "stream",
          "text": [
            "<ipython-input-60-41aaddec0a4e>:2: FutureWarning: The frame.append method is deprecated and will be removed from pandas in a future version. Use pandas.concat instead.\n",
            "  bal_data = fraud_data.append(non_fraud_data_sample,ignore_index = True)\n"
          ]
        },
        {
          "data": {
            "text/html": [
              "\n",
              "  <div id=\"df-2557a24c-0975-4186-8c66-cd363c401125\">\n",
              "    <div class=\"colab-df-container\">\n",
              "      <div>\n",
              "<style scoped>\n",
              "    .dataframe tbody tr th:only-of-type {\n",
              "        vertical-align: middle;\n",
              "    }\n",
              "\n",
              "    .dataframe tbody tr th {\n",
              "        vertical-align: top;\n",
              "    }\n",
              "\n",
              "    .dataframe thead th {\n",
              "        text-align: right;\n",
              "    }\n",
              "</style>\n",
              "<table border=\"1\" class=\"dataframe\">\n",
              "  <thead>\n",
              "    <tr style=\"text-align: right;\">\n",
              "      <th></th>\n",
              "      <th>Time</th>\n",
              "      <th>V1</th>\n",
              "      <th>V2</th>\n",
              "      <th>V3</th>\n",
              "      <th>V4</th>\n",
              "      <th>V5</th>\n",
              "      <th>V6</th>\n",
              "      <th>V7</th>\n",
              "      <th>V8</th>\n",
              "      <th>V9</th>\n",
              "      <th>...</th>\n",
              "      <th>V21</th>\n",
              "      <th>V22</th>\n",
              "      <th>V23</th>\n",
              "      <th>V24</th>\n",
              "      <th>V25</th>\n",
              "      <th>V26</th>\n",
              "      <th>V27</th>\n",
              "      <th>V28</th>\n",
              "      <th>Amount</th>\n",
              "      <th>Class</th>\n",
              "    </tr>\n",
              "  </thead>\n",
              "  <tbody>\n",
              "    <tr>\n",
              "      <th>0</th>\n",
              "      <td>406.0</td>\n",
              "      <td>-2.312227</td>\n",
              "      <td>1.951992</td>\n",
              "      <td>-1.609851</td>\n",
              "      <td>3.997906</td>\n",
              "      <td>-0.522188</td>\n",
              "      <td>-1.426545</td>\n",
              "      <td>-2.537387</td>\n",
              "      <td>1.391657</td>\n",
              "      <td>-2.770089</td>\n",
              "      <td>...</td>\n",
              "      <td>0.517232</td>\n",
              "      <td>-0.035049</td>\n",
              "      <td>-0.465211</td>\n",
              "      <td>0.320198</td>\n",
              "      <td>0.044519</td>\n",
              "      <td>0.177840</td>\n",
              "      <td>0.261145</td>\n",
              "      <td>-0.143276</td>\n",
              "      <td>0.00</td>\n",
              "      <td>1</td>\n",
              "    </tr>\n",
              "    <tr>\n",
              "      <th>1</th>\n",
              "      <td>472.0</td>\n",
              "      <td>-3.043541</td>\n",
              "      <td>-3.157307</td>\n",
              "      <td>1.088463</td>\n",
              "      <td>2.288644</td>\n",
              "      <td>1.359805</td>\n",
              "      <td>-1.064823</td>\n",
              "      <td>0.325574</td>\n",
              "      <td>-0.067794</td>\n",
              "      <td>-0.270953</td>\n",
              "      <td>...</td>\n",
              "      <td>0.661696</td>\n",
              "      <td>0.435477</td>\n",
              "      <td>1.375966</td>\n",
              "      <td>-0.293803</td>\n",
              "      <td>0.279798</td>\n",
              "      <td>-0.145362</td>\n",
              "      <td>-0.252773</td>\n",
              "      <td>0.035764</td>\n",
              "      <td>529.00</td>\n",
              "      <td>1</td>\n",
              "    </tr>\n",
              "    <tr>\n",
              "      <th>2</th>\n",
              "      <td>4462.0</td>\n",
              "      <td>-2.303350</td>\n",
              "      <td>1.759247</td>\n",
              "      <td>-0.359745</td>\n",
              "      <td>2.330243</td>\n",
              "      <td>-0.821628</td>\n",
              "      <td>-0.075788</td>\n",
              "      <td>0.562320</td>\n",
              "      <td>-0.399147</td>\n",
              "      <td>-0.238253</td>\n",
              "      <td>...</td>\n",
              "      <td>-0.294166</td>\n",
              "      <td>-0.932391</td>\n",
              "      <td>0.172726</td>\n",
              "      <td>-0.087330</td>\n",
              "      <td>-0.156114</td>\n",
              "      <td>-0.542628</td>\n",
              "      <td>0.039566</td>\n",
              "      <td>-0.153029</td>\n",
              "      <td>239.93</td>\n",
              "      <td>1</td>\n",
              "    </tr>\n",
              "    <tr>\n",
              "      <th>3</th>\n",
              "      <td>6986.0</td>\n",
              "      <td>-4.397974</td>\n",
              "      <td>1.358367</td>\n",
              "      <td>-2.592844</td>\n",
              "      <td>2.679787</td>\n",
              "      <td>-1.128131</td>\n",
              "      <td>-1.706536</td>\n",
              "      <td>-3.496197</td>\n",
              "      <td>-0.248778</td>\n",
              "      <td>-0.247768</td>\n",
              "      <td>...</td>\n",
              "      <td>0.573574</td>\n",
              "      <td>0.176968</td>\n",
              "      <td>-0.436207</td>\n",
              "      <td>-0.053502</td>\n",
              "      <td>0.252405</td>\n",
              "      <td>-0.657488</td>\n",
              "      <td>-0.827136</td>\n",
              "      <td>0.849573</td>\n",
              "      <td>59.00</td>\n",
              "      <td>1</td>\n",
              "    </tr>\n",
              "    <tr>\n",
              "      <th>4</th>\n",
              "      <td>7519.0</td>\n",
              "      <td>1.234235</td>\n",
              "      <td>3.019740</td>\n",
              "      <td>-4.304597</td>\n",
              "      <td>4.732795</td>\n",
              "      <td>3.624201</td>\n",
              "      <td>-1.357746</td>\n",
              "      <td>1.713445</td>\n",
              "      <td>-0.496358</td>\n",
              "      <td>-1.282858</td>\n",
              "      <td>...</td>\n",
              "      <td>-0.379068</td>\n",
              "      <td>-0.704181</td>\n",
              "      <td>-0.656805</td>\n",
              "      <td>-1.632653</td>\n",
              "      <td>1.488901</td>\n",
              "      <td>0.566797</td>\n",
              "      <td>-0.010016</td>\n",
              "      <td>0.146793</td>\n",
              "      <td>1.00</td>\n",
              "      <td>1</td>\n",
              "    </tr>\n",
              "    <tr>\n",
              "      <th>...</th>\n",
              "      <td>...</td>\n",
              "      <td>...</td>\n",
              "      <td>...</td>\n",
              "      <td>...</td>\n",
              "      <td>...</td>\n",
              "      <td>...</td>\n",
              "      <td>...</td>\n",
              "      <td>...</td>\n",
              "      <td>...</td>\n",
              "      <td>...</td>\n",
              "      <td>...</td>\n",
              "      <td>...</td>\n",
              "      <td>...</td>\n",
              "      <td>...</td>\n",
              "      <td>...</td>\n",
              "      <td>...</td>\n",
              "      <td>...</td>\n",
              "      <td>...</td>\n",
              "      <td>...</td>\n",
              "      <td>...</td>\n",
              "      <td>...</td>\n",
              "    </tr>\n",
              "    <tr>\n",
              "      <th>979</th>\n",
              "      <td>60468.0</td>\n",
              "      <td>0.633984</td>\n",
              "      <td>-0.821398</td>\n",
              "      <td>1.545524</td>\n",
              "      <td>2.781098</td>\n",
              "      <td>-1.276721</td>\n",
              "      <td>1.025333</td>\n",
              "      <td>-0.867953</td>\n",
              "      <td>0.485069</td>\n",
              "      <td>0.438867</td>\n",
              "      <td>...</td>\n",
              "      <td>0.303869</td>\n",
              "      <td>0.489918</td>\n",
              "      <td>-0.301595</td>\n",
              "      <td>-0.002589</td>\n",
              "      <td>0.238050</td>\n",
              "      <td>0.159385</td>\n",
              "      <td>0.012943</td>\n",
              "      <td>0.063484</td>\n",
              "      <td>228.64</td>\n",
              "      <td>0</td>\n",
              "    </tr>\n",
              "    <tr>\n",
              "      <th>980</th>\n",
              "      <td>52654.0</td>\n",
              "      <td>1.197737</td>\n",
              "      <td>-1.440145</td>\n",
              "      <td>0.812997</td>\n",
              "      <td>-1.196229</td>\n",
              "      <td>-1.862146</td>\n",
              "      <td>-0.464528</td>\n",
              "      <td>-1.102967</td>\n",
              "      <td>-0.105323</td>\n",
              "      <td>-1.766720</td>\n",
              "      <td>...</td>\n",
              "      <td>0.072319</td>\n",
              "      <td>0.422657</td>\n",
              "      <td>-0.048534</td>\n",
              "      <td>0.422057</td>\n",
              "      <td>0.208346</td>\n",
              "      <td>-0.109537</td>\n",
              "      <td>0.051514</td>\n",
              "      <td>0.050191</td>\n",
              "      <td>134.00</td>\n",
              "      <td>0</td>\n",
              "    </tr>\n",
              "    <tr>\n",
              "      <th>981</th>\n",
              "      <td>74511.0</td>\n",
              "      <td>-1.165813</td>\n",
              "      <td>-1.369778</td>\n",
              "      <td>1.302378</td>\n",
              "      <td>-2.288082</td>\n",
              "      <td>-0.866600</td>\n",
              "      <td>1.472284</td>\n",
              "      <td>1.299395</td>\n",
              "      <td>-0.004264</td>\n",
              "      <td>-2.613398</td>\n",
              "      <td>...</td>\n",
              "      <td>0.146329</td>\n",
              "      <td>0.563332</td>\n",
              "      <td>0.582657</td>\n",
              "      <td>-0.666529</td>\n",
              "      <td>0.473291</td>\n",
              "      <td>-0.080657</td>\n",
              "      <td>-0.180475</td>\n",
              "      <td>-0.157657</td>\n",
              "      <td>366.07</td>\n",
              "      <td>0</td>\n",
              "    </tr>\n",
              "    <tr>\n",
              "      <th>982</th>\n",
              "      <td>150737.0</td>\n",
              "      <td>2.223696</td>\n",
              "      <td>-0.286851</td>\n",
              "      <td>-2.202599</td>\n",
              "      <td>-0.165844</td>\n",
              "      <td>-0.080215</td>\n",
              "      <td>-2.099377</td>\n",
              "      <td>0.601889</td>\n",
              "      <td>-0.685570</td>\n",
              "      <td>-0.865074</td>\n",
              "      <td>...</td>\n",
              "      <td>-0.054409</td>\n",
              "      <td>0.501882</td>\n",
              "      <td>-0.071432</td>\n",
              "      <td>0.470152</td>\n",
              "      <td>0.629979</td>\n",
              "      <td>0.099371</td>\n",
              "      <td>-0.055795</td>\n",
              "      <td>-0.078805</td>\n",
              "      <td>1.00</td>\n",
              "      <td>0</td>\n",
              "    </tr>\n",
              "    <tr>\n",
              "      <th>983</th>\n",
              "      <td>67959.0</td>\n",
              "      <td>-1.902877</td>\n",
              "      <td>-0.133935</td>\n",
              "      <td>2.009702</td>\n",
              "      <td>0.157475</td>\n",
              "      <td>1.169284</td>\n",
              "      <td>0.877266</td>\n",
              "      <td>0.045595</td>\n",
              "      <td>0.474843</td>\n",
              "      <td>-0.200058</td>\n",
              "      <td>...</td>\n",
              "      <td>0.341768</td>\n",
              "      <td>1.257305</td>\n",
              "      <td>0.236983</td>\n",
              "      <td>-0.615199</td>\n",
              "      <td>0.012754</td>\n",
              "      <td>-0.311143</td>\n",
              "      <td>-0.056757</td>\n",
              "      <td>0.214217</td>\n",
              "      <td>29.00</td>\n",
              "      <td>0</td>\n",
              "    </tr>\n",
              "  </tbody>\n",
              "</table>\n",
              "<p>984 rows × 31 columns</p>\n",
              "</div>\n",
              "      <button class=\"colab-df-convert\" onclick=\"convertToInteractive('df-2557a24c-0975-4186-8c66-cd363c401125')\"\n",
              "              title=\"Convert this dataframe to an interactive table.\"\n",
              "              style=\"display:none;\">\n",
              "        \n",
              "  <svg xmlns=\"http://www.w3.org/2000/svg\" height=\"24px\"viewBox=\"0 0 24 24\"\n",
              "       width=\"24px\">\n",
              "    <path d=\"M0 0h24v24H0V0z\" fill=\"none\"/>\n",
              "    <path d=\"M18.56 5.44l.94 2.06.94-2.06 2.06-.94-2.06-.94-.94-2.06-.94 2.06-2.06.94zm-11 1L8.5 8.5l.94-2.06 2.06-.94-2.06-.94L8.5 2.5l-.94 2.06-2.06.94zm10 10l.94 2.06.94-2.06 2.06-.94-2.06-.94-.94-2.06-.94 2.06-2.06.94z\"/><path d=\"M17.41 7.96l-1.37-1.37c-.4-.4-.92-.59-1.43-.59-.52 0-1.04.2-1.43.59L10.3 9.45l-7.72 7.72c-.78.78-.78 2.05 0 2.83L4 21.41c.39.39.9.59 1.41.59.51 0 1.02-.2 1.41-.59l7.78-7.78 2.81-2.81c.8-.78.8-2.07 0-2.86zM5.41 20L4 18.59l7.72-7.72 1.47 1.35L5.41 20z\"/>\n",
              "  </svg>\n",
              "      </button>\n",
              "      \n",
              "  <style>\n",
              "    .colab-df-container {\n",
              "      display:flex;\n",
              "      flex-wrap:wrap;\n",
              "      gap: 12px;\n",
              "    }\n",
              "\n",
              "    .colab-df-convert {\n",
              "      background-color: #E8F0FE;\n",
              "      border: none;\n",
              "      border-radius: 50%;\n",
              "      cursor: pointer;\n",
              "      display: none;\n",
              "      fill: #1967D2;\n",
              "      height: 32px;\n",
              "      padding: 0 0 0 0;\n",
              "      width: 32px;\n",
              "    }\n",
              "\n",
              "    .colab-df-convert:hover {\n",
              "      background-color: #E2EBFA;\n",
              "      box-shadow: 0px 1px 2px rgba(60, 64, 67, 0.3), 0px 1px 3px 1px rgba(60, 64, 67, 0.15);\n",
              "      fill: #174EA6;\n",
              "    }\n",
              "\n",
              "    [theme=dark] .colab-df-convert {\n",
              "      background-color: #3B4455;\n",
              "      fill: #D2E3FC;\n",
              "    }\n",
              "\n",
              "    [theme=dark] .colab-df-convert:hover {\n",
              "      background-color: #434B5C;\n",
              "      box-shadow: 0px 1px 3px 1px rgba(0, 0, 0, 0.15);\n",
              "      filter: drop-shadow(0px 1px 2px rgba(0, 0, 0, 0.3));\n",
              "      fill: #FFFFFF;\n",
              "    }\n",
              "  </style>\n",
              "\n",
              "      <script>\n",
              "        const buttonEl =\n",
              "          document.querySelector('#df-2557a24c-0975-4186-8c66-cd363c401125 button.colab-df-convert');\n",
              "        buttonEl.style.display =\n",
              "          google.colab.kernel.accessAllowed ? 'block' : 'none';\n",
              "\n",
              "        async function convertToInteractive(key) {\n",
              "          const element = document.querySelector('#df-2557a24c-0975-4186-8c66-cd363c401125');\n",
              "          const dataTable =\n",
              "            await google.colab.kernel.invokeFunction('convertToInteractive',\n",
              "                                                     [key], {});\n",
              "          if (!dataTable) return;\n",
              "\n",
              "          const docLinkHtml = 'Like what you see? Visit the ' +\n",
              "            '<a target=\"_blank\" href=https://colab.research.google.com/notebooks/data_table.ipynb>data table notebook</a>'\n",
              "            + ' to learn more about interactive tables.';\n",
              "          element.innerHTML = '';\n",
              "          dataTable['output_type'] = 'display_data';\n",
              "          await google.colab.output.renderOutput(dataTable, element);\n",
              "          const docLink = document.createElement('div');\n",
              "          docLink.innerHTML = docLinkHtml;\n",
              "          element.appendChild(docLink);\n",
              "        }\n",
              "      </script>\n",
              "    </div>\n",
              "  </div>\n",
              "  "
            ],
            "text/plain": [
              "         Time        V1        V2        V3        V4        V5        V6  \\\n",
              "0       406.0 -2.312227  1.951992 -1.609851  3.997906 -0.522188 -1.426545   \n",
              "1       472.0 -3.043541 -3.157307  1.088463  2.288644  1.359805 -1.064823   \n",
              "2      4462.0 -2.303350  1.759247 -0.359745  2.330243 -0.821628 -0.075788   \n",
              "3      6986.0 -4.397974  1.358367 -2.592844  2.679787 -1.128131 -1.706536   \n",
              "4      7519.0  1.234235  3.019740 -4.304597  4.732795  3.624201 -1.357746   \n",
              "..        ...       ...       ...       ...       ...       ...       ...   \n",
              "979   60468.0  0.633984 -0.821398  1.545524  2.781098 -1.276721  1.025333   \n",
              "980   52654.0  1.197737 -1.440145  0.812997 -1.196229 -1.862146 -0.464528   \n",
              "981   74511.0 -1.165813 -1.369778  1.302378 -2.288082 -0.866600  1.472284   \n",
              "982  150737.0  2.223696 -0.286851 -2.202599 -0.165844 -0.080215 -2.099377   \n",
              "983   67959.0 -1.902877 -0.133935  2.009702  0.157475  1.169284  0.877266   \n",
              "\n",
              "           V7        V8        V9  ...       V21       V22       V23  \\\n",
              "0   -2.537387  1.391657 -2.770089  ...  0.517232 -0.035049 -0.465211   \n",
              "1    0.325574 -0.067794 -0.270953  ...  0.661696  0.435477  1.375966   \n",
              "2    0.562320 -0.399147 -0.238253  ... -0.294166 -0.932391  0.172726   \n",
              "3   -3.496197 -0.248778 -0.247768  ...  0.573574  0.176968 -0.436207   \n",
              "4    1.713445 -0.496358 -1.282858  ... -0.379068 -0.704181 -0.656805   \n",
              "..        ...       ...       ...  ...       ...       ...       ...   \n",
              "979 -0.867953  0.485069  0.438867  ...  0.303869  0.489918 -0.301595   \n",
              "980 -1.102967 -0.105323 -1.766720  ...  0.072319  0.422657 -0.048534   \n",
              "981  1.299395 -0.004264 -2.613398  ...  0.146329  0.563332  0.582657   \n",
              "982  0.601889 -0.685570 -0.865074  ... -0.054409  0.501882 -0.071432   \n",
              "983  0.045595  0.474843 -0.200058  ...  0.341768  1.257305  0.236983   \n",
              "\n",
              "          V24       V25       V26       V27       V28  Amount  Class  \n",
              "0    0.320198  0.044519  0.177840  0.261145 -0.143276    0.00      1  \n",
              "1   -0.293803  0.279798 -0.145362 -0.252773  0.035764  529.00      1  \n",
              "2   -0.087330 -0.156114 -0.542628  0.039566 -0.153029  239.93      1  \n",
              "3   -0.053502  0.252405 -0.657488 -0.827136  0.849573   59.00      1  \n",
              "4   -1.632653  1.488901  0.566797 -0.010016  0.146793    1.00      1  \n",
              "..        ...       ...       ...       ...       ...     ...    ...  \n",
              "979 -0.002589  0.238050  0.159385  0.012943  0.063484  228.64      0  \n",
              "980  0.422057  0.208346 -0.109537  0.051514  0.050191  134.00      0  \n",
              "981 -0.666529  0.473291 -0.080657 -0.180475 -0.157657  366.07      0  \n",
              "982  0.470152  0.629979  0.099371 -0.055795 -0.078805    1.00      0  \n",
              "983 -0.615199  0.012754 -0.311143 -0.056757  0.214217   29.00      0  \n",
              "\n",
              "[984 rows x 31 columns]"
            ]
          },
          "execution_count": 60,
          "metadata": {},
          "output_type": "execute_result"
        }
      ],
      "source": [
        "# balance dataset: rows 492(fraud) + 492 (non-fraud)\n",
        "bal_data = fraud_data.append(non_fraud_data_sample,ignore_index = True)\n",
        "bal_data"
      ]
    },
    {
      "cell_type": "code",
      "execution_count": null,
      "metadata": {
        "colab": {
          "base_uri": "https://localhost:8080/"
        },
        "id": "X66m5-KsKhLF",
        "outputId": "84047a40-7ac8-402f-8878-7f2193aea8f3"
      },
      "outputs": [
        {
          "data": {
            "text/plain": [
              "1    492\n",
              "0    492\n",
              "Name: Class, dtype: int64"
            ]
          },
          "execution_count": 61,
          "metadata": {},
          "output_type": "execute_result"
        }
      ],
      "source": [
        "bal_data['Class'].value_counts()"
      ]
    },
    {
      "cell_type": "code",
      "execution_count": null,
      "metadata": {
        "id": "RP_zPfMDKniq"
      },
      "outputs": [],
      "source": [
        "#Splitting Features and labels\n",
        "#Features = Time, v1, v2 ....\n",
        "#Label/Target = Class\n",
        "features = bal_data.drop('Class',axis=1)\n",
        "labels = bal_data['Class']"
      ]
    },
    {
      "cell_type": "code",
      "execution_count": null,
      "metadata": {
        "colab": {
          "base_uri": "https://localhost:8080/"
        },
        "id": "iNr4GVviKotp",
        "outputId": "83637af4-d99d-4f64-b861-2d119a7e1757"
      },
      "outputs": [
        {
          "data": {
            "text/plain": [
              "((738, 30), (246, 30))"
            ]
          },
          "execution_count": 63,
          "metadata": {},
          "output_type": "execute_result"
        }
      ],
      "source": [
        "features_train,features_test,labels_train,labels_test = train_test_split(features,labels,test_size=.25,random_state=41,stratify = labels)\n",
        "features_train.shape, features_test.shape"
      ]
    },
    {
      "cell_type": "markdown",
      "metadata": {
        "id": "76qhuXJZLA9x"
      },
      "source": [
        "Scaling the Database"
      ]
    },
    {
      "cell_type": "code",
      "execution_count": null,
      "metadata": {
        "id": "Z2zYGYjNKzeX"
      },
      "outputs": [],
      "source": [
        "scaler = StandardScaler()\n",
        "features_train = scaler.fit_transform(features_train)\n",
        "features_test = scaler.fit_transform(features_test)\n",
        "\n",
        "# converting features into dataframe\n",
        "features_train = pd.DataFrame(features_train)\n",
        "features_test = pd.DataFrame(features_test)"
      ]
    },
    {
      "cell_type": "markdown",
      "metadata": {
        "id": "Kr8pVSkELGQP"
      },
      "source": [
        "**Reshaping the database into 3D**\n",
        "We are using CNN for prediction so converting 2D dataset into 3D"
      ]
    },
    {
      "cell_type": "code",
      "execution_count": null,
      "metadata": {
        "colab": {
          "base_uri": "https://localhost:8080/"
        },
        "id": "eSzvukCGLLtq",
        "outputId": "4cfadae9-3af1-4438-9f18-038af034a668"
      },
      "outputs": [
        {
          "data": {
            "text/plain": [
              "((738, 30, 1), (246, 30, 1))"
            ]
          },
          "execution_count": 65,
          "metadata": {},
          "output_type": "execute_result"
        }
      ],
      "source": [
        "features_train = features_train.to_numpy()\n",
        "features_test = features_test.to_numpy()\n",
        "features_train = features_train.reshape(features_train.shape[0],features_train.shape[1],1)\n",
        "features_test = features_test.reshape(features_test.shape[0],features_test.shape[1],1)\n",
        "\n",
        "features_train.shape, features_test.shape"
      ]
    },
    {
      "cell_type": "markdown",
      "metadata": {
        "id": "Cx61bpaHLTmf"
      },
      "source": [
        "**Build CNN** (Convolutional Neural Network)"
      ]
    },
    {
      "cell_type": "markdown",
      "metadata": {
        "id": "6eFXNetqK3m2"
      },
      "source": [
        "'''Batch normalization is a technique for training very deep neural networks\n",
        "   that standardizes the inputs to a layer for each mini-batch. This\n",
        "   has the effect of stabilizing the learning process and dramatically\n",
        "   reducing the number of training epochs required to train deep networks'''"
      ]
    },
    {
      "cell_type": "code",
      "execution_count": null,
      "metadata": {
        "id": "bF-Vmmj7LQRg"
      },
      "outputs": [],
      "source": [
        "# defining the hyperparameter\n",
        "epochs = 20\n",
        "modelc = Sequential()\n",
        "\n",
        "# FIRST LAYER\n",
        "modelc.add(Conv1D(32,2,activation = 'relu',input_shape = features_train[0].shape))\n",
        "modelc.add(BatchNormalization())\n",
        "\n",
        "modelc.add(Dropout(0.2)) # prevents over-fitting (randomly remove some neurons)\n",
        "\n",
        "# SECOND LAYER\n",
        "modelc.add(Conv1D(64,2,activation = 'relu'))\n",
        "modelc.add(BatchNormalization())\n",
        "modelc.add(Dropout(0.5))\n",
        "\n",
        "# Flattening the layer ( multidimentional data into vector)\n",
        "modelc.add(Flatten())\n",
        "modelc.add(Dense(64,activation = 'relu'))\n",
        "modelc.add(Dropout(0.5))\n",
        "\n",
        "# FINAL LAYER\n",
        "modelc.add(Dense(1,activation='sigmoid')) # binary classification\n",
        "# Optimizing the model\n",
        "modelc.compile(optimizer = Adam(lr=0.0001),loss = 'binary_crossentropy',metrics=['accuracy'])\n",
        "# Training the model, Calculating the accuracy\n",
        "modelc.fit(features_train, labels_train, epochs = epochs,validation_data = (features_test,labels_test),verbose = 1)"
      ]
    },
    {
      "cell_type": "code",
      "execution_count": null,
      "metadata": {
        "colab": {
          "base_uri": "https://localhost:8080/"
        },
        "id": "-xdC5GXPLjdb",
        "outputId": "8bce3534-159e-4f82-e791-8d3c17e6af13"
      },
      "outputs": [
        {
          "name": "stderr",
          "output_type": "stream",
          "text": [
            "WARNING:absl:`lr` is deprecated in Keras optimizer, please use `learning_rate` or use the legacy optimizer, e.g.,tf.keras.optimizers.legacy.Adam.\n"
          ]
        },
        {
          "name": "stdout",
          "output_type": "stream",
          "text": [
            "Epoch 1/20\n",
            "24/24 [==============================] - 5s 50ms/step - loss: 0.4876 - accuracy: 0.8455 - val_loss: 0.5227 - val_accuracy: 0.7927\n",
            "Epoch 2/20\n",
            "24/24 [==============================] - 1s 25ms/step - loss: 0.2593 - accuracy: 0.9011 - val_loss: 0.4952 - val_accuracy: 0.8049\n",
            "Epoch 3/20\n",
            "24/24 [==============================] - 1s 29ms/step - loss: 0.2043 - accuracy: 0.9336 - val_loss: 0.5031 - val_accuracy: 0.5610\n",
            "Epoch 4/20\n",
            "24/24 [==============================] - 1s 33ms/step - loss: 0.2271 - accuracy: 0.9255 - val_loss: 0.4677 - val_accuracy: 0.6829\n",
            "Epoch 5/20\n",
            "24/24 [==============================] - 1s 27ms/step - loss: 0.1718 - accuracy: 0.9350 - val_loss: 0.4448 - val_accuracy: 0.7398\n",
            "Epoch 6/20\n",
            "24/24 [==============================] - 1s 26ms/step - loss: 0.1661 - accuracy: 0.9390 - val_loss: 0.4228 - val_accuracy: 0.7642\n",
            "Epoch 7/20\n",
            "24/24 [==============================] - 1s 39ms/step - loss: 0.1812 - accuracy: 0.9309 - val_loss: 0.4102 - val_accuracy: 0.7846\n",
            "Epoch 8/20\n",
            "24/24 [==============================] - 1s 32ms/step - loss: 0.1763 - accuracy: 0.9431 - val_loss: 0.3949 - val_accuracy: 0.8252\n",
            "Epoch 9/20\n",
            "24/24 [==============================] - 1s 35ms/step - loss: 0.1646 - accuracy: 0.9377 - val_loss: 0.3616 - val_accuracy: 0.8577\n",
            "Epoch 10/20\n",
            "24/24 [==============================] - 1s 39ms/step - loss: 0.1542 - accuracy: 0.9322 - val_loss: 0.3267 - val_accuracy: 0.9024\n",
            "Epoch 11/20\n",
            "24/24 [==============================] - 1s 33ms/step - loss: 0.1496 - accuracy: 0.9458 - val_loss: 0.2885 - val_accuracy: 0.9228\n",
            "Epoch 12/20\n",
            "24/24 [==============================] - 1s 27ms/step - loss: 0.1378 - accuracy: 0.9499 - val_loss: 0.2592 - val_accuracy: 0.9309\n",
            "Epoch 13/20\n",
            "24/24 [==============================] - 1s 26ms/step - loss: 0.1403 - accuracy: 0.9539 - val_loss: 0.2960 - val_accuracy: 0.9106\n",
            "Epoch 14/20\n",
            "24/24 [==============================] - 1s 23ms/step - loss: 0.1356 - accuracy: 0.9512 - val_loss: 0.2140 - val_accuracy: 0.9431\n",
            "Epoch 15/20\n",
            "24/24 [==============================] - 1s 29ms/step - loss: 0.1522 - accuracy: 0.9485 - val_loss: 0.2089 - val_accuracy: 0.9390\n",
            "Epoch 16/20\n",
            "24/24 [==============================] - 1s 23ms/step - loss: 0.1391 - accuracy: 0.9485 - val_loss: 0.1828 - val_accuracy: 0.9390\n",
            "Epoch 17/20\n",
            "24/24 [==============================] - 1s 29ms/step - loss: 0.1160 - accuracy: 0.9566 - val_loss: 0.1698 - val_accuracy: 0.9309\n",
            "Epoch 18/20\n",
            "24/24 [==============================] - 1s 24ms/step - loss: 0.1114 - accuracy: 0.9634 - val_loss: 0.1763 - val_accuracy: 0.9390\n",
            "Epoch 19/20\n",
            "24/24 [==============================] - 0s 17ms/step - loss: 0.1323 - accuracy: 0.9539 - val_loss: 0.1716 - val_accuracy: 0.9350\n",
            "Epoch 20/20\n",
            "24/24 [==============================] - 0s 12ms/step - loss: 0.1320 - accuracy: 0.9485 - val_loss: 0.1714 - val_accuracy: 0.9309\n"
          ]
        },
        {
          "data": {
            "text/plain": [
              "<keras.callbacks.History at 0x7f39378e21a0>"
            ]
          },
          "execution_count": 67,
          "metadata": {},
          "output_type": "execute_result"
        }
      ],
      "source": []
    },
    {
      "cell_type": "code",
      "execution_count": null,
      "metadata": {
        "colab": {
          "base_uri": "https://localhost:8080/"
        },
        "id": "MH7hFQhLMSAk",
        "outputId": "1ed42268-ec19-4eae-942f-0cf214bcbbbd"
      },
      "outputs": [
        {
          "name": "stdout",
          "output_type": "stream",
          "text": [
            "8/8 [==============================] - 0s 5ms/step\n",
            "[0.5  1.   0.12 1.   0.67 0.11 0.13 1.   1.   0.09 0.   0.85 0.06 1.\n",
            " 0.19 1.   0.   0.02 0.05 0.99 0.03 0.11 1.   1.   1.   0.6  0.2  0.05\n",
            " 1.   1.   0.09 1.   0.21 0.26 0.97 1.   0.45 0.03 0.18 0.16 1.   0.07\n",
            " 0.48 0.02 0.17 0.04 1.   0.31 1.   1.   0.32 1.   0.31 0.1  0.25 0.36\n",
            " 1.   1.   0.12 1.   0.73 0.12 1.   0.12 1.   0.08 0.06 0.02 0.76 0.08\n",
            " 1.   0.19 0.13 0.11 0.29 1.   1.   0.19 0.05 0.04 0.11 0.28 1.   0.51\n",
            " 1.   0.56 0.09 1.   1.   1.   1.   1.   1.   1.   1.   1.   0.03 0.99\n",
            " 1.   0.95 0.   0.04 0.03 0.14 1.   0.02 1.   1.   0.52 1.   1.   0.02\n",
            " 1.   0.1  0.16 0.15 1.   0.98 0.13 0.83 1.   0.07 1.   1.   1.   0.17\n",
            " 1.   0.06 0.4  0.11 0.16 0.16 0.06 1.   1.   0.61 1.   0.16 0.11 1.\n",
            " 1.   0.11 0.14 0.03 0.04 1.   0.18 0.11 1.   1.   1.   1.   1.   0.03\n",
            " 1.   1.   1.   1.   0.11 1.   0.13 0.01 0.16 1.   1.   1.   0.97 0.11\n",
            " 1.   1.   0.06 1.   0.01 0.72 0.02 0.13 0.35 1.   0.03 0.26 1.   1.\n",
            " 1.   0.08 1.   0.01 0.05 0.11 0.08 0.01 0.07 1.   1.   0.05 0.34 0.03\n",
            " 0.98 0.05 1.   0.14 1.   0.01 1.   0.35 0.22 0.7  0.15 0.18 0.54 0.02\n",
            " 0.07 1.   0.21 0.99 0.06 1.   1.   1.   1.   1.   1.   1.   0.18 0.15\n",
            " 0.11 1.   1.   0.28 0.05 0.08 0.19 1.   0.69 1.   0.19 0.22 1.   0.03\n",
            " 1.   0.08 0.09 1.   1.   1.   1.   0.26]\n"
          ]
        }
      ],
      "source": [
        "p_predc = modelc.predict(features_test)\n",
        "p_predc = p_predc.flatten()\n",
        "print(p_predc.round(2))"
      ]
    },
    {
      "cell_type": "code",
      "execution_count": null,
      "metadata": {
        "colab": {
          "base_uri": "https://localhost:8080/"
        },
        "id": "e4e7Tv94MXxL",
        "outputId": "511de39e-61da-4739-ac9c-d62d8c068d53"
      },
      "outputs": [
        {
          "name": "stdout",
          "output_type": "stream",
          "text": [
            "[0 1 0 1 1 0 0 1 1 0 0 1 0 1 0 1 0 0 0 1 0 0 1 1 1 1 0 0 1 1 0 1 0 0 1 1 0\n",
            " 0 0 0 1 0 0 0 0 0 1 0 1 1 0 1 0 0 0 0 1 1 0 1 1 0 1 0 1 0 0 0 1 0 1 0 0 0\n",
            " 0 1 1 0 0 0 0 0 1 1 1 1 0 1 1 1 1 1 1 1 1 1 0 1 1 1 0 0 0 0 1 0 1 1 1 1 1\n",
            " 0 1 0 0 0 1 1 0 1 1 0 1 1 1 0 1 0 0 0 0 0 0 1 1 1 1 0 0 1 1 0 0 0 0 1 0 0\n",
            " 1 1 1 1 1 0 1 1 1 1 0 1 0 0 0 1 1 1 1 0 1 1 0 1 0 1 0 0 0 1 0 0 1 1 1 0 1\n",
            " 0 0 0 0 0 0 1 1 0 0 0 1 0 1 0 1 0 1 0 0 1 0 0 1 0 0 1 0 1 0 1 1 1 1 1 1 1\n",
            " 0 0 0 1 1 0 0 0 0 1 1 1 0 0 1 0 1 0 0 1 1 1 1 0]\n"
          ]
        }
      ],
      "source": [
        "y_predc = np.where(p_predc > 0.5, 1, 0)\n",
        "print(y_predc)"
      ]
    },
    {
      "cell_type": "code",
      "execution_count": null,
      "metadata": {
        "colab": {
          "base_uri": "https://localhost:8080/"
        },
        "id": "SIpchQh3MRkN",
        "outputId": "b8209f5f-9d89-4b07-d949-f0c6589c03c3"
      },
      "outputs": [
        {
          "name": "stdout",
          "output_type": "stream",
          "text": [
            "[[115   8]\n",
            " [  9 114]]\n"
          ]
        }
      ],
      "source": [
        "print(confusion_matrix(labels_test, y_predc))"
      ]
    },
    {
      "cell_type": "code",
      "execution_count": null,
      "metadata": {
        "colab": {
          "base_uri": "https://localhost:8080/"
        },
        "id": "hyLAEbQYMRAi",
        "outputId": "59f4082d-4e0e-4d62-8ff4-e534d0f27299"
      },
      "outputs": [
        {
          "name": "stdout",
          "output_type": "stream",
          "text": [
            "              precision    recall  f1-score   support\n",
            "\n",
            "           0       0.93      0.93      0.93       123\n",
            "           1       0.93      0.93      0.93       123\n",
            "\n",
            "    accuracy                           0.93       246\n",
            "   macro avg       0.93      0.93      0.93       246\n",
            "weighted avg       0.93      0.93      0.93       246\n",
            "\n"
          ]
        }
      ],
      "source": [
        "print(classification_report(labels_test, y_predc))"
      ]
    },
    {
      "cell_type": "code",
      "execution_count": null,
      "metadata": {
        "colab": {
          "base_uri": "https://localhost:8080/"
        },
        "id": "uLTk3rwPBT6a",
        "outputId": "09ac46ac-491b-4edf-8684-5a6ffc8cd687"
      },
      "outputs": [
        {
          "name": "stdout",
          "output_type": "stream",
          "text": [
            "Filesystem      Size  Used Avail Use% Mounted on\n",
            "overlay         108G   24G   85G  22% /\n",
            "tmpfs            64M     0   64M   0% /dev\n",
            "shm             5.8G     0  5.8G   0% /dev/shm\n",
            "/dev/root       2.0G 1005M  952M  52% /usr/sbin/docker-init\n",
            "tmpfs           6.4G  2.6M  6.4G   1% /var/colab\n",
            "/dev/sda1        41G   25G   16G  63% /etc/hosts\n",
            "tmpfs           6.4G     0  6.4G   0% /proc/acpi\n",
            "tmpfs           6.4G     0  6.4G   0% /proc/scsi\n",
            "tmpfs           6.4G     0  6.4G   0% /sys/firmware\n"
          ]
        }
      ],
      "source": [
        "!df -h"
      ]
    },
    {
      "cell_type": "code",
      "execution_count": null,
      "metadata": {
        "colab": {
          "base_uri": "https://localhost:8080/",
          "height": 236
        },
        "id": "yQ2wGZAFjIug",
        "outputId": "5704e3f3-9f99-4ea3-ff86-fc62e9d75f98"
      },
      "outputs": [
        {
          "ename": "NameError",
          "evalue": "ignored",
          "output_type": "error",
          "traceback": [
            "\u001b[0;31m---------------------------------------------------------------------------\u001b[0m",
            "\u001b[0;31mNameError\u001b[0m                                 Traceback (most recent call last)",
            "\u001b[0;32m<ipython-input-74-2591c314f208>\u001b[0m in \u001b[0;36m<cell line: 16>\u001b[0;34m()\u001b[0m\n\u001b[1;32m     14\u001b[0m \u001b[0;34m\u001b[0m\u001b[0m\n\u001b[1;32m     15\u001b[0m \u001b[0;31m# Model names\u001b[0m\u001b[0;34m\u001b[0m\u001b[0;34m\u001b[0m\u001b[0m\n\u001b[0;32m---> 16\u001b[0;31m \u001b[0mmodel_names\u001b[0m \u001b[0;34m=\u001b[0m \u001b[0;34m[\u001b[0m \u001b[0mCNN\u001b[0m \u001b[0;34m,\u001b[0m \u001b[0msvm\u001b[0m\u001b[0;34m]\u001b[0m  \u001b[0;31m# Add the names of your models here\u001b[0m\u001b[0;34m\u001b[0m\u001b[0;34m\u001b[0m\u001b[0m\n\u001b[0m\u001b[1;32m     17\u001b[0m \u001b[0;34m\u001b[0m\u001b[0m\n\u001b[1;32m     18\u001b[0m \u001b[0;31m# Plotting the model comparison\u001b[0m\u001b[0;34m\u001b[0m\u001b[0;34m\u001b[0m\u001b[0m\n",
            "\u001b[0;31mNameError\u001b[0m: name 'CNN' is not defined"
          ]
        }
      ],
      "source": [
        "import matplotlib.pyplot as plt\n",
        "import numpy as np\n",
        "\n",
        "# Confusion matrices for each model\n",
        "confusion_matrices = [\n",
        "    np.array([[101, 5], [7, 84]]),  # Confusion matrix for model 1\n",
        "    np.array([[120 ,  3], [  8, 115]]),\n",
        "    np.array([[22744 ,27], [ 9, 27]]),  # Confusion matrix for model 2\n",
        "\n",
        "]\n",
        "\n",
        "# Compute F1 scores for each model\n",
        "f1_scores = [2 * cm[1, 1] / (2 * cm[1, 1] + cm[0, 1] + cm[1, 0]) for cm in confusion_matrices]\n",
        "\n",
        "# Model names\n",
        "model_names = [ CNN , svm]  # Add the names of your models here\n",
        "\n",
        "# Plotting the model comparison\n",
        "plt.figure(figsize=(10, 6))\n",
        "plt.bar(model_names, f1_scores)\n",
        "plt.xlabel('Model')\n",
        "plt.ylabel('F1 Score')\n",
        "plt.title('Model Comparison - F1 Score')\n",
        "plt.ylim([0, 1.0])  # Adjust the y-axis limits if needed\n",
        "plt.xticks(rotation=45)  # Rotate the x-axis labels if needed\n",
        "\n",
        "# Add annotations for confusion matrix information\n",
        "for i, cm in enumerate(confusion_matrices):\n",
        "    accuracy = (cm[0, 0] + cm[1, 1]) / np.sum(cm)\n",
        "    precision = cm[1, 1] / (cm[1, 1] + cm[0, 1])\n",
        "    recall = cm[1, 1] / (cm[1, 1] + cm[1, 0])\n",
        "    plt.annotate(f\"Acc: {accuracy:.2f}\\nPrec: {precision:.2f}\\nRec: {recall:.2f}\", (i, f1_scores[i]), ha='center', va='bottom')\n",
        "\n",
        "plt.show()"
      ]
    },
    {
      "cell_type": "code",
      "execution_count": null,
      "metadata": {
        "colab": {
          "base_uri": "https://localhost:8080/",
          "height": 564
        },
        "id": "G9nJAPiMpJp6",
        "outputId": "41f731e0-93c5-48d5-888d-b3e7df30f980"
      },
      "outputs": [
        {
          "data": {
            "image/png": "[encoded data removed]",
            "text/plain": [
              "<Figure size 1000x600 with 1 Axes>"
            ]
          },
          "metadata": {},
          "output_type": "display_data"
        }
      ],
      "source": [
        "import numpy as np\n",
        "import matplotlib.pyplot as plt\n",
        "\n",
        "# Precision, Recall, and F1-score values for each model\n",
        "precision_model1 = [0.94 , 0.91]\n",
        "recall_model1 = [ 0.92, 0.93]\n",
        "f1_score_model1 = [0.93 , 0.92]\n",
        "\n",
        "precision_model2 = [0.94, 0.97]\n",
        "recall_model2 = [0.98, 0.93]\n",
        "f1_score_model2 = [ 0.96 , 0.95 ]\n",
        "\n",
        "precision_model3 = [0.89, 1.00]\n",
        "recall_model3 = [1.00, 0.87]\n",
        "f1_score_model3 = [0.94, 0.93]\n",
        "\n",
        "# Labels for the classes\n",
        "labels = ['Not Fraud', 'Fraud']\n",
        "\n",
        "# Model names\n",
        "model_names = ['ANN', 'CNN', 'SVM']\n",
        "\n",
        "# Width of each bar\n",
        "bar_width = 0.2\n",
        "\n",
        "# Position of bars on the x-axis\n",
        "r1 = np.arange(len(precision_model1))\n",
        "r2 = [x + bar_width for x in r1]\n",
        "r3 = [x + bar_width for x in r2]\n",
        "\n",
        "# Plotting the diagram\n",
        "fig, ax = plt.subplots(figsize=(10, 6))\n",
        "\n",
        "# Plotting the bars for each model\n",
        "plt.bar(r1, precision_model1, color='b', width=bar_width, edgecolor='white', label='Precision')\n",
        "plt.bar(r2, precision_model2, color='g', width=bar_width, edgecolor='white')\n",
        "plt.bar(r3, precision_model3, color='r', width=bar_width, edgecolor='white')\n",
        "\n",
        "plt.bar(r1, recall_model1, color='b', width=bar_width, edgecolor='white', hatch='/', label='Recall')\n",
        "plt.bar(r2, recall_model2, color='g', width=bar_width, edgecolor='white', hatch='//')\n",
        "plt.bar(r3, recall_model3, color='r', width=bar_width, edgecolor='white', hatch='\\\\')\n",
        "\n",
        "plt.bar(r1, f1_score_model1, color='b', width=bar_width, edgecolor='white', hatch='.', label='F1-score')\n",
        "plt.bar(r2, f1_score_model2, color='g', width=bar_width, edgecolor='white', hatch='..')\n",
        "plt.bar(r3, f1_score_model3, color='r', width=bar_width, edgecolor='white', hatch='...')\n",
        "\n",
        "# Adding labels, tick labels, and legend\n",
        "plt.xlabel('Class')\n",
        "plt.ylabel('Score')\n",
        "plt.title('Model Comparison - Precision, Recall, and F1-score')\n",
        "plt.xticks([r + bar_width for r in range(len(precision_model1))], labels)\n",
        "plt.legend(model_names)\n",
        "\n",
        "# Display the diagram\n",
        "plt.show()"
      ]
    },
    {
      "cell_type": "code",
      "execution_count": null,
      "metadata": {
        "colab": {
          "base_uri": "https://localhost:8080/",
          "height": 564
        },
        "id": "EgYMuZl8sIGR",
        "outputId": "a15d5611-4cce-4148-9339-662113b9c42a"
      },
      "outputs": [
        {
          "data": {
            "image/png": "[encoded data removed]",
            "text/plain": [
              "<Figure size 1000x600 with 1 Axes>"
            ]
          },
          "metadata": {},
          "output_type": "display_data"
        }
      ],
      "source": [
        "import numpy as np\n",
        "import matplotlib.pyplot as plt\n",
        "\n",
        "# Precision, Recall, and F1-score values for each model\n",
        "precision_model1 = [0.94 , 0.91]\n",
        "recall_model1 = [ 0.92, 0.93]\n",
        "f1_score_model1 = [0.93 , 0.92]\n",
        "\n",
        "precision_model2 = [0.94, 0.97]\n",
        "recall_model2 = [0.98, 0.93]\n",
        "f1_score_model2 = [ 0.96 , 0.95 ]\n",
        "\n",
        "precision_model3 = [0.89, 1.00]\n",
        "recall_model3 = [1.00, 0.87]\n",
        "f1_score_model3 = [0.94, 0.93]\n",
        "\n",
        "# Labels for the classes\n",
        "labels = ['Not Fraud', 'Fraud']\n",
        "\n",
        "# Model names\n",
        "model_names = ['ANN', 'CNN', 'SVM']\n",
        "\n",
        "# Width of each bar\n",
        "bar_width = 0.2\n",
        "\n",
        "# Position of bars on the x-axis\n",
        "r1 = np.arange(len(precision_model1))\n",
        "r2 = [x + bar_width for x in r1]\n",
        "r3 = [x + bar_width for x in r2]\n",
        "\n",
        "# Plotting the diagram\n",
        "fig, ax = plt.subplots(figsize=(10, 6))\n",
        "\n",
        "# Plotting the bars for each model\n",
        "plt.bar(r1, precision_model1, color='b', width=bar_width, edgecolor='white', label='Precision')\n",
        "plt.bar(r2, precision_model2, color='g', width=bar_width, edgecolor='white')\n",
        "plt.bar(r3, precision_model3, color='r', width=bar_width, edgecolor='white')\n",
        "\n",
        "plt.bar(r1, recall_model1, color='b', width=bar_width, edgecolor='white', hatch='//', label='Recall')\n",
        "plt.bar(r2, recall_model2, color='g', width=bar_width, edgecolor='white', hatch='..')\n",
        "plt.bar(r3, recall_model3, color='r', width=bar_width, edgecolor='white', hatch='\\\\\\\\')\n",
        "\n",
        "plt.bar(r1, f1_score_model1, color='b', width=bar_width, edgecolor='white', hatch='.', label='F1-score')\n",
        "plt.bar(r2, f1_score_model2, color='g', width=bar_width, edgecolor='white', hatch='..')\n",
        "plt.bar(r3, f1_score_model3, color='r', width=bar_width, edgecolor='white', hatch='...')\n",
        "\n",
        "# Adding labels, tick labels, and legend\n",
        "plt.xlabel('Class')\n",
        "plt.ylabel('Score')\n",
        "plt.title('Model Comparison - Precision, Recall, and F1-score')\n",
        "plt.xticks([r + bar_width for r in range(len(precision_model1))], labels)\n",
        "plt.legend(model_names)\n",
        "\n",
        "# Display the diagram\n",
        "plt.show()"
      ]
    },
    {
      "cell_type": "code",
      "execution_count": null,
      "metadata": {
        "colab": {
          "base_uri": "https://localhost:8080/",
          "height": 564
        },
        "id": "au6gMKX6tDbb",
        "outputId": "f9ea50a7-822e-4022-dafa-2529c59d9d45"
      },
      "outputs": [
        {
          "data": {
            "image/png": "[encoded data removed]",
            "text/plain": [
              "<Figure size 1000x600 with 1 Axes>"
            ]
          },
          "metadata": {},
          "output_type": "display_data"
        }
      ],
      "source": [
        "import numpy as np\n",
        "import matplotlib.pyplot as plt\n",
        "\n",
        "# Precision, Recall, and F1-score values for each model\n",
        "precision_model1 = [0.94 , 0.91]\n",
        "recall_model1 = [ 0.92, 0.93]\n",
        "f1_score_model1 = [0.93 , 0.92]\n",
        "\n",
        "precision_model2 = [0.94, 0.97]\n",
        "recall_model2 = [0.98, 0.93]\n",
        "f1_score_model2 = [ 0.96 , 0.95 ]\n",
        "\n",
        "precision_model3 = [0.89, 1.00]\n",
        "recall_model3 = [1.00, 0.87]\n",
        "f1_score_model3 = [0.94, 0.93]\n",
        "\n",
        "# Labels for the classes\n",
        "labels = ['Not Fraud', 'Fraud']\n",
        "\n",
        "# Model names\n",
        "model_names = ['ANN', 'CNN', 'SVM']\n",
        "\n",
        "# Width of each bar\n",
        "bar_width = 0.2\n",
        "\n",
        "# Position of bars on the x-axis\n",
        "r1 = np.arange(len(precision_model1))\n",
        "r2 = [x + bar_width for x in r1]\n",
        "r3 = [x + bar_width for x in r2]\n",
        "\n",
        "# Colors for the bars\n",
        "precision_color = '#FFB6C1'\n",
        "recall_color = '#FFDAB9'\n",
        "f1_score_color = '#FFE4E1'\n",
        "\n",
        "# Plotting the diagram\n",
        "fig, ax = plt.subplots(figsize=(10, 6))\n",
        "\n",
        "# Plotting the bars for each model\n",
        "plt.bar(r1, precision_model1, color=precision_color, width=bar_width, edgecolor='white', label='Precision')\n",
        "plt.bar(r2, precision_model2, color=precision_color, width=bar_width, edgecolor='white')\n",
        "plt.bar(r3, precision_model3, color=precision_color, width=bar_width, edgecolor='white')\n",
        "\n",
        "plt.bar(r1, recall_model1, color=recall_color, width=bar_width, edgecolor='white', hatch='//', label='Recall')\n",
        "plt.bar(r2, recall_model2, color=recall_color, width=bar_width, edgecolor='white', hatch='..')\n",
        "plt.bar(r3, recall_model3, color=recall_color, width=bar_width, edgecolor='white', hatch='\\\\\\\\')\n",
        "\n",
        "plt.bar(r1, f1_score_model1, color=f1_score_color, width=bar_width, edgecolor='white', label='F1-score')\n",
        "plt.bar(r2, f1_score_model2, color=f1_score_color, width=bar_width, edgecolor='white', hatch='..')\n",
        "plt.bar(r3, f1_score_model3, color=f1_score_color, width=bar_width, edgecolor='white', hatch='...')\n",
        "\n",
        "# Adding labels, tick labels, and legend\n",
        "plt.xlabel('Class')\n",
        "plt.ylabel('Score')\n",
        "plt.title('Model Comparison - Precision, Recall, and F1-score')\n",
        "plt.xticks([r + bar_width for r in range(len(precision_model1))], labels)\n",
        "plt.legend(model_names)\n",
        "\n",
        "# Add parameter names to each bar\n",
        "for i, p in enumerate(precision_model1):\n",
        "    plt.text(i - 0.1, p + 0.01, str(p), color='black')\n",
        "\n",
        "for i, r in enumerate(recall_model1):\n",
        "    plt.text(i - 0.1, r + 0.01, str(r), color='black')\n",
        "for i, f in enumerate(f1_score_model1):\n",
        "     plt.text(i - 0.1, f + 0.01, str(f), color='black')\n",
        "\n",
        "for i, p in enumerate(precision_model2):\n",
        "    plt.text(i + bar_width - 0.1, p + 0.01, str(p), color='black')\n",
        "\n",
        "for i, r in enumerate(recall_model2):\n",
        "    plt.text(i + bar_width - 0.1, r + 0.01, str(r), color='black')\n",
        "\n",
        "for i, f in enumerate(f1_score_model2):\n",
        "    plt.text(i + bar_width - 0.1, f + 0.01, str(f), color='black')\n",
        "\n",
        "for i, p in enumerate(precision_model3):\n",
        "    plt.text(i + 2 * bar_width - 0.1, p + 0.01, str(p), color='black')\n",
        "\n",
        "for i, r in enumerate(recall_model3):\n",
        "    plt.text(i + 2 * bar_width - 0.1, r + 0.01, str(r), color='black')\n",
        "\n",
        "for i, f in enumerate(f1_score_model3):\n",
        "    plt.text(i + 2 * bar_width - 0.1, f + 0.01, str(f), color='black')\n",
        "\n",
        "plt.show()"
      ]
    },
    {
      "cell_type": "markdown",
      "metadata": {
        "id": "-T3W2GoXpYwO"
      },
      "source": [
        "ann\n",
        "cnn\n",
        "svm"
      ]
    },
    {
      "cell_type": "code",
      "execution_count": null,
      "metadata": {
        "id": "ZxFnD8XkpVpJ"
      },
      "outputs": [],
      "source": [
        "        #0       0.94      0.92      0.93       106\n",
        "       # 1       0.91      0.93      0.92        91\n",
        "\n",
        "      #precision    recall  f1-score   support\n",
        "\n",
        "       #0       0.94      0.98      0.96       123\n",
        "      # 1       0.97      0.93      0.95       123\n",
        "\n",
        "\n",
        "    #Not Fraud       0.89      1.00      0.94        72\n",
        "     #  Fraud       1.00      0.87      0.93        70\n"
      ]
    },
    {
      "cell_type": "code",
      "execution_count": null,
      "metadata": {
        "colab": {
          "base_uri": "https://localhost:8080/"
        },
        "id": "YYn7z8WMspLO",
        "outputId": "4f6a2f57-225c-4cf4-97ef-50c4244c4ec4"
      },
      "outputs": [
        {
          "name": "stderr",
          "output_type": "stream",
          "text": [
            "<ipython-input-78-139ec42ff34b>:10: FutureWarning: The frame.append method is deprecated and will be removed from pandas in a future version. Use pandas.concat instead.\n",
            "  bal_data = fraud_data.append(non_fraud_data_sample, ignore_index=True)  # Append sampled non-fraud data to fraud data\n"
          ]
        },
        {
          "data": {
            "text/plain": [
              "1    492\n",
              "0    492\n",
              "Name: Class, dtype: int64"
            ]
          },
          "execution_count": 78,
          "metadata": {},
          "output_type": "execute_result"
        }
      ],
      "source": [
        "# Splitting fraud and non-fraud rows\n",
        "non_fraud_data = data[data['Class'] == 0]  # Select rows where 'Class' column is 0 (non-fraud)\n",
        "fraud_data = data[data['Class'] == 1]  # Select rows where 'Class' column is 1 (fraud)\n",
        "non_fraud_data.shape, fraud_data.shape  # Display the shapes of non-fraud and fraud data\n",
        "\n",
        "non_fraud_data_sample = non_fraud_data.sample(fraud_data.shape[0])  # Sample non-fraud data to match the number of fraud data samples\n",
        "non_fraud_data_sample.shape  # Display the shape of the sampled non-fraud data\n",
        "\n",
        "# Balance the dataset: combine fraud and sampled non-fraud data\n",
        "bal_data = fraud_data.append(non_fraud_data_sample, ignore_index=True)  # Append sampled non-fraud data to fraud data\n",
        "bal_data  # Display the balanced dataset\n",
        "\n",
        "bal_data['Class'].value_counts()  # Count the occurrences of each class in the balanced dataset"
      ]
    },
    {
      "cell_type": "code",
      "execution_count": null,
      "metadata": {
        "id": "hQq_VBTus0qa"
      },
      "outputs": [],
      "source": [
        "# Split x and y\n",
        "\n",
        "x = bal_data.drop(['Class'], axis=1)\n",
        "y = bal_data['Class']"
      ]
    },
    {
      "cell_type": "code",
      "execution_count": null,
      "metadata": {
        "id": "X1tWyz-2vM60"
      },
      "outputs": [],
      "source": [
        "# Split the data into train and test sets\n",
        "x_train, x_test, y_train, y_test = train_test_split(x, y, test_size=.25, random_state=41, stratify=y)\n",
        "\n",
        "# Standardize the features using StandardScaler\n",
        "scaler = StandardScaler()\n",
        "x_train = scaler.fit_transform(x_train)\n",
        "x_test = scaler.transform(x_test)\n"
      ]
    },
    {
      "cell_type": "code",
      "execution_count": null,
      "metadata": {
        "id": "kCHh6-KxvTLJ"
      },
      "outputs": [],
      "source": [
        "\n",
        "# Convert features into dataframes\n",
        "x_train = pd.DataFrame(x_train)\n",
        "x_test = pd.DataFrame(x_test)\n",
        "\n",
        "# Reshape features to be compatible with Conv1D input shape\n",
        "x_train_array = x_train.to_numpy()\n",
        "x_test_array = x_test.to_numpy()\n",
        "x_train_reshaped = x_train_array.reshape(x_train_array.shape[0], x_train_array.shape[1], 1)\n",
        "x_test_reshaped = x_test_array.reshape(x_test_array.shape[0], x_test_array.shape[1], 1)"
      ]
    },
    {
      "cell_type": "code",
      "execution_count": null,
      "metadata": {
        "id": "K3RoxvQps13h"
      },
      "outputs": [],
      "source": [
        "# Define the hyperparameters\n",
        "epochs = 20  # Number of training epochs\n",
        "\n",
        "# Build the model architecture\n",
        "model = Sequential()  # Create a sequential model\n",
        "# First Conv1D layer\n",
        "model.add(Conv1D(32, 2, activation='relu', input_shape=x_train_reshaped.shape[1:]))\n",
        "# Add a Conv1D layer with 32 filters, kernel size of 2, and ReLU activation function\n",
        "model.add(BatchNormalization())  # Apply batch normalization to normalize the activations of the previous layer\n",
        "model.add(Dropout(0.2))  # Apply a dropout of 0.2 to prevent overfitting\n",
        "\n",
        "# Second Conv1D layer\n",
        "model.add(Conv1D(64, 2, activation='relu'))\n",
        "# Add another Conv1D layer with 64 filters, kernel size of 2, and ReLU activation function\n",
        "model.add(BatchNormalization())  # Apply batch normalization\n",
        "model.add(Dropout(0.5))  # Apply a dropout of 0.5\n",
        "\n",
        "# Flatten the layer\n",
        "model.add(Flatten())  # Flatten the multi-dimensional output into a vector\n",
        "\n",
        "model.add(Dense(64, activation='relu'))  # Add a fully connected layer with 64 units and ReLU activation\n",
        "model.add(Dropout(0.5))  # Apply a dropout of 0.5\n",
        "\n",
        "# Output layer\n",
        "model.add(Dense(1, activation='sigmoid'))  # Add a dense layer with 1 unit and sigmoid activation for binary classification\n",
        "# Compile the model\n",
        "model.compile(optimizer=Adam(lr=0.0001), loss='binary_crossentropy', metrics=['accuracy'])\n",
        "# Configure the model for training with Adam optimizer, binary cross-entropy loss function, and accuracy metric\n",
        "\n",
        "# Train the model\n",
        "model.fit(x_train_reshaped, y_train, epochs=epochs, validation_data=(x_test_reshaped, y_test), verbose=1)\n",
        "# Fit the model to the training data with specified epochs, using the validation data for evaluation, and print progress"
      ]
    },
    {
      "cell_type": "code",
      "execution_count": null,
      "metadata": {
        "colab": {
          "base_uri": "https://localhost:8080/"
        },
        "id": "9N8d4rb9s9_7",
        "outputId": "0821c135-2437-40fa-9fe6-bd2fec40588b"
      },
      "outputs": [
        {
          "name": "stderr",
          "output_type": "stream",
          "text": [
            "WARNING:absl:`lr` is deprecated in Keras optimizer, please use `learning_rate` or use the legacy optimizer, e.g.,tf.keras.optimizers.legacy.Adam.\n"
          ]
        },
        {
          "name": "stdout",
          "output_type": "stream",
          "text": [
            "Epoch 1/20\n",
            "24/24 [==============================] - 3s 35ms/step - loss: 0.3758 - accuracy: 0.8591 - val_loss: 0.4869 - val_accuracy: 0.9228\n",
            "Epoch 2/20\n",
            "24/24 [==============================] - 1s 21ms/step - loss: 0.2379 - accuracy: 0.9295 - val_loss: 0.4535 - val_accuracy: 0.9309\n",
            "Epoch 3/20\n",
            "24/24 [==============================] - 0s 19ms/step - loss: 0.1884 - accuracy: 0.9390 - val_loss: 0.4206 - val_accuracy: 0.9268\n",
            "Epoch 4/20\n",
            "24/24 [==============================] - 1s 22ms/step - loss: 0.1710 - accuracy: 0.9431 - val_loss: 0.3868 - val_accuracy: 0.9268\n",
            "Epoch 5/20\n",
            "24/24 [==============================] - 0s 21ms/step - loss: 0.2023 - accuracy: 0.9363 - val_loss: 0.3631 - val_accuracy: 0.9268\n",
            "Epoch 6/20\n",
            "24/24 [==============================] - 0s 21ms/step - loss: 0.1451 - accuracy: 0.9512 - val_loss: 0.3363 - val_accuracy: 0.9309\n",
            "Epoch 7/20\n",
            "24/24 [==============================] - 0s 21ms/step - loss: 0.1927 - accuracy: 0.9431 - val_loss: 0.3846 - val_accuracy: 0.8130\n",
            "Epoch 8/20\n",
            "24/24 [==============================] - 0s 20ms/step - loss: 0.1706 - accuracy: 0.9404 - val_loss: 0.3274 - val_accuracy: 0.8984\n",
            "Epoch 9/20\n",
            "24/24 [==============================] - 0s 14ms/step - loss: 0.1535 - accuracy: 0.9512 - val_loss: 0.2909 - val_accuracy: 0.9106\n",
            "Epoch 10/20\n",
            "24/24 [==============================] - 0s 14ms/step - loss: 0.1516 - accuracy: 0.9499 - val_loss: 0.2397 - val_accuracy: 0.9309\n",
            "Epoch 11/20\n",
            "24/24 [==============================] - 1s 31ms/step - loss: 0.1426 - accuracy: 0.9526 - val_loss: 0.2099 - val_accuracy: 0.9350\n",
            "Epoch 12/20\n",
            "24/24 [==============================] - 0s 13ms/step - loss: 0.1448 - accuracy: 0.9472 - val_loss: 0.2002 - val_accuracy: 0.9350\n",
            "Epoch 13/20\n",
            "24/24 [==============================] - 1s 25ms/step - loss: 0.1489 - accuracy: 0.9485 - val_loss: 0.1711 - val_accuracy: 0.9390\n",
            "Epoch 14/20\n",
            "24/24 [==============================] - 0s 18ms/step - loss: 0.1273 - accuracy: 0.9526 - val_loss: 0.1700 - val_accuracy: 0.9472\n",
            "Epoch 15/20\n",
            "24/24 [==============================] - 0s 13ms/step - loss: 0.1211 - accuracy: 0.9621 - val_loss: 0.1644 - val_accuracy: 0.9390\n",
            "Epoch 16/20\n",
            "24/24 [==============================] - 1s 28ms/step - loss: 0.1294 - accuracy: 0.9485 - val_loss: 0.1660 - val_accuracy: 0.9390\n",
            "Epoch 17/20\n",
            "24/24 [==============================] - 0s 14ms/step - loss: 0.1114 - accuracy: 0.9607 - val_loss: 0.1537 - val_accuracy: 0.9390\n",
            "Epoch 18/20\n",
            "24/24 [==============================] - 0s 12ms/step - loss: 0.1269 - accuracy: 0.9526 - val_loss: 0.1668 - val_accuracy: 0.9350\n",
            "Epoch 19/20\n",
            "24/24 [==============================] - 0s 13ms/step - loss: 0.1241 - accuracy: 0.9566 - val_loss: 0.1500 - val_accuracy: 0.9350\n",
            "Epoch 20/20\n",
            "24/24 [==============================] - 0s 13ms/step - loss: 0.1274 - accuracy: 0.9566 - val_loss: 0.1520 - val_accuracy: 0.9390\n"
          ]
        },
        {
          "data": {
            "text/plain": [
              "<keras.callbacks.History at 0x7f394a55f4c0>"
            ]
          },
          "execution_count": 84,
          "metadata": {},
          "output_type": "execute_result"
        }
      ],
      "source": [
        "# Compile the model\n",
        "model.compile(optimizer=Adam(lr=0.0001), loss='binary_crossentropy', metrics=['accuracy'])\n",
        "# Configure the model for training with Adam optimizer, binary cross-entropy loss function, and accuracy metric\n",
        "\n",
        "# Train the model\n",
        "model.fit(x_train_reshaped, y_train, epochs=epochs, validation_data=(x_test_reshaped, y_test), verbose=1)\n",
        "# Fit the model to the training data with specified epochs, using the validation data for evaluation, and print progress"
      ]
    },
    {
      "cell_type": "code",
      "execution_count": null,
      "metadata": {
        "colab": {
          "base_uri": "https://localhost:8080/"
        },
        "id": "M3OoyAI3s-03",
        "outputId": "8b556cc3-2e5e-41de-9dbc-cd5d09c3c28e"
      },
      "outputs": [
        {
          "name": "stdout",
          "output_type": "stream",
          "text": [
            "8/8 [==============================] - 0s 5ms/step\n",
            "Rounded Predictions:\n",
            "[0.43 1.   0.35 1.   0.5  0.85 0.03 1.   1.   0.01 0.89 0.95 0.48 1.\n",
            " 0.22 1.   0.   0.07 0.37 1.   0.06 0.04 1.   1.   1.   0.75 0.09 0.06\n",
            " 1.   1.   0.05 1.   0.04 0.02 0.87 1.   0.04 0.1  0.07 0.03 1.   0.08\n",
            " 0.15 0.1  0.1  0.04 1.   0.01 1.   1.   0.49 1.   0.02 0.04 0.01 0.43\n",
            " 1.   1.   0.18 1.   0.78 0.33 1.   0.07 1.   0.01 0.01 0.14 0.8  0.02\n",
            " 1.   0.08 0.03 0.11 0.12 1.   1.   0.02 0.2  0.04 0.6  0.03 1.   0.06\n",
            " 1.   0.01 0.01 1.   1.   1.   1.   1.   1.   1.   1.   1.   0.04 0.16\n",
            " 1.   0.95 0.01 0.04 0.01 0.02 1.   0.02 1.   1.   0.7  1.   1.   0.07\n",
            " 1.   0.03 0.04 0.02 1.   1.   0.01 0.09 1.   0.15 1.   1.   1.   0.01\n",
            " 1.   0.04 0.28 0.01 0.56 0.11 0.41 1.   1.   0.03 1.   0.04 0.02 1.\n",
            " 1.   0.04 0.05 0.22 0.05 1.   0.88 0.08 1.   1.   1.   1.   1.   0.22\n",
            " 1.   1.   1.   1.   0.15 1.   0.04 0.04 0.02 1.   1.   1.   1.   0.03\n",
            " 1.   1.   0.19 1.   0.06 0.57 0.08 0.02 0.09 1.   0.15 0.01 1.   1.\n",
            " 1.   0.05 1.   0.02 0.03 0.03 0.01 0.02 0.01 1.   1.   0.03 0.   0.19\n",
            " 1.   0.05 1.   0.02 1.   0.19 1.   0.33 0.22 0.36 0.04 0.08 0.15 0.08\n",
            " 0.02 1.   0.08 0.99 0.07 1.   1.   1.   1.   1.   1.   1.   0.42 0.09\n",
            " 0.08 1.   1.   0.3  0.03 0.1  0.02 1.   0.09 1.   0.01 0.01 1.   0.11\n",
            " 1.   0.32 0.06 1.   0.99 1.   1.   0.03]\n",
            "Predicted Labels:\n",
            "[0, 1, 0, 1, 0, 1, 0, 1, 1, 0, 1, 1, 0, 1, 0, 1, 0, 0, 0, 1, 0, 0, 1, 1, 1, 1, 0, 0, 1, 1, 0, 1, 0, 0, 1, 1, 0, 0, 0, 0, 1, 0, 0, 0, 0, 0, 1, 0, 1, 1, 0, 1, 0, 0, 0, 0, 1, 1, 0, 1, 1, 0, 1, 0, 1, 0, 0, 0, 1, 0, 1, 0, 0, 0, 0, 1, 1, 0, 0, 0, 1, 0, 1, 0, 1, 0, 0, 1, 1, 1, 1, 1, 1, 1, 1, 1, 0, 0, 1, 1, 0, 0, 0, 0, 1, 0, 1, 1, 1, 1, 1, 0, 1, 0, 0, 0, 1, 1, 0, 0, 1, 0, 1, 1, 1, 0, 1, 0, 0, 0, 1, 0, 0, 1, 1, 0, 1, 0, 0, 1, 1, 0, 0, 0, 0, 1, 1, 0, 1, 1, 1, 1, 1, 0, 1, 1, 1, 1, 0, 1, 0, 0, 0, 1, 1, 1, 1, 0, 1, 1, 0, 1, 0, 1, 0, 0, 0, 1, 0, 0, 1, 1, 1, 0, 1, 0, 0, 0, 0, 0, 0, 1, 1, 0, 0, 0, 1, 0, 1, 0, 1, 0, 1, 0, 0, 0, 0, 0, 0, 0, 0, 1, 0, 1, 0, 1, 1, 1, 1, 1, 1, 1, 0, 0, 0, 1, 1, 0, 0, 0, 0, 1, 0, 1, 0, 0, 1, 0, 1, 0, 0, 1, 1, 1, 1, 0]\n",
            "Confusion Matrix:\n",
            "[[118   5]\n",
            " [ 10 113]]\n",
            "Classification Report:\n",
            "              precision    recall  f1-score   support\n",
            "\n",
            "           0       0.92      0.96      0.94       123\n",
            "           1       0.96      0.92      0.94       123\n",
            "\n",
            "    accuracy                           0.94       246\n",
            "   macro avg       0.94      0.94      0.94       246\n",
            "weighted avg       0.94      0.94      0.94       246\n",
            "\n"
          ]
        }
      ],
      "source": [
        "# Make predictions\n",
        "predictions = model.predict(x_test_reshaped)\n",
        "predictions = predictions.flatten()\n",
        "\n",
        "# Round predictions\n",
        "rounded_predictions = predictions.round(2)\n",
        "\n",
        "# Convert probabilities to labels using threshold of 0.5\n",
        "predicted_labels = [1 if pred > 0.5 else 0 for pred in rounded_predictions]\n",
        "\n",
        "# Generate confusion matrix and classification report\n",
        "confusion_matrix_results = confusion_matrix(y_test, predicted_labels)\n",
        "classification_report_results = classification_report(y_test, predicted_labels)\n",
        "\n",
        "# Print the results\n",
        "print(\"Rounded Predictions:\")\n",
        "print(rounded_predictions)\n",
        "print(\"Predicted Labels:\")\n",
        "print(predicted_labels)\n",
        "print(\"Confusion Matrix:\")\n",
        "print(confusion_matrix_results)\n",
        "print(\"Classification Report:\")\n",
        "print(classification_report_results)"
      ]
    },
    {
      "cell_type": "code",
      "execution_count": null,
      "metadata": {
        "id": "UEV_xRKbQaCS"
      },
      "outputs": [],
      "source": [
        "#%%shell\n",
        "#jupyter nbconvert --to html --TemplateExporter.exclude_input=True projectfinal_\\(2\\).ipynb"
      ]
    },
    {
      "cell_type": "markdown",
      "metadata": {
        "id": "snZeN9IeV3aZ"
      },
      "source": [
        "jupyter notebook for explorting dachboard as html"
      ]
    },
    {
      "cell_type": "code",
      "execution_count": null,
      "metadata": {
        "colab": {
          "base_uri": "https://localhost:8080/",
          "height": 669
        },
        "id": "RZRR1SWbPgkD",
        "outputId": "40a89fcd-06fe-411f-a2ab-6fc20b47c243"
      },
      "outputs": [
        {
          "output_type": "stream",
          "name": "stderr",
          "text": [
            "<ipython-input-12-602c5dc52a7c>:29: FutureWarning: this method is deprecated in favour of `Styler.hide(axis=\"index\")`\n",
            "  styled_table_1 = output_table_1.style.hide_index().set_properties(**{'text-align': 'center'})\n",
            "<ipython-input-12-602c5dc52a7c>:45: FutureWarning: this method is deprecated in favour of `Styler.hide(axis=\"index\")`\n",
            "  styled_table_2 = output_table_2.style.hide_index().set_properties(**{'text-align': 'center'})\n",
            "<ipython-input-12-602c5dc52a7c>:62: FutureWarning: this method is deprecated in favour of `Styler.hide(axis=\"index\")`\n",
            "  styled_table_3 = output_table_3.style.hide_index().set_properties(**{'text-align': 'center'})\n",
            "<ipython-input-12-602c5dc52a7c>:168: FutureWarning: this method is deprecated in favour of `Styler.to_html()`\n",
            "  html_content += styled_table_1.render()\n",
            "<ipython-input-12-602c5dc52a7c>:172: FutureWarning: this method is deprecated in favour of `Styler.to_html()`\n",
            "  html_content += styled_table_2.render()\n",
            "<ipython-input-12-602c5dc52a7c>:176: FutureWarning: this method is deprecated in favour of `Styler.to_html()`\n",
            "  html_content += styled_table_3.render()\n"
          ]
        },
        {
          "output_type": "display_data",
          "data": {
            "text/plain": [
              "<IPython.core.display.HTML object>"
            ],
            "text/html": [
              "<a href=\"./dashboard.html\" target=\"_blank\">Open Dashboard</a>"
            ]
          },
          "metadata": {}
        },
        {
          "output_type": "display_data",
          "data": {
            "text/plain": [
              "<Figure size 1000x600 with 1 Axes>"
            ],
            "image/png": "[encoded data removed]"
          },
          "metadata": {}
        }
      ],
      "source": [
        "#jupyter notebook for explorting dachboard as html\n",
        "# the html display for the html\n",
        "from IPython.display import display, HTML\n",
        "import pandas as pd\n",
        "import numpy as np\n",
        "#the import for the graph the plot\n",
        "import matplotlib.pyplot as plt\n",
        "#the import to convert png to base64 to display in the html dasboard\n",
        "import base64\n",
        "\n",
        "\n",
        "\n",
        "# ANN Cell Table Output:\n",
        "# the output title diplays in html\n",
        "output_title_1 = \"ANN Table Output\"\n",
        "#the displayed table\n",
        "output_table_1 = pd.DataFrame({\n",
        "\n",
        "    '':              ['precision',    'recall',    'f1-score'],\n",
        "\n",
        "    '0':             [0.93,             0.97,         0.95   ],\n",
        "\n",
        "    '1':             [0.97,              0.91,        0.94   ],\n",
        "\n",
        "    'accuracy':      ['',                 '',         0.94   ],\n",
        "})\n",
        "\n",
        "# for styling in the .html\n",
        "styled_table_1 = output_table_1.style.hide_index().set_properties(**{'text-align': 'center'})\n",
        "\n",
        "\n",
        "# CNN Cell Table Output:\n",
        "output_title_2 = \"CNN Table Output\"\n",
        "output_table_2 = pd.DataFrame({\n",
        "\n",
        "    '':             ['precision',       'recall',       'f1-score'],\n",
        "\n",
        "    '0':            [0.91,                 0.95,           0.93   ],\n",
        "\n",
        "    '1':            [0.95,                 0.91,           0.93   ],\n",
        "\n",
        "    'accuracy':     ['',                    '',            0.93   ],\n",
        "})\n",
        "\n",
        "styled_table_2 = output_table_2.style.hide_index().set_properties(**{'text-align': 'center'})\n",
        "\n",
        "\n",
        "# SVM Cell Table Output:\n",
        "\n",
        "output_title_3 = \"SVM Table Output\"\n",
        "output_table_3 = pd.DataFrame({\n",
        "\n",
        "    '':             ['precision',      'recall',      'f1-score' ],\n",
        "\n",
        "    '0':            [0.89,               1.00,           0.94   ],\n",
        "\n",
        "    '1':            [1.00,               0.87,           0.93    ],\n",
        "\n",
        "    'accuracy':     ['',                 '',             0.94    ],\n",
        "})\n",
        "\n",
        "styled_table_3 = output_table_3.style.hide_index().set_properties(**{'text-align': 'center'})\n",
        "\n",
        "\n",
        "# SVM Cell Graph\n",
        "\n",
        "output_title_4 = \"MODEL COMPARING\"\n",
        "# you get to upload the picture of the graph and name it like model.png to avoid bugs\n",
        "graph_picture_path = 'model.png'\n",
        "\n",
        "# ... Rest of the code for generating the graph ...\n",
        "# Precision, Recall, and F1-score values for each model\n",
        "precision_model1 = [0.94 , 0.91]\n",
        "recall_model1 = [ 0.92, 0.93]\n",
        "f1_score_model1 = [0.93 , 0.92]\n",
        "\n",
        "precision_model2 = [0.94, 0.97]\n",
        "recall_model2 = [0.98, 0.93]\n",
        "f1_score_model2 = [ 0.96 , 0.95 ]\n",
        "\n",
        "precision_model3 = [0.89, 1.00]\n",
        "recall_model3 = [1.00, 0.87]\n",
        "f1_score_model3 = [0.94, 0.93]\n",
        "\n",
        "# Labels for the classes\n",
        "labels = ['Not Fraud', 'Fraud']\n",
        "\n",
        "# Model names\n",
        "model_names = ['ANN', 'CNN', 'SVM']\n",
        "\n",
        "# Width of each bar\n",
        "bar_width = 0.2\n",
        "\n",
        "# Position of bars on the x-axis\n",
        "r1 = np.arange(len(precision_model1))\n",
        "r2 = [x + bar_width for x in r1]\n",
        "r3 = [x + bar_width for x in r2]\n",
        "\n",
        "# Colors for the bars\n",
        "precision_color = '#FFB6C1'\n",
        "recall_color = '#FFDAB9'\n",
        "f1_score_color = '#FFE4E1'\n",
        "\n",
        "# Plotting the diagram\n",
        "fig, ax = plt.subplots(figsize=(10, 6))\n",
        "\n",
        "# Plotting the bars for each model\n",
        "plt.bar(r1, precision_model1, color=precision_color, width=bar_width, edgecolor='white', label='Precision')\n",
        "plt.bar(r2, precision_model2, color=precision_color, width=bar_width, edgecolor='white')\n",
        "plt.bar(r3, precision_model3, color=precision_color, width=bar_width, edgecolor='white')\n",
        "\n",
        "plt.bar(r1, recall_model1, color=recall_color, width=bar_width, edgecolor='white', hatch='//', label='Recall')\n",
        "plt.bar(r2, recall_model2, color=recall_color, width=bar_width, edgecolor='white', hatch='..')\n",
        "plt.bar(r3, recall_model3, color=recall_color, width=bar_width, edgecolor='white', hatch='\\\\\\\\')\n",
        "\n",
        "plt.bar(r1, f1_score_model1, color=f1_score_color, width=bar_width, edgecolor='white', label='F1-score')\n",
        "plt.bar(r2, f1_score_model2, color=f1_score_color, width=bar_width, edgecolor='white', hatch='..')\n",
        "plt.bar(r3, f1_score_model3, color=f1_score_color, width=bar_width, edgecolor='white', hatch='...')\n",
        "\n",
        "# Adding labels, tick labels, and legend\n",
        "plt.xlabel('Class')\n",
        "plt.ylabel('Score')\n",
        "plt.title('Model Comparison - Precision, Recall, and F1-score')\n",
        "plt.xticks([r + bar_width for r in range(len(precision_model1))], labels)\n",
        "plt.legend(model_names)\n",
        "\n",
        "# Add parameter names to each bar\n",
        "for i, p in enumerate(precision_model1):\n",
        "    plt.text(i - 0.1, p + 0.01, str(p), color='black')\n",
        "\n",
        "for i, r in enumerate(recall_model1):\n",
        "    plt.text(i - 0.1, r + 0.01, str(r), color='black')\n",
        "for i, f in enumerate(f1_score_model1):\n",
        "     plt.text(i - 0.1, f + 0.01, str(f), color='black')\n",
        "\n",
        "for i, p in enumerate(precision_model2):\n",
        "    plt.text(i + bar_width - 0.1, p + 0.01, str(p), color='black')\n",
        "\n",
        "for i, r in enumerate(recall_model2):\n",
        "    plt.text(i + bar_width - 0.1, r + 0.01, str(r), color='black')\n",
        "\n",
        "for i, f in enumerate(f1_score_model2):\n",
        "    plt.text(i + bar_width - 0.1, f + 0.01, str(f), color='black')\n",
        "\n",
        "for i, p in enumerate(precision_model3):\n",
        "    plt.text(i + 2 * bar_width - 0.1, p + 0.01, str(p), color='black')\n",
        "\n",
        "for i, r in enumerate(recall_model3):\n",
        "    plt.text(i + 2 * bar_width - 0.1, r + 0.01, str(r), color='black')\n",
        "\n",
        "for i, f in enumerate(f1_score_model3):\n",
        "    plt.text(i + 2 * bar_width - 0.1, f + 0.01, str(f), color='black')\n",
        "\n",
        "\n",
        "# Converting the image file to base64\n",
        "with open(graph_picture_path, \"rb\") as image_file:\n",
        "\n",
        "    encoded_image = base64.b64encode(image_file.read()).decode(\"utf-8\")\n",
        "\n",
        "\n",
        "# Creating the image tag with base64 encoded image\n",
        "image_tag = f\"<img src='data:image/png;base64, {encoded_image}' />\"\n",
        "\n",
        "# Combining all the outputs into HTML content\n",
        "\n",
        "html_content = f\"<h2>{output_title_1}</h2>\"\n",
        "\n",
        "html_content += styled_table_1.render()\n",
        "\n",
        "html_content += f\"<h2>{output_title_2}</h2>\"\n",
        "\n",
        "html_content += styled_table_2.render()\n",
        "\n",
        "html_content += f\"<h2>{output_title_3}</h2>\"\n",
        "\n",
        "html_content += styled_table_3.render()\n",
        "\n",
        "html_content += f\"<h2>{output_title_4}</h2>\"\n",
        "\n",
        "html_content += image_tag\n",
        "\n",
        "# Writing the HTML content to a file so allof the cell content will be display it as HTML\n",
        "\n",
        "with open('dashboard.html', 'w') as f:\n",
        "\n",
        "    f.write(html_content)\n",
        "\n",
        "# Displaying a link to the HTML file\n",
        "\n",
        "display(HTML('<a href=\"./dashboard.html\" target=\"_blank\">Open Dashboard</a>'))"
      ]
    },
    {
      "cell_type": "code",
      "execution_count": null,
      "metadata": {
        "id": "D0EVhONPQAjt"
      },
      "outputs": [],
      "source": []
    }
  ],
  "metadata": {
    "colab": {
      "provenance": []
    },
    "kernelspec": {
      "display_name": "Python 3",
      "name": "python3"
    },
    "language_info": {
      "name": "python"
    }
  },
  "nbformat": 4,
  "nbformat_minor": 0
}